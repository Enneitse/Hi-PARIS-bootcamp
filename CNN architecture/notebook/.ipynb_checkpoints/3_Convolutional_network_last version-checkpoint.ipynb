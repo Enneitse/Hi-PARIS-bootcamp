{
 "cells": [
  {
   "cell_type": "markdown",
   "metadata": {
    "deletable": false,
    "editable": false,
    "run_control": {
     "frozen": true
    }
   },
   "source": [
    "<br>\n",
    "<body>\n",
    "    <center><img src=\"../src/figures/Hi!PARIS_logo_bleu.png\" style=\"width:50%;height:auto\"></center>\n",
    "    <p style=\"font-size:50px;text-align:center; color:#004475\"><b><span style=\"color: #e61853\">Hi!</span>ckathon 2</b></p><br>\n",
    "    <p style=\"font-size:35px;text-align:center; color:#004475\">Week 3 : Convolutionnal Neural Network</p>\n",
    "    <p style=\"font-size:25px;text-align:center; color:#004475\">Estimated duration : 2-3h</p><br>\n",
    "    <br><p style=\"font-size:15px;text-align:left; color:#004475\"><b>Authors : KA Alioune, IHADDADENE Mohamed, VENET Thibault</b></p><br>\n",
    "</body>\n",
    "<br>"
   ]
  },
  {
   "cell_type": "markdown",
   "metadata": {
    "deletable": false,
    "editable": false,
    "run_control": {
     "frozen": true
    }
   },
   "source": [
    "<br>\n",
    "<p style=\"font-size:30px;color:#004475\">I. About this notebook</p>\n",
    "<br>"
   ]
  },
  {
   "cell_type": "markdown",
   "metadata": {
    "deletable": false,
    "editable": false,
    "run_control": {
     "frozen": true
    }
   },
   "source": [
    "<p style=\"text-align: justify;text-indent: 30px\">\n",
    "    In this part of the training, we will address three essential elements in deep learning or more generally in machine learning: \n",
    "    \n",
    "- Understand what is the Perceptron model\n",
    "- The different layer to construct a Convolutionnal Neural Network\n",
    "- The basics principle of segmentation and regionalisation\n",
    "    \n",
    "</p><br>\n",
    "    \n",
    "<b>N.B. :</b> Don't forget to execute the cells containing code ;)"
   ]
  },
  {
   "cell_type": "code",
   "execution_count": 1,
   "metadata": {
    "deletable": false,
    "editable": false
   },
   "outputs": [],
   "source": [
    "import tensorflow as tf \n",
    "import matplotlib.pyplot as plt \n",
    "from sklearn.datasets import make_regression\n",
    "import numpy as np\n",
    "from tensorflow.keras import Sequential\n",
    "from tensorflow.keras.layers import Dense, Flatten, Conv2D, MaxPooling2D, GlobalAveragePooling2D, Dropout\n",
    "from tensorflow.keras.datasets.fashion_mnist import load_data\n",
    "from sklearn.metrics import confusion_matrix\n",
    "import seaborn as sns \n",
    "from tensorflow.keras.optimizers import Adam\n",
    "from tensorflow.keras.applications.vgg16 import preprocess_input, VGG16\n",
    "from sklearn.model_selection import train_test_split\n",
    "from IPython.display import IFrame"
   ]
  },
  {
   "cell_type": "markdown",
   "metadata": {
    "deletable": false,
    "editable": false,
    "run_control": {
     "frozen": true
    }
   },
   "source": [
    "<br>\n",
    "<p style=\"font-size:30px;color:#004475\">II. Perceptron </p>\n",
    "<br>"
   ]
  },
  {
   "cell_type": "markdown",
   "metadata": {
    "deletable": false,
    "editable": false,
    "run_control": {
     "frozen": true
    }
   },
   "source": [
    "<br>\n",
    "<p style=\"text-align: justify;text-indent: 30px\"> Perceptron is a model known for replicate the functionning of a biological neurone. Indeed biological neurons have a control center (called a somatic cell) that sums up the information collected by the dendrites. Then, the control center returns an action potential following the following rules:</p>\n",
    "\n",
    "- If the input sum does not exceed the excitation threshold: no nerve message via the axon.\n",
    "- If the input sum exceeds the excitation threshold: a nerve message is emitted via the axon (this is the idea, but in reality a little more complicated).\n",
    "\n",
    "\n",
    "<br>\n",
    "<p style=\"text-align: justify;text-indent: 30px\"> The Perceptron model works like this: it takes inputs and for each input associates a weight, then it realizes a linear combination to which it applies an activation function. This is the mathematical definition of the output of the model :</p>\n",
    "\n",
    "<br>\n",
    "<center>\n",
    "$Output = \\sigma(b + \\sum_{i=0}^{n}{w_i\\cdot{x_i}}) = \\sigma(b + <w|x>)$\n",
    "</center>    \n",
    "</br>  \n",
    "\n",
    "Where : \n",
    "- **$x_i$** the inputs of the model. The x vector is named as the input vector. \n",
    "- **$w_i$** each weight associated to $x_i$. The w vector is named as the weights vector.\n",
    "- **$\\sigma$** the heaviside function. \n",
    "- **$b$** the bias. \n",
    "\n",
    "The heaviside function is defined like this : \n",
    "$$\n",
    "\\begin{split} heaviside(x)=\\begin{cases}1 \\textrm{ if } x>0 \\\\ 0 \\textrm{ if } x\\leq0.\\end{cases}\\end{split}\n",
    "$$</p><br>\n",
    "\n",
    "This is a very simple binary classifier which ensure you that if your data are linearly separable, this model converge to a solution.\n",
    "\n",
    "The figure below present the model :     \n",
    "<a>\n",
    "    <img src=\"../src/figures/perceptron.png\" width=\"700\" height=\"380\">\n",
    "</a>\n",
    "\n",
    "<br>\n",
    "<p style=\"text-align: justify;text-indent: 30px\"> Let's considering that we want to predict a continuous variable using a perceptron, we need to consider the identity function rather than the heaviside function in order to get a simple linear model. Generally with this kind of model we try to optimize the weights to minimize a loss function like mean squared error. We have two strategies on how we could find these optimal weights : </p>\n",
    "\n",
    "- Solving the least squares problem and finding the explicit solution. \n",
    "- Training our model and optimizing the weights and bias using an optimizing algorithm such as **Gradient Descent** regarding our loss function. This strategy differs with the method used in the perceptron model. \n",
    "\n",
    "<p style=\"text-align: justify\"> <b>keras</b>, a Deep Learning library, is using the second stategy and we will see how to implement it. First let's define a random dataset on which we will work.</p>"
   ]
  },
  {
   "cell_type": "code",
   "execution_count": 2,
   "metadata": {
    "deletable": false,
    "editable": false
   },
   "outputs": [
    {
     "data": {
      "text/plain": [
       "((100, 1), (100,))"
      ]
     },
     "execution_count": 2,
     "metadata": {},
     "output_type": "execute_result"
    }
   ],
   "source": [
    "X, y = make_regression(n_samples=100, \n",
    "                       n_features=1,\n",
    "                       n_informative=1,\n",
    "                       noise = 24,\n",
    "                       random_state=123)\n",
    "#X = np.squeeze(X)\n",
    "\n",
    "X.shape, y.shape"
   ]
  },
  {
   "cell_type": "markdown",
   "metadata": {
    "deletable": false,
    "editable": false,
    "run_control": {
     "frozen": true
    }
   },
   "source": [
    "<p style=\"text-align: justify\"> We are trying to find to optimal weights and bias associated to minimize the loss function, mean squared error :</p>\n",
    "\n",
    "<br>\n",
    "<center>\n",
    "    $\\frac{1}{n}\\sum_{i=1}^{n}{(y_i - \\hat{y_i})^2}$\n",
    "</center>\n",
    "\n",
    "<p style=\"text-align: justify;text-indent: 30px\"> \n",
    "    First using the method <b>Sequential</b> we instantiate a model and then add a Dense layer with one neurone and  <b>linear</b> as an activation function. The <b>compile</b> method is used to define our optimizer and our loss function. The <b>fit</b> method is used to train the model specifying the number of epochs and the size of the batches.</p>  "
   ]
  },
  {
   "cell_type": "code",
   "execution_count": 3,
   "metadata": {
    "deletable": false,
    "editable": false
   },
   "outputs": [
    {
     "name": "stdout",
     "output_type": "stream",
     "text": [
      "Epoch 1/100\n",
      "4/4 [==============================] - 1s 5ms/step - loss: 1911.1763\n",
      "Epoch 2/100\n",
      "4/4 [==============================] - 0s 4ms/step - loss: 1878.4059\n",
      "Epoch 3/100\n",
      "4/4 [==============================] - 0s 3ms/step - loss: 1846.8862\n",
      "Epoch 4/100\n",
      "4/4 [==============================] - 0s 4ms/step - loss: 1814.3672\n",
      "Epoch 5/100\n",
      "4/4 [==============================] - 0s 4ms/step - loss: 1784.4229\n",
      "Epoch 6/100\n",
      "4/4 [==============================] - 0s 5ms/step - loss: 1756.1770\n",
      "Epoch 7/100\n",
      "4/4 [==============================] - 0s 4ms/step - loss: 1726.4012\n",
      "Epoch 8/100\n",
      "4/4 [==============================] - 0s 6ms/step - loss: 1697.5532\n",
      "Epoch 9/100\n",
      "4/4 [==============================] - 0s 4ms/step - loss: 1668.5409\n",
      "Epoch 10/100\n",
      "4/4 [==============================] - 0s 4ms/step - loss: 1640.2427\n",
      "Epoch 11/100\n",
      "4/4 [==============================] - 0s 4ms/step - loss: 1612.9917\n",
      "Epoch 12/100\n",
      "4/4 [==============================] - 0s 4ms/step - loss: 1585.7013\n",
      "Epoch 13/100\n",
      "4/4 [==============================] - 0s 4ms/step - loss: 1559.8409\n",
      "Epoch 14/100\n",
      "4/4 [==============================] - 0s 4ms/step - loss: 1533.2362\n",
      "Epoch 15/100\n",
      "4/4 [==============================] - 0s 4ms/step - loss: 1507.7089\n",
      "Epoch 16/100\n",
      "4/4 [==============================] - 0s 4ms/step - loss: 1482.8911\n",
      "Epoch 17/100\n",
      "4/4 [==============================] - 0s 4ms/step - loss: 1458.0579\n",
      "Epoch 18/100\n",
      "4/4 [==============================] - 0s 4ms/step - loss: 1432.6626\n",
      "Epoch 19/100\n",
      "4/4 [==============================] - 0s 4ms/step - loss: 1407.3356\n",
      "Epoch 20/100\n",
      "4/4 [==============================] - 0s 4ms/step - loss: 1382.5803\n",
      "Epoch 21/100\n",
      "4/4 [==============================] - 0s 4ms/step - loss: 1359.5613\n",
      "Epoch 22/100\n",
      "4/4 [==============================] - 0s 4ms/step - loss: 1337.6277\n",
      "Epoch 23/100\n",
      "4/4 [==============================] - 0s 4ms/step - loss: 1314.5540\n",
      "Epoch 24/100\n",
      "4/4 [==============================] - 0s 4ms/step - loss: 1293.3169\n",
      "Epoch 25/100\n",
      "4/4 [==============================] - 0s 4ms/step - loss: 1273.1737\n",
      "Epoch 26/100\n",
      "4/4 [==============================] - 0s 4ms/step - loss: 1252.8928\n",
      "Epoch 27/100\n",
      "4/4 [==============================] - 0s 4ms/step - loss: 1234.0448\n",
      "Epoch 28/100\n",
      "4/4 [==============================] - 0s 4ms/step - loss: 1215.0737\n",
      "Epoch 29/100\n",
      "4/4 [==============================] - 0s 4ms/step - loss: 1195.3400\n",
      "Epoch 30/100\n",
      "4/4 [==============================] - 0s 4ms/step - loss: 1177.7640\n",
      "Epoch 31/100\n",
      "4/4 [==============================] - 0s 4ms/step - loss: 1159.5424\n",
      "Epoch 32/100\n",
      "4/4 [==============================] - 0s 4ms/step - loss: 1141.7698\n",
      "Epoch 33/100\n",
      "4/4 [==============================] - 0s 4ms/step - loss: 1122.9258\n",
      "Epoch 34/100\n",
      "4/4 [==============================] - 0s 4ms/step - loss: 1104.7012\n",
      "Epoch 35/100\n",
      "4/4 [==============================] - 0s 4ms/step - loss: 1087.0878\n",
      "Epoch 36/100\n",
      "4/4 [==============================] - 0s 4ms/step - loss: 1070.5917\n",
      "Epoch 37/100\n",
      "4/4 [==============================] - 0s 4ms/step - loss: 1053.7773\n",
      "Epoch 38/100\n",
      "4/4 [==============================] - 0s 4ms/step - loss: 1036.6740\n",
      "Epoch 39/100\n",
      "4/4 [==============================] - 0s 4ms/step - loss: 1020.8279\n",
      "Epoch 40/100\n",
      "4/4 [==============================] - 0s 4ms/step - loss: 1006.2659\n",
      "Epoch 41/100\n",
      "4/4 [==============================] - 0s 4ms/step - loss: 989.8735\n",
      "Epoch 42/100\n",
      "4/4 [==============================] - 0s 4ms/step - loss: 975.6708\n",
      "Epoch 43/100\n",
      "4/4 [==============================] - 0s 4ms/step - loss: 960.7904\n",
      "Epoch 44/100\n",
      "4/4 [==============================] - 0s 4ms/step - loss: 947.9003\n",
      "Epoch 45/100\n",
      "4/4 [==============================] - 0s 4ms/step - loss: 934.6113\n",
      "Epoch 46/100\n",
      "4/4 [==============================] - 0s 4ms/step - loss: 923.3068\n",
      "Epoch 47/100\n",
      "4/4 [==============================] - 0s 4ms/step - loss: 910.0623\n",
      "Epoch 48/100\n",
      "4/4 [==============================] - 0s 4ms/step - loss: 897.8085\n",
      "Epoch 49/100\n",
      "4/4 [==============================] - 0s 4ms/step - loss: 884.4424\n",
      "Epoch 50/100\n",
      "4/4 [==============================] - 0s 4ms/step - loss: 872.1376\n",
      "Epoch 51/100\n",
      "4/4 [==============================] - 0s 4ms/step - loss: 860.7087\n",
      "Epoch 52/100\n",
      "4/4 [==============================] - 0s 4ms/step - loss: 848.9302\n",
      "Epoch 53/100\n",
      "4/4 [==============================] - 0s 4ms/step - loss: 837.4422\n",
      "Epoch 54/100\n",
      "4/4 [==============================] - 0s 4ms/step - loss: 825.1014\n",
      "Epoch 55/100\n",
      "4/4 [==============================] - 0s 5ms/step - loss: 814.4966\n",
      "Epoch 56/100\n",
      "4/4 [==============================] - 0s 4ms/step - loss: 803.4717\n",
      "Epoch 57/100\n",
      "4/4 [==============================] - 0s 4ms/step - loss: 793.3868\n",
      "Epoch 58/100\n",
      "4/4 [==============================] - 0s 4ms/step - loss: 783.1866\n",
      "Epoch 59/100\n",
      "4/4 [==============================] - 0s 4ms/step - loss: 773.7798\n",
      "Epoch 60/100\n",
      "4/4 [==============================] - 0s 4ms/step - loss: 764.1287\n",
      "Epoch 61/100\n",
      "4/4 [==============================] - 0s 4ms/step - loss: 754.2225\n",
      "Epoch 62/100\n",
      "4/4 [==============================] - 0s 4ms/step - loss: 745.9033\n",
      "Epoch 63/100\n",
      "4/4 [==============================] - 0s 4ms/step - loss: 736.8713\n",
      "Epoch 64/100\n",
      "4/4 [==============================] - 0s 4ms/step - loss: 728.3677\n",
      "Epoch 65/100\n",
      "4/4 [==============================] - 0s 3ms/step - loss: 719.6973\n",
      "Epoch 66/100\n",
      "4/4 [==============================] - 0s 3ms/step - loss: 711.6417\n",
      "Epoch 67/100\n",
      "4/4 [==============================] - 0s 3ms/step - loss: 703.5516\n",
      "Epoch 68/100\n",
      "4/4 [==============================] - 0s 3ms/step - loss: 696.4753\n",
      "Epoch 69/100\n",
      "4/4 [==============================] - 0s 3ms/step - loss: 689.2679\n",
      "Epoch 70/100\n",
      "4/4 [==============================] - 0s 3ms/step - loss: 682.7234\n",
      "Epoch 71/100\n",
      "4/4 [==============================] - 0s 3ms/step - loss: 675.0901\n",
      "Epoch 72/100\n",
      "4/4 [==============================] - 0s 4ms/step - loss: 668.3052\n",
      "Epoch 73/100\n",
      "4/4 [==============================] - 0s 4ms/step - loss: 662.1958\n",
      "Epoch 74/100\n",
      "4/4 [==============================] - 0s 4ms/step - loss: 656.1489\n",
      "Epoch 75/100\n",
      "4/4 [==============================] - 0s 4ms/step - loss: 650.5637\n",
      "Epoch 76/100\n",
      "4/4 [==============================] - 0s 4ms/step - loss: 645.2570\n",
      "Epoch 77/100\n",
      "4/4 [==============================] - 0s 4ms/step - loss: 639.8680\n",
      "Epoch 78/100\n",
      "4/4 [==============================] - 0s 4ms/step - loss: 634.9407\n",
      "Epoch 79/100\n",
      "4/4 [==============================] - 0s 4ms/step - loss: 630.3409\n",
      "Epoch 80/100\n",
      "4/4 [==============================] - 0s 4ms/step - loss: 626.3257\n",
      "Epoch 81/100\n",
      "4/4 [==============================] - 0s 4ms/step - loss: 622.1272\n",
      "Epoch 82/100\n",
      "4/4 [==============================] - 0s 5ms/step - loss: 618.0617\n",
      "Epoch 83/100\n",
      "4/4 [==============================] - 0s 4ms/step - loss: 613.9431\n",
      "Epoch 84/100\n",
      "4/4 [==============================] - 0s 4ms/step - loss: 610.0069\n",
      "Epoch 85/100\n",
      "4/4 [==============================] - 0s 4ms/step - loss: 606.2466\n",
      "Epoch 86/100\n",
      "4/4 [==============================] - 0s 4ms/step - loss: 602.3185\n",
      "Epoch 87/100\n",
      "4/4 [==============================] - 0s 4ms/step - loss: 599.5438\n",
      "Epoch 88/100\n",
      "4/4 [==============================] - 0s 4ms/step - loss: 596.7570\n",
      "Epoch 89/100\n",
      "4/4 [==============================] - 0s 4ms/step - loss: 594.0446\n",
      "Epoch 90/100\n",
      "4/4 [==============================] - 0s 4ms/step - loss: 590.9145\n",
      "Epoch 91/100\n",
      "4/4 [==============================] - 0s 4ms/step - loss: 588.2863\n",
      "Epoch 92/100\n",
      "4/4 [==============================] - 0s 4ms/step - loss: 585.5115\n",
      "Epoch 93/100\n",
      "4/4 [==============================] - 0s 4ms/step - loss: 582.8901\n",
      "Epoch 94/100\n",
      "4/4 [==============================] - 0s 4ms/step - loss: 580.2430\n",
      "Epoch 95/100\n",
      "4/4 [==============================] - 0s 4ms/step - loss: 577.5579\n",
      "Epoch 96/100\n",
      "4/4 [==============================] - 0s 4ms/step - loss: 575.4242\n",
      "Epoch 97/100\n",
      "4/4 [==============================] - 0s 4ms/step - loss: 573.4257\n",
      "Epoch 98/100\n",
      "4/4 [==============================] - 0s 8ms/step - loss: 571.2596\n",
      "Epoch 99/100\n",
      "4/4 [==============================] - 0s 4ms/step - loss: 568.7654\n",
      "Epoch 100/100\n",
      "4/4 [==============================] - 0s 5ms/step - loss: 566.6390\n"
     ]
    },
    {
     "data": {
      "text/plain": [
       "<keras.callbacks.History at 0x7f8e9076e9d0>"
      ]
     },
     "execution_count": 3,
     "metadata": {},
     "output_type": "execute_result"
    }
   ],
   "source": [
    "#Defined our model\n",
    "model = Sequential()\n",
    "model.add(Dense(1, activation='linear', input_shape=(1,)))\n",
    "\n",
    "#compile the model\n",
    "model.compile(optimizer=Adam(1e-1), loss='mse')\n",
    "\n",
    "#Training our model\n",
    "model.fit(X, y, batch_size=32, epochs=100)"
   ]
  },
  {
   "cell_type": "markdown",
   "metadata": {
    "deletable": false,
    "editable": false,
    "run_control": {
     "frozen": true
    }
   },
   "source": [
    "<p style=\"text-align: justify\"> Let's evaluate the results of our model. </p>"
   ]
  },
  {
   "cell_type": "code",
   "execution_count": 4,
   "metadata": {
    "deletable": false,
    "editable": false
   },
   "outputs": [
    {
     "data": {
      "image/png": "[encoded data removed]",
      "text/plain": [
       "<Figure size 1080x360 with 1 Axes>"
      ]
     },
     "metadata": {
      "needs_background": "light"
     },
     "output_type": "display_data"
    }
   ],
   "source": [
    "import matplotlib.pyplot as plt\n",
    "X_test = np.linspace(min(X), max(X), 100)\n",
    "y_pred = model.predict(X_test)\n",
    "\n",
    "plt.figure(figsize=(15,5))\n",
    "plt.plot(X, y , '.', label='data')\n",
    "plt.plot(X_test, y_pred , '-', label='model',color='red')\n",
    "plt.xlabel('x')\n",
    "plt.ylabel('y')\n",
    "plt.legend();"
   ]
  },
  {
   "cell_type": "markdown",
   "metadata": {
    "deletable": false,
    "editable": false,
    "run_control": {
     "frozen": true
    },
    "solution2": "shown",
    "solution2_first": true
   },
   "source": [
    "<span style=\"color:#004475\"><b>Exercise 1 : Let's see if by improving the number of epochs you can improve and still decrease the value of our loss function during the training.</b>"
   ]
  },
  {
   "cell_type": "code",
   "execution_count": 5,
   "metadata": {
    "deletable": false,
    "editable": false,
    "solution2": "shown"
   },
   "outputs": [
    {
     "name": "stdout",
     "output_type": "stream",
     "text": [
      "Epoch 1/300\n",
      "4/4 [==============================] - 0s 3ms/step - loss: 2049.1609\n",
      "Epoch 2/300\n",
      "4/4 [==============================] - 0s 3ms/step - loss: 2013.1361\n",
      "Epoch 3/300\n",
      "4/4 [==============================] - 0s 3ms/step - loss: 1978.2900\n",
      "Epoch 4/300\n",
      "4/4 [==============================] - 0s 3ms/step - loss: 1946.4775\n",
      "Epoch 5/300\n",
      "4/4 [==============================] - 0s 4ms/step - loss: 1913.0647\n",
      "Epoch 6/300\n",
      "4/4 [==============================] - 0s 4ms/step - loss: 1879.9636\n",
      "Epoch 7/300\n",
      "4/4 [==============================] - 0s 4ms/step - loss: 1848.3158\n",
      "Epoch 8/300\n",
      "4/4 [==============================] - 0s 4ms/step - loss: 1816.7356\n",
      "Epoch 9/300\n",
      "4/4 [==============================] - 0s 4ms/step - loss: 1788.4714\n",
      "Epoch 10/300\n",
      "4/4 [==============================] - 0s 4ms/step - loss: 1758.6971\n",
      "Epoch 11/300\n",
      "4/4 [==============================] - 0s 4ms/step - loss: 1732.1929\n",
      "Epoch 12/300\n",
      "4/4 [==============================] - 0s 4ms/step - loss: 1703.6445\n",
      "Epoch 13/300\n",
      "4/4 [==============================] - 0s 4ms/step - loss: 1678.1101\n",
      "Epoch 14/300\n",
      "4/4 [==============================] - 0s 3ms/step - loss: 1649.7902\n",
      "Epoch 15/300\n",
      "4/4 [==============================] - 0s 3ms/step - loss: 1622.5361\n",
      "Epoch 16/300\n",
      "4/4 [==============================] - 0s 3ms/step - loss: 1597.5959\n",
      "Epoch 17/300\n",
      "4/4 [==============================] - 0s 3ms/step - loss: 1570.6266\n",
      "Epoch 18/300\n",
      "4/4 [==============================] - 0s 3ms/step - loss: 1548.0950\n",
      "Epoch 19/300\n",
      "4/4 [==============================] - 0s 3ms/step - loss: 1521.8168\n",
      "Epoch 20/300\n",
      "4/4 [==============================] - 0s 3ms/step - loss: 1498.4230\n",
      "Epoch 21/300\n",
      "4/4 [==============================] - 0s 3ms/step - loss: 1476.3711\n",
      "Epoch 22/300\n",
      "4/4 [==============================] - 0s 4ms/step - loss: 1452.6104\n",
      "Epoch 23/300\n",
      "4/4 [==============================] - 0s 4ms/step - loss: 1431.8510\n",
      "Epoch 24/300\n",
      "4/4 [==============================] - 0s 4ms/step - loss: 1408.6774\n",
      "Epoch 25/300\n",
      "4/4 [==============================] - 0s 4ms/step - loss: 1387.7310\n",
      "Epoch 26/300\n",
      "4/4 [==============================] - 0s 4ms/step - loss: 1365.0045\n",
      "Epoch 27/300\n",
      "4/4 [==============================] - 0s 4ms/step - loss: 1341.6925\n",
      "Epoch 28/300\n",
      "4/4 [==============================] - 0s 4ms/step - loss: 1319.2482\n",
      "Epoch 29/300\n",
      "4/4 [==============================] - 0s 4ms/step - loss: 1297.9602\n",
      "Epoch 30/300\n",
      "4/4 [==============================] - 0s 3ms/step - loss: 1278.3689\n",
      "Epoch 31/300\n",
      "4/4 [==============================] - 0s 3ms/step - loss: 1260.6405\n",
      "Epoch 32/300\n",
      "4/4 [==============================] - 0s 4ms/step - loss: 1240.6433\n",
      "Epoch 33/300\n",
      "4/4 [==============================] - 0s 4ms/step - loss: 1222.6210\n",
      "Epoch 34/300\n",
      "4/4 [==============================] - 0s 7ms/step - loss: 1204.1030\n",
      "Epoch 35/300\n",
      "4/4 [==============================] - 0s 4ms/step - loss: 1185.3138\n",
      "Epoch 36/300\n",
      "4/4 [==============================] - 0s 5ms/step - loss: 1167.0433\n",
      "Epoch 37/300\n",
      "4/4 [==============================] - 0s 4ms/step - loss: 1148.9448\n",
      "Epoch 38/300\n",
      "4/4 [==============================] - 0s 4ms/step - loss: 1130.6693\n",
      "Epoch 39/300\n",
      "4/4 [==============================] - 0s 4ms/step - loss: 1112.1323\n",
      "Epoch 40/300\n",
      "4/4 [==============================] - 0s 4ms/step - loss: 1095.4675\n",
      "Epoch 41/300\n",
      "4/4 [==============================] - 0s 4ms/step - loss: 1080.1655\n",
      "Epoch 42/300\n",
      "4/4 [==============================] - 0s 4ms/step - loss: 1065.2761\n",
      "Epoch 43/300\n",
      "4/4 [==============================] - 0s 4ms/step - loss: 1051.0386\n",
      "Epoch 44/300\n",
      "4/4 [==============================] - 0s 5ms/step - loss: 1036.1979\n",
      "Epoch 45/300\n",
      "4/4 [==============================] - 0s 4ms/step - loss: 1022.4860\n",
      "Epoch 46/300\n",
      "4/4 [==============================] - 0s 4ms/step - loss: 1008.6956\n",
      "Epoch 47/300\n",
      "4/4 [==============================] - 0s 4ms/step - loss: 995.2071\n",
      "Epoch 48/300\n",
      "4/4 [==============================] - 0s 4ms/step - loss: 979.8198\n",
      "Epoch 49/300\n",
      "4/4 [==============================] - 0s 4ms/step - loss: 965.8551\n",
      "Epoch 50/300\n",
      "4/4 [==============================] - 0s 4ms/step - loss: 951.4402\n",
      "Epoch 51/300\n",
      "4/4 [==============================] - 0s 4ms/step - loss: 938.9747\n",
      "Epoch 52/300\n",
      "4/4 [==============================] - 0s 5ms/step - loss: 927.2846\n",
      "Epoch 53/300\n",
      "4/4 [==============================] - 0s 4ms/step - loss: 915.1677\n",
      "Epoch 54/300\n",
      "4/4 [==============================] - 0s 4ms/step - loss: 903.9171\n",
      "Epoch 55/300\n",
      "4/4 [==============================] - 0s 4ms/step - loss: 893.8005\n",
      "Epoch 56/300\n",
      "4/4 [==============================] - 0s 4ms/step - loss: 882.4103\n",
      "Epoch 57/300\n",
      "4/4 [==============================] - 0s 4ms/step - loss: 871.7161\n",
      "Epoch 58/300\n",
      "4/4 [==============================] - 0s 4ms/step - loss: 859.9593\n",
      "Epoch 59/300\n",
      "4/4 [==============================] - 0s 4ms/step - loss: 849.2933\n",
      "Epoch 60/300\n",
      "4/4 [==============================] - 0s 4ms/step - loss: 839.2181\n",
      "Epoch 61/300\n",
      "4/4 [==============================] - 0s 4ms/step - loss: 828.8035\n",
      "Epoch 62/300\n",
      "4/4 [==============================] - 0s 4ms/step - loss: 819.4539\n",
      "Epoch 63/300\n",
      "4/4 [==============================] - 0s 5ms/step - loss: 810.4303\n",
      "Epoch 64/300\n",
      "4/4 [==============================] - 0s 4ms/step - loss: 801.6232\n",
      "Epoch 65/300\n",
      "4/4 [==============================] - 0s 4ms/step - loss: 792.2752\n",
      "Epoch 66/300\n",
      "4/4 [==============================] - 0s 4ms/step - loss: 783.6753\n",
      "Epoch 67/300\n",
      "4/4 [==============================] - 0s 4ms/step - loss: 775.5920\n",
      "Epoch 68/300\n",
      "4/4 [==============================] - 0s 4ms/step - loss: 767.5854\n",
      "Epoch 69/300\n",
      "4/4 [==============================] - 0s 4ms/step - loss: 758.9641\n",
      "Epoch 70/300\n",
      "4/4 [==============================] - 0s 4ms/step - loss: 750.9596\n",
      "Epoch 71/300\n",
      "4/4 [==============================] - 0s 4ms/step - loss: 742.6942\n",
      "Epoch 72/300\n",
      "4/4 [==============================] - 0s 4ms/step - loss: 734.3954\n",
      "Epoch 73/300\n",
      "4/4 [==============================] - 0s 4ms/step - loss: 727.2378\n",
      "Epoch 74/300\n",
      "4/4 [==============================] - 0s 4ms/step - loss: 719.5059\n",
      "Epoch 75/300\n",
      "4/4 [==============================] - 0s 4ms/step - loss: 712.6837\n",
      "Epoch 76/300\n",
      "4/4 [==============================] - 0s 4ms/step - loss: 705.2567\n",
      "Epoch 77/300\n",
      "4/4 [==============================] - 0s 4ms/step - loss: 698.2971\n",
      "Epoch 78/300\n",
      "4/4 [==============================] - 0s 4ms/step - loss: 692.6417\n",
      "Epoch 79/300\n",
      "4/4 [==============================] - 0s 4ms/step - loss: 686.3544\n",
      "Epoch 80/300\n",
      "4/4 [==============================] - 0s 4ms/step - loss: 681.0619\n",
      "Epoch 81/300\n",
      "4/4 [==============================] - 0s 4ms/step - loss: 675.3580\n",
      "Epoch 82/300\n",
      "4/4 [==============================] - 0s 4ms/step - loss: 669.8565\n",
      "Epoch 83/300\n",
      "4/4 [==============================] - 0s 4ms/step - loss: 664.7142\n",
      "Epoch 84/300\n",
      "4/4 [==============================] - 0s 4ms/step - loss: 659.2942\n",
      "Epoch 85/300\n",
      "4/4 [==============================] - 0s 4ms/step - loss: 654.1163\n",
      "Epoch 86/300\n",
      "4/4 [==============================] - 0s 4ms/step - loss: 648.8065\n",
      "Epoch 87/300\n",
      "4/4 [==============================] - 0s 4ms/step - loss: 643.4839\n",
      "Epoch 88/300\n",
      "4/4 [==============================] - 0s 4ms/step - loss: 638.2961\n",
      "Epoch 89/300\n",
      "4/4 [==============================] - 0s 5ms/step - loss: 634.1097\n",
      "Epoch 90/300\n",
      "4/4 [==============================] - 0s 4ms/step - loss: 630.3360\n",
      "Epoch 91/300\n",
      "4/4 [==============================] - 0s 4ms/step - loss: 626.4500\n",
      "Epoch 92/300\n",
      "4/4 [==============================] - 0s 4ms/step - loss: 623.0194\n",
      "Epoch 93/300\n",
      "4/4 [==============================] - 0s 4ms/step - loss: 618.9650\n",
      "Epoch 94/300\n",
      "4/4 [==============================] - 0s 4ms/step - loss: 615.3740\n",
      "Epoch 95/300\n",
      "4/4 [==============================] - 0s 4ms/step - loss: 611.9676\n",
      "Epoch 96/300\n",
      "4/4 [==============================] - 0s 5ms/step - loss: 608.3752\n",
      "Epoch 97/300\n",
      "4/4 [==============================] - 0s 4ms/step - loss: 604.5501\n",
      "Epoch 98/300\n",
      "4/4 [==============================] - 0s 4ms/step - loss: 600.6476\n",
      "Epoch 99/300\n",
      "4/4 [==============================] - 0s 4ms/step - loss: 597.0310\n",
      "Epoch 100/300\n",
      "4/4 [==============================] - 0s 4ms/step - loss: 593.1559\n",
      "Epoch 101/300\n",
      "4/4 [==============================] - 0s 4ms/step - loss: 590.1608\n",
      "Epoch 102/300\n",
      "4/4 [==============================] - 0s 6ms/step - loss: 586.3671\n",
      "Epoch 103/300\n",
      "4/4 [==============================] - 0s 3ms/step - loss: 583.4363\n",
      "Epoch 104/300\n",
      "4/4 [==============================] - 0s 4ms/step - loss: 579.6617\n",
      "Epoch 105/300\n",
      "4/4 [==============================] - 0s 4ms/step - loss: 576.6726\n",
      "Epoch 106/300\n",
      "4/4 [==============================] - 0s 4ms/step - loss: 573.4341\n",
      "Epoch 107/300\n",
      "4/4 [==============================] - 0s 4ms/step - loss: 570.6624\n",
      "Epoch 108/300\n",
      "4/4 [==============================] - 0s 4ms/step - loss: 568.1968\n",
      "Epoch 109/300\n",
      "4/4 [==============================] - 0s 4ms/step - loss: 565.8918\n",
      "Epoch 110/300\n",
      "4/4 [==============================] - 0s 4ms/step - loss: 563.5418\n",
      "Epoch 111/300\n",
      "4/4 [==============================] - 0s 4ms/step - loss: 561.3567\n",
      "Epoch 112/300\n",
      "4/4 [==============================] - 0s 4ms/step - loss: 559.3538\n",
      "Epoch 113/300\n",
      "4/4 [==============================] - 0s 4ms/step - loss: 557.3737\n",
      "Epoch 114/300\n",
      "4/4 [==============================] - 0s 4ms/step - loss: 555.1744\n",
      "Epoch 115/300\n",
      "4/4 [==============================] - 0s 3ms/step - loss: 553.4045\n",
      "Epoch 116/300\n",
      "4/4 [==============================] - 0s 4ms/step - loss: 551.6090\n",
      "Epoch 117/300\n",
      "4/4 [==============================] - 0s 4ms/step - loss: 549.9796\n",
      "Epoch 118/300\n",
      "4/4 [==============================] - 0s 4ms/step - loss: 547.7673\n",
      "Epoch 119/300\n",
      "4/4 [==============================] - 0s 4ms/step - loss: 546.1705\n",
      "Epoch 120/300\n",
      "4/4 [==============================] - 0s 4ms/step - loss: 544.6356\n",
      "Epoch 121/300\n",
      "4/4 [==============================] - 0s 4ms/step - loss: 543.1812\n",
      "Epoch 122/300\n",
      "4/4 [==============================] - 0s 4ms/step - loss: 541.9228\n",
      "Epoch 123/300\n",
      "4/4 [==============================] - 0s 4ms/step - loss: 540.3688\n",
      "Epoch 124/300\n",
      "4/4 [==============================] - 0s 4ms/step - loss: 539.4635\n",
      "Epoch 125/300\n",
      "4/4 [==============================] - 0s 4ms/step - loss: 538.0435\n",
      "Epoch 126/300\n",
      "4/4 [==============================] - 0s 4ms/step - loss: 536.9247\n",
      "Epoch 127/300\n",
      "4/4 [==============================] - 0s 4ms/step - loss: 535.4620\n",
      "Epoch 128/300\n",
      "4/4 [==============================] - 0s 4ms/step - loss: 534.3572\n",
      "Epoch 129/300\n",
      "4/4 [==============================] - 0s 4ms/step - loss: 533.5111\n",
      "Epoch 130/300\n",
      "4/4 [==============================] - 0s 4ms/step - loss: 532.8035\n",
      "Epoch 131/300\n",
      "4/4 [==============================] - 0s 4ms/step - loss: 532.0629\n",
      "Epoch 132/300\n",
      "4/4 [==============================] - 0s 4ms/step - loss: 531.5063\n",
      "Epoch 133/300\n",
      "4/4 [==============================] - 0s 4ms/step - loss: 530.6155\n",
      "Epoch 134/300\n",
      "4/4 [==============================] - 0s 4ms/step - loss: 529.8214\n",
      "Epoch 135/300\n",
      "4/4 [==============================] - 0s 4ms/step - loss: 529.1653\n",
      "Epoch 136/300\n",
      "4/4 [==============================] - 0s 4ms/step - loss: 528.3843\n",
      "Epoch 137/300\n",
      "4/4 [==============================] - 0s 4ms/step - loss: 527.5306\n",
      "Epoch 138/300\n",
      "4/4 [==============================] - 0s 4ms/step - loss: 526.7389\n",
      "Epoch 139/300\n",
      "4/4 [==============================] - 0s 5ms/step - loss: 526.0451\n",
      "Epoch 140/300\n",
      "4/4 [==============================] - 0s 4ms/step - loss: 525.0336\n",
      "Epoch 141/300\n",
      "4/4 [==============================] - 0s 4ms/step - loss: 524.4145\n",
      "Epoch 142/300\n",
      "4/4 [==============================] - 0s 4ms/step - loss: 523.9980\n",
      "Epoch 143/300\n",
      "4/4 [==============================] - 0s 5ms/step - loss: 523.4277\n",
      "Epoch 144/300\n",
      "4/4 [==============================] - 0s 3ms/step - loss: 523.0010\n",
      "Epoch 145/300\n",
      "4/4 [==============================] - 0s 3ms/step - loss: 522.6954\n",
      "Epoch 146/300\n",
      "4/4 [==============================] - 0s 3ms/step - loss: 522.4988\n",
      "Epoch 147/300\n",
      "4/4 [==============================] - 0s 4ms/step - loss: 522.3260\n",
      "Epoch 148/300\n",
      "4/4 [==============================] - 0s 4ms/step - loss: 521.9651\n",
      "Epoch 149/300\n",
      "4/4 [==============================] - 0s 4ms/step - loss: 521.4920\n",
      "Epoch 150/300\n",
      "4/4 [==============================] - 0s 4ms/step - loss: 521.0490\n",
      "Epoch 151/300\n",
      "4/4 [==============================] - 0s 4ms/step - loss: 520.6228\n",
      "Epoch 152/300\n",
      "4/4 [==============================] - 0s 4ms/step - loss: 520.1396\n",
      "Epoch 153/300\n",
      "4/4 [==============================] - 0s 4ms/step - loss: 519.6323\n",
      "Epoch 154/300\n",
      "4/4 [==============================] - 0s 3ms/step - loss: 519.3682\n",
      "Epoch 155/300\n",
      "4/4 [==============================] - 0s 3ms/step - loss: 519.0807\n",
      "Epoch 156/300\n",
      "4/4 [==============================] - 0s 3ms/step - loss: 518.6844\n",
      "Epoch 157/300\n",
      "4/4 [==============================] - 0s 4ms/step - loss: 518.4431\n",
      "Epoch 158/300\n",
      "4/4 [==============================] - 0s 4ms/step - loss: 517.9305\n",
      "Epoch 159/300\n",
      "4/4 [==============================] - 0s 3ms/step - loss: 517.6835\n",
      "Epoch 160/300\n",
      "4/4 [==============================] - 0s 4ms/step - loss: 517.5416\n",
      "Epoch 161/300\n",
      "4/4 [==============================] - 0s 3ms/step - loss: 517.3957\n",
      "Epoch 162/300\n",
      "4/4 [==============================] - 0s 3ms/step - loss: 516.9058\n",
      "Epoch 163/300\n",
      "4/4 [==============================] - 0s 3ms/step - loss: 516.7708\n",
      "Epoch 164/300\n",
      "4/4 [==============================] - 0s 3ms/step - loss: 516.4161\n",
      "Epoch 165/300\n",
      "4/4 [==============================] - 0s 3ms/step - loss: 516.2039\n",
      "Epoch 166/300\n",
      "4/4 [==============================] - 0s 3ms/step - loss: 515.9852\n",
      "Epoch 167/300\n",
      "4/4 [==============================] - 0s 4ms/step - loss: 515.8497\n",
      "Epoch 168/300\n",
      "4/4 [==============================] - 0s 3ms/step - loss: 515.7237\n",
      "Epoch 169/300\n",
      "4/4 [==============================] - 0s 4ms/step - loss: 515.3837\n",
      "Epoch 170/300\n",
      "4/4 [==============================] - 0s 4ms/step - loss: 515.4294\n",
      "Epoch 171/300\n",
      "4/4 [==============================] - 0s 4ms/step - loss: 515.3994\n",
      "Epoch 172/300\n",
      "4/4 [==============================] - 0s 4ms/step - loss: 515.4780\n",
      "Epoch 173/300\n",
      "4/4 [==============================] - 0s 3ms/step - loss: 515.4241\n",
      "Epoch 174/300\n",
      "4/4 [==============================] - 0s 4ms/step - loss: 515.4197\n",
      "Epoch 175/300\n",
      "4/4 [==============================] - 0s 3ms/step - loss: 515.4692\n",
      "Epoch 176/300\n",
      "4/4 [==============================] - 0s 3ms/step - loss: 515.4808\n",
      "Epoch 177/300\n",
      "4/4 [==============================] - 0s 4ms/step - loss: 515.7386\n",
      "Epoch 178/300\n",
      "4/4 [==============================] - 0s 4ms/step - loss: 515.7609\n",
      "Epoch 179/300\n",
      "4/4 [==============================] - 0s 3ms/step - loss: 515.9110\n",
      "Epoch 180/300\n",
      "4/4 [==============================] - 0s 3ms/step - loss: 516.0044\n",
      "Epoch 181/300\n",
      "4/4 [==============================] - 0s 3ms/step - loss: 516.1921\n",
      "Epoch 182/300\n",
      "4/4 [==============================] - 0s 3ms/step - loss: 516.1596\n",
      "Epoch 183/300\n",
      "4/4 [==============================] - 0s 4ms/step - loss: 515.8468\n",
      "Epoch 184/300\n",
      "4/4 [==============================] - 0s 3ms/step - loss: 515.4702\n",
      "Epoch 185/300\n",
      "4/4 [==============================] - 0s 4ms/step - loss: 515.1479\n",
      "Epoch 186/300\n",
      "4/4 [==============================] - 0s 4ms/step - loss: 515.0757\n",
      "Epoch 187/300\n",
      "4/4 [==============================] - 0s 4ms/step - loss: 514.6017\n",
      "Epoch 188/300\n",
      "4/4 [==============================] - 0s 4ms/step - loss: 514.3369\n",
      "Epoch 189/300\n",
      "4/4 [==============================] - 0s 4ms/step - loss: 514.1868\n",
      "Epoch 190/300\n",
      "4/4 [==============================] - 0s 4ms/step - loss: 514.1612\n",
      "Epoch 191/300\n",
      "4/4 [==============================] - 0s 4ms/step - loss: 513.9330\n",
      "Epoch 192/300\n",
      "4/4 [==============================] - 0s 4ms/step - loss: 513.8517\n",
      "Epoch 193/300\n",
      "4/4 [==============================] - 0s 4ms/step - loss: 513.8284\n",
      "Epoch 194/300\n",
      "4/4 [==============================] - 0s 4ms/step - loss: 513.7888\n",
      "Epoch 195/300\n",
      "4/4 [==============================] - 0s 4ms/step - loss: 513.6652\n",
      "Epoch 196/300\n",
      "4/4 [==============================] - 0s 4ms/step - loss: 513.6849\n",
      "Epoch 197/300\n",
      "4/4 [==============================] - 0s 4ms/step - loss: 513.5135\n",
      "Epoch 198/300\n",
      "4/4 [==============================] - 0s 4ms/step - loss: 513.7744\n",
      "Epoch 199/300\n",
      "4/4 [==============================] - 0s 4ms/step - loss: 513.3848\n",
      "Epoch 200/300\n",
      "4/4 [==============================] - 0s 4ms/step - loss: 513.6370\n",
      "Epoch 201/300\n",
      "4/4 [==============================] - 0s 5ms/step - loss: 513.4796\n",
      "Epoch 202/300\n",
      "4/4 [==============================] - 0s 4ms/step - loss: 513.4442\n",
      "Epoch 203/300\n",
      "4/4 [==============================] - 0s 4ms/step - loss: 513.4266\n",
      "Epoch 204/300\n",
      "4/4 [==============================] - 0s 4ms/step - loss: 513.6310\n",
      "Epoch 205/300\n",
      "4/4 [==============================] - 0s 4ms/step - loss: 513.4634\n",
      "Epoch 206/300\n",
      "4/4 [==============================] - 0s 4ms/step - loss: 513.6669\n",
      "Epoch 207/300\n",
      "4/4 [==============================] - 0s 5ms/step - loss: 513.7971\n",
      "Epoch 208/300\n",
      "4/4 [==============================] - 0s 5ms/step - loss: 513.8094\n",
      "Epoch 209/300\n",
      "4/4 [==============================] - 0s 4ms/step - loss: 513.7608\n",
      "Epoch 210/300\n",
      "4/4 [==============================] - 0s 4ms/step - loss: 513.7764\n",
      "Epoch 211/300\n",
      "4/4 [==============================] - 0s 4ms/step - loss: 513.6739\n",
      "Epoch 212/300\n",
      "4/4 [==============================] - 0s 4ms/step - loss: 513.6093\n",
      "Epoch 213/300\n",
      "4/4 [==============================] - 0s 5ms/step - loss: 513.5063\n",
      "Epoch 214/300\n",
      "4/4 [==============================] - 0s 4ms/step - loss: 513.4186\n",
      "Epoch 215/300\n",
      "4/4 [==============================] - 0s 4ms/step - loss: 513.3956\n",
      "Epoch 216/300\n",
      "4/4 [==============================] - 0s 4ms/step - loss: 513.5115\n",
      "Epoch 217/300\n",
      "4/4 [==============================] - 0s 4ms/step - loss: 513.5471\n",
      "Epoch 218/300\n",
      "4/4 [==============================] - 0s 4ms/step - loss: 513.5916\n",
      "Epoch 219/300\n",
      "4/4 [==============================] - 0s 4ms/step - loss: 513.4821\n",
      "Epoch 220/300\n",
      "4/4 [==============================] - 0s 4ms/step - loss: 513.4001\n",
      "Epoch 221/300\n",
      "4/4 [==============================] - 0s 4ms/step - loss: 513.4573\n",
      "Epoch 222/300\n",
      "4/4 [==============================] - 0s 4ms/step - loss: 513.0326\n",
      "Epoch 223/300\n",
      "4/4 [==============================] - 0s 4ms/step - loss: 513.1257\n",
      "Epoch 224/300\n",
      "4/4 [==============================] - 0s 5ms/step - loss: 512.8165\n",
      "Epoch 225/300\n",
      "4/4 [==============================] - 0s 4ms/step - loss: 512.7697\n",
      "Epoch 226/300\n",
      "4/4 [==============================] - 0s 4ms/step - loss: 512.8952\n",
      "Epoch 227/300\n",
      "4/4 [==============================] - 0s 3ms/step - loss: 512.7162\n",
      "Epoch 228/300\n",
      "4/4 [==============================] - 0s 3ms/step - loss: 512.7185\n",
      "Epoch 229/300\n",
      "4/4 [==============================] - 0s 3ms/step - loss: 512.7853\n",
      "Epoch 230/300\n",
      "4/4 [==============================] - 0s 3ms/step - loss: 512.7047\n",
      "Epoch 231/300\n",
      "4/4 [==============================] - 0s 3ms/step - loss: 512.7303\n",
      "Epoch 232/300\n",
      "4/4 [==============================] - 0s 2ms/step - loss: 512.7426\n",
      "Epoch 233/300\n",
      "4/4 [==============================] - 0s 3ms/step - loss: 512.6963\n",
      "Epoch 234/300\n",
      "4/4 [==============================] - 0s 3ms/step - loss: 512.6961\n",
      "Epoch 235/300\n",
      "4/4 [==============================] - 0s 3ms/step - loss: 512.6687\n",
      "Epoch 236/300\n",
      "4/4 [==============================] - 0s 3ms/step - loss: 512.7529\n",
      "Epoch 237/300\n",
      "4/4 [==============================] - 0s 3ms/step - loss: 512.7221\n",
      "Epoch 238/300\n",
      "4/4 [==============================] - 0s 4ms/step - loss: 512.7593\n",
      "Epoch 239/300\n",
      "4/4 [==============================] - 0s 4ms/step - loss: 512.7636\n",
      "Epoch 240/300\n",
      "4/4 [==============================] - 0s 3ms/step - loss: 512.8421\n",
      "Epoch 241/300\n",
      "4/4 [==============================] - 0s 3ms/step - loss: 512.8191\n",
      "Epoch 242/300\n",
      "4/4 [==============================] - 0s 3ms/step - loss: 512.8513\n",
      "Epoch 243/300\n",
      "4/4 [==============================] - 0s 3ms/step - loss: 512.8956\n",
      "Epoch 244/300\n",
      "4/4 [==============================] - 0s 3ms/step - loss: 512.8896\n",
      "Epoch 245/300\n",
      "4/4 [==============================] - 0s 3ms/step - loss: 512.8542\n",
      "Epoch 246/300\n",
      "4/4 [==============================] - 0s 3ms/step - loss: 512.8450\n",
      "Epoch 247/300\n",
      "4/4 [==============================] - 0s 3ms/step - loss: 512.9158\n",
      "Epoch 248/300\n",
      "4/4 [==============================] - 0s 3ms/step - loss: 512.7335\n",
      "Epoch 249/300\n",
      "4/4 [==============================] - 0s 3ms/step - loss: 512.8430\n",
      "Epoch 250/300\n",
      "4/4 [==============================] - 0s 3ms/step - loss: 512.7246\n",
      "Epoch 251/300\n",
      "4/4 [==============================] - 0s 3ms/step - loss: 512.8073\n",
      "Epoch 252/300\n",
      "4/4 [==============================] - 0s 3ms/step - loss: 512.9446\n",
      "Epoch 253/300\n",
      "4/4 [==============================] - 0s 3ms/step - loss: 512.8529\n",
      "Epoch 254/300\n",
      "4/4 [==============================] - 0s 3ms/step - loss: 513.1688\n",
      "Epoch 255/300\n",
      "4/4 [==============================] - 0s 3ms/step - loss: 512.9304\n",
      "Epoch 256/300\n",
      "4/4 [==============================] - 0s 4ms/step - loss: 512.9836\n",
      "Epoch 257/300\n",
      "4/4 [==============================] - 0s 3ms/step - loss: 512.9301\n",
      "Epoch 258/300\n",
      "4/4 [==============================] - 0s 3ms/step - loss: 512.9942\n",
      "Epoch 259/300\n",
      "4/4 [==============================] - 0s 3ms/step - loss: 512.9215\n",
      "Epoch 260/300\n",
      "4/4 [==============================] - 0s 5ms/step - loss: 512.8629\n",
      "Epoch 261/300\n",
      "4/4 [==============================] - 0s 3ms/step - loss: 512.9048\n",
      "Epoch 262/300\n",
      "4/4 [==============================] - 0s 3ms/step - loss: 512.8042\n",
      "Epoch 263/300\n",
      "4/4 [==============================] - 0s 2ms/step - loss: 512.8323\n",
      "Epoch 264/300\n",
      "4/4 [==============================] - 0s 3ms/step - loss: 512.7492\n",
      "Epoch 265/300\n",
      "4/4 [==============================] - 0s 3ms/step - loss: 512.8145\n",
      "Epoch 266/300\n",
      "4/4 [==============================] - 0s 3ms/step - loss: 512.9276\n",
      "Epoch 267/300\n",
      "4/4 [==============================] - 0s 3ms/step - loss: 513.0054\n",
      "Epoch 268/300\n",
      "4/4 [==============================] - 0s 4ms/step - loss: 512.8484\n",
      "Epoch 269/300\n",
      "4/4 [==============================] - 0s 3ms/step - loss: 512.8392\n",
      "Epoch 270/300\n",
      "4/4 [==============================] - 0s 3ms/step - loss: 512.8199\n",
      "Epoch 271/300\n",
      "4/4 [==============================] - 0s 3ms/step - loss: 512.7893\n",
      "Epoch 272/300\n",
      "4/4 [==============================] - 0s 3ms/step - loss: 512.8488\n",
      "Epoch 273/300\n",
      "4/4 [==============================] - 0s 3ms/step - loss: 512.6570\n",
      "Epoch 274/300\n",
      "4/4 [==============================] - 0s 3ms/step - loss: 512.6859\n",
      "Epoch 275/300\n",
      "4/4 [==============================] - 0s 3ms/step - loss: 512.6484\n",
      "Epoch 276/300\n",
      "4/4 [==============================] - 0s 3ms/step - loss: 512.7517\n",
      "Epoch 277/300\n",
      "4/4 [==============================] - 0s 3ms/step - loss: 512.7349\n",
      "Epoch 278/300\n",
      "4/4 [==============================] - 0s 3ms/step - loss: 512.6326\n",
      "Epoch 279/300\n",
      "4/4 [==============================] - 0s 3ms/step - loss: 512.6827\n",
      "Epoch 280/300\n",
      "4/4 [==============================] - 0s 3ms/step - loss: 512.5807\n",
      "Epoch 281/300\n",
      "4/4 [==============================] - 0s 3ms/step - loss: 512.6542\n",
      "Epoch 282/300\n",
      "4/4 [==============================] - 0s 4ms/step - loss: 512.7734\n",
      "Epoch 283/300\n",
      "4/4 [==============================] - 0s 3ms/step - loss: 512.7439\n",
      "Epoch 284/300\n",
      "4/4 [==============================] - 0s 3ms/step - loss: 512.7831\n",
      "Epoch 285/300\n",
      "4/4 [==============================] - 0s 2ms/step - loss: 512.9525\n",
      "Epoch 286/300\n",
      "4/4 [==============================] - 0s 3ms/step - loss: 512.9149\n",
      "Epoch 287/300\n",
      "4/4 [==============================] - 0s 3ms/step - loss: 512.9025\n",
      "Epoch 288/300\n",
      "4/4 [==============================] - 0s 3ms/step - loss: 512.8943\n",
      "Epoch 289/300\n",
      "4/4 [==============================] - 0s 3ms/step - loss: 512.8618\n",
      "Epoch 290/300\n",
      "4/4 [==============================] - 0s 3ms/step - loss: 512.9057\n",
      "Epoch 291/300\n",
      "4/4 [==============================] - 0s 2ms/step - loss: 512.7661\n",
      "Epoch 292/300\n",
      "4/4 [==============================] - 0s 3ms/step - loss: 512.8378\n",
      "Epoch 293/300\n",
      "4/4 [==============================] - 0s 3ms/step - loss: 512.8636\n",
      "Epoch 294/300\n",
      "4/4 [==============================] - 0s 3ms/step - loss: 512.8459\n",
      "Epoch 295/300\n",
      "4/4 [==============================] - 0s 3ms/step - loss: 512.7758\n",
      "Epoch 296/300\n",
      "4/4 [==============================] - 0s 3ms/step - loss: 512.7562\n",
      "Epoch 297/300\n",
      "4/4 [==============================] - 0s 3ms/step - loss: 512.7567\n",
      "Epoch 298/300\n",
      "4/4 [==============================] - 0s 3ms/step - loss: 512.7117\n",
      "Epoch 299/300\n",
      "4/4 [==============================] - 0s 3ms/step - loss: 512.6185\n",
      "Epoch 300/300\n",
      "4/4 [==============================] - 0s 3ms/step - loss: 512.6525\n"
     ]
    },
    {
     "data": {
      "text/plain": [
       "<keras.callbacks.History at 0x7f8e9046e910>"
      ]
     },
     "execution_count": 5,
     "metadata": {},
     "output_type": "execute_result"
    }
   ],
   "source": [
    "#Defined our model\n",
    "model = Sequential()\n",
    "model.add(Dense(1, activation='linear', input_shape=(1,)))\n",
    "\n",
    "#compile the model\n",
    "model.compile(optimizer=Adam(1e-1), loss='mse')\n",
    "\n",
    "#Training our model\n",
    "model.fit(X, y, batch_size=32, epochs=300)"
   ]
  },
  {
   "cell_type": "markdown",
   "metadata": {
    "deletable": false,
    "editable": false,
    "run_control": {
     "frozen": true
    }
   },
   "source": [
    "<p style=\"text-align: justify;text-indent: 30px\"> If we look at the training results we see that at some point the loss value stops decreasing and stay around 512 or 513. It shows us that there is no need to train our model with too many epochs because at some point there is no improvement.</p> "
   ]
  },
  {
   "cell_type": "code",
   "execution_count": 6,
   "metadata": {
    "deletable": false,
    "editable": false
   },
   "outputs": [
    {
     "data": {
      "image/png": "[encoded data removed]",
      "text/plain": [
       "<Figure size 1080x360 with 1 Axes>"
      ]
     },
     "metadata": {
      "needs_background": "light"
     },
     "output_type": "display_data"
    }
   ],
   "source": [
    "import matplotlib.pyplot as plt\n",
    "X_test = np.linspace(min(X), max(X), 100)\n",
    "y_pred = model.predict(X_test)\n",
    "\n",
    "plt.figure(figsize=(15,5))\n",
    "plt.plot(X, y , '.', label='data')\n",
    "plt.plot(X_test, y_pred , '-', label='model', color='red')\n",
    "plt.xlabel('x')\n",
    "plt.ylabel('y')\n",
    "plt.legend();"
   ]
  },
  {
   "cell_type": "markdown",
   "metadata": {
    "deletable": false,
    "editable": false,
    "run_control": {
     "frozen": true
    }
   },
   "source": [
    "<p style=\"text-align: justify;text-indent: 30px\"> When we design our model we choose linear as an activation function because we try to estimate a continuous variable. The choice of activation function depends on the output and what you are trying to predict. For example if you try to predict a variable with only 2 values 0 or 1 the linear activation function is not suitable for this task. In this case, you use the sigmoid activation function which take as an input values between ($-\\infty,+\\infty$) and return a value between 0 and 1. You can see the result as a probability and define a threshold to determine if the results is 0 or 1. This problem is equivalent to a <b>Logistic Regression.</b>\n",
    "    \n",
    "<p style=\"text-align: justify\">Also the perceptron model is able to find linear relationship but what about polynomial relationship for example ?</p>"
   ]
  },
  {
   "cell_type": "code",
   "execution_count": 7,
   "metadata": {
    "deletable": false,
    "editable": false
   },
   "outputs": [
    {
     "data": {
      "image/png": "[encoded data removed]",
      "text/plain": [
       "<Figure size 1080x360 with 1 Axes>"
      ]
     },
     "metadata": {
      "needs_background": "light"
     },
     "output_type": "display_data"
    }
   ],
   "source": [
    "def f(x, sigma, coeffs):\n",
    "    fx = [x**i*c for i, c in enumerate(coeffs)]\n",
    "    return sum(fx) + np.random.normal(0, sigma, len(x))\n",
    "\n",
    "X = np.random.uniform(-1, 10, 500)\n",
    "y = f(X, 5, [2,12,-4, 1/3])\n",
    "\n",
    "plt.figure(figsize=(15,5))\n",
    "plt.plot(X, y , '.')\n",
    "plt.xlabel('X')\n",
    "plt.ylabel('y');"
   ]
  },
  {
   "cell_type": "markdown",
   "metadata": {
    "deletable": false,
    "editable": false,
    "run_control": {
     "frozen": true
    }
   },
   "source": [
    "<p style=\"text-align: justify\"> Let's train again our model on this new dataset and evaluate the results.</p>"
   ]
  },
  {
   "cell_type": "code",
   "execution_count": 8,
   "metadata": {
    "deletable": false,
    "editable": false
   },
   "outputs": [
    {
     "name": "stdout",
     "output_type": "stream",
     "text": [
      "Epoch 1/100\n",
      "16/16 [==============================] - 0s 2ms/step - loss: 126.6738\n",
      "Epoch 2/100\n",
      "16/16 [==============================] - 0s 2ms/step - loss: 123.0502\n",
      "Epoch 3/100\n",
      "16/16 [==============================] - 0s 3ms/step - loss: 122.3060\n",
      "Epoch 4/100\n",
      "16/16 [==============================] - 0s 3ms/step - loss: 121.9187\n",
      "Epoch 5/100\n",
      "16/16 [==============================] - 0s 2ms/step - loss: 121.7774\n",
      "Epoch 6/100\n",
      "16/16 [==============================] - 0s 2ms/step - loss: 122.0722\n",
      "Epoch 7/100\n",
      "16/16 [==============================] - 0s 3ms/step - loss: 121.7239\n",
      "Epoch 8/100\n",
      "16/16 [==============================] - 0s 2ms/step - loss: 122.8157\n",
      "Epoch 9/100\n",
      "16/16 [==============================] - 0s 3ms/step - loss: 122.7015\n",
      "Epoch 10/100\n",
      "16/16 [==============================] - 0s 3ms/step - loss: 122.1150\n",
      "Epoch 11/100\n",
      "16/16 [==============================] - 0s 3ms/step - loss: 121.9447\n",
      "Epoch 12/100\n",
      "16/16 [==============================] - 0s 3ms/step - loss: 122.6146\n",
      "Epoch 13/100\n",
      "16/16 [==============================] - 0s 3ms/step - loss: 122.0862\n",
      "Epoch 14/100\n",
      "16/16 [==============================] - 0s 3ms/step - loss: 121.8642\n",
      "Epoch 15/100\n",
      "16/16 [==============================] - 0s 3ms/step - loss: 122.3666\n",
      "Epoch 16/100\n",
      "16/16 [==============================] - 0s 2ms/step - loss: 122.7064\n",
      "Epoch 17/100\n",
      "16/16 [==============================] - 0s 3ms/step - loss: 121.8308\n",
      "Epoch 18/100\n",
      "16/16 [==============================] - 0s 2ms/step - loss: 121.8372\n",
      "Epoch 19/100\n",
      "16/16 [==============================] - 0s 3ms/step - loss: 121.9675\n",
      "Epoch 20/100\n",
      "16/16 [==============================] - 0s 3ms/step - loss: 122.9083\n",
      "Epoch 21/100\n",
      "16/16 [==============================] - 0s 3ms/step - loss: 122.1948\n",
      "Epoch 22/100\n",
      "16/16 [==============================] - 0s 3ms/step - loss: 122.2290\n",
      "Epoch 23/100\n",
      "16/16 [==============================] - 0s 3ms/step - loss: 123.1293\n",
      "Epoch 24/100\n",
      "16/16 [==============================] - 0s 3ms/step - loss: 122.1389\n",
      "Epoch 25/100\n",
      "16/16 [==============================] - 0s 3ms/step - loss: 122.4518\n",
      "Epoch 26/100\n",
      "16/16 [==============================] - 0s 3ms/step - loss: 122.6488\n",
      "Epoch 27/100\n",
      "16/16 [==============================] - 0s 3ms/step - loss: 122.5800\n",
      "Epoch 28/100\n",
      "16/16 [==============================] - 0s 3ms/step - loss: 121.3456\n",
      "Epoch 29/100\n",
      "16/16 [==============================] - 0s 3ms/step - loss: 122.2753\n",
      "Epoch 30/100\n",
      "16/16 [==============================] - 0s 3ms/step - loss: 122.3123\n",
      "Epoch 31/100\n",
      "16/16 [==============================] - 0s 3ms/step - loss: 122.4991\n",
      "Epoch 32/100\n",
      "16/16 [==============================] - 0s 3ms/step - loss: 122.1177\n",
      "Epoch 33/100\n",
      "16/16 [==============================] - 0s 2ms/step - loss: 122.3877\n",
      "Epoch 34/100\n",
      "16/16 [==============================] - 0s 3ms/step - loss: 122.0798\n",
      "Epoch 35/100\n",
      "16/16 [==============================] - 0s 3ms/step - loss: 123.5919\n",
      "Epoch 36/100\n",
      "16/16 [==============================] - 0s 3ms/step - loss: 122.9607\n",
      "Epoch 37/100\n",
      "16/16 [==============================] - 0s 2ms/step - loss: 122.1300\n",
      "Epoch 38/100\n",
      "16/16 [==============================] - 0s 3ms/step - loss: 121.9010\n",
      "Epoch 39/100\n",
      "16/16 [==============================] - 0s 3ms/step - loss: 122.7640\n",
      "Epoch 40/100\n",
      "16/16 [==============================] - 0s 2ms/step - loss: 121.8966\n",
      "Epoch 41/100\n",
      "16/16 [==============================] - 0s 2ms/step - loss: 122.9909\n",
      "Epoch 42/100\n",
      "16/16 [==============================] - 0s 2ms/step - loss: 121.9120\n",
      "Epoch 43/100\n",
      "16/16 [==============================] - 0s 2ms/step - loss: 121.7792\n",
      "Epoch 44/100\n",
      "16/16 [==============================] - 0s 2ms/step - loss: 121.9465\n",
      "Epoch 45/100\n",
      "16/16 [==============================] - 0s 2ms/step - loss: 121.4814\n",
      "Epoch 46/100\n",
      "16/16 [==============================] - 0s 2ms/step - loss: 122.6626\n",
      "Epoch 47/100\n",
      "16/16 [==============================] - 0s 2ms/step - loss: 122.4196\n",
      "Epoch 48/100\n",
      "16/16 [==============================] - 0s 2ms/step - loss: 121.9936\n",
      "Epoch 49/100\n",
      "16/16 [==============================] - 0s 2ms/step - loss: 122.2605\n",
      "Epoch 50/100\n",
      "16/16 [==============================] - 0s 2ms/step - loss: 122.0876\n",
      "Epoch 51/100\n",
      "16/16 [==============================] - 0s 2ms/step - loss: 121.6176\n",
      "Epoch 52/100\n",
      "16/16 [==============================] - 0s 2ms/step - loss: 121.9214\n",
      "Epoch 53/100\n",
      "16/16 [==============================] - 0s 2ms/step - loss: 122.3659\n",
      "Epoch 54/100\n",
      "16/16 [==============================] - 0s 2ms/step - loss: 121.7564\n",
      "Epoch 55/100\n",
      "16/16 [==============================] - 0s 3ms/step - loss: 122.6740\n",
      "Epoch 56/100\n",
      "16/16 [==============================] - 0s 3ms/step - loss: 121.7102\n",
      "Epoch 57/100\n",
      "16/16 [==============================] - 0s 2ms/step - loss: 122.2928\n",
      "Epoch 58/100\n",
      "16/16 [==============================] - 0s 2ms/step - loss: 121.8081\n",
      "Epoch 59/100\n",
      "16/16 [==============================] - 0s 3ms/step - loss: 121.4868\n",
      "Epoch 60/100\n",
      "16/16 [==============================] - 0s 3ms/step - loss: 121.7365\n",
      "Epoch 61/100\n",
      "16/16 [==============================] - 0s 3ms/step - loss: 122.7479\n",
      "Epoch 62/100\n",
      "16/16 [==============================] - 0s 3ms/step - loss: 122.1537\n",
      "Epoch 63/100\n",
      "16/16 [==============================] - 0s 3ms/step - loss: 123.0863\n",
      "Epoch 64/100\n",
      "16/16 [==============================] - 0s 3ms/step - loss: 121.7678\n",
      "Epoch 65/100\n",
      "16/16 [==============================] - 0s 4ms/step - loss: 121.7103\n",
      "Epoch 66/100\n",
      "16/16 [==============================] - 0s 4ms/step - loss: 122.4339\n",
      "Epoch 67/100\n",
      "16/16 [==============================] - 0s 4ms/step - loss: 121.9036\n",
      "Epoch 68/100\n",
      "16/16 [==============================] - 0s 4ms/step - loss: 122.3302\n",
      "Epoch 69/100\n",
      "16/16 [==============================] - 0s 4ms/step - loss: 122.5719\n",
      "Epoch 70/100\n",
      "16/16 [==============================] - 0s 3ms/step - loss: 121.5698\n",
      "Epoch 71/100\n",
      "16/16 [==============================] - 0s 3ms/step - loss: 121.7364\n",
      "Epoch 72/100\n",
      "16/16 [==============================] - 0s 3ms/step - loss: 122.3419\n",
      "Epoch 73/100\n",
      "16/16 [==============================] - 0s 3ms/step - loss: 122.1382\n",
      "Epoch 74/100\n",
      "16/16 [==============================] - 0s 4ms/step - loss: 122.0505\n",
      "Epoch 75/100\n",
      "16/16 [==============================] - 0s 4ms/step - loss: 121.7465\n",
      "Epoch 76/100\n",
      "16/16 [==============================] - 0s 4ms/step - loss: 122.4145\n",
      "Epoch 77/100\n",
      "16/16 [==============================] - 0s 4ms/step - loss: 122.3564\n",
      "Epoch 78/100\n",
      "16/16 [==============================] - 0s 3ms/step - loss: 121.9028\n",
      "Epoch 79/100\n",
      "16/16 [==============================] - 0s 4ms/step - loss: 122.0779\n",
      "Epoch 80/100\n",
      "16/16 [==============================] - 0s 3ms/step - loss: 121.9857\n",
      "Epoch 81/100\n",
      "16/16 [==============================] - 0s 3ms/step - loss: 121.7542\n",
      "Epoch 82/100\n",
      "16/16 [==============================] - 0s 3ms/step - loss: 121.9651\n",
      "Epoch 83/100\n",
      "16/16 [==============================] - 0s 3ms/step - loss: 121.6775\n",
      "Epoch 84/100\n",
      "16/16 [==============================] - 0s 3ms/step - loss: 122.8744\n",
      "Epoch 85/100\n",
      "16/16 [==============================] - 0s 4ms/step - loss: 122.0228\n",
      "Epoch 86/100\n",
      "16/16 [==============================] - 0s 4ms/step - loss: 121.8944\n",
      "Epoch 87/100\n",
      "16/16 [==============================] - 0s 3ms/step - loss: 122.3406\n",
      "Epoch 88/100\n",
      "16/16 [==============================] - 0s 4ms/step - loss: 123.1287\n",
      "Epoch 89/100\n",
      "16/16 [==============================] - 0s 4ms/step - loss: 121.8640\n",
      "Epoch 90/100\n",
      "16/16 [==============================] - 0s 3ms/step - loss: 121.8631\n",
      "Epoch 91/100\n",
      "16/16 [==============================] - 0s 3ms/step - loss: 121.9278\n",
      "Epoch 92/100\n",
      "16/16 [==============================] - 0s 4ms/step - loss: 122.5856\n",
      "Epoch 93/100\n",
      "16/16 [==============================] - 0s 4ms/step - loss: 121.7317\n",
      "Epoch 94/100\n",
      "16/16 [==============================] - 0s 4ms/step - loss: 122.1083\n",
      "Epoch 95/100\n",
      "16/16 [==============================] - 0s 3ms/step - loss: 122.7713\n",
      "Epoch 96/100\n",
      "16/16 [==============================] - 0s 3ms/step - loss: 121.9845\n",
      "Epoch 97/100\n",
      "16/16 [==============================] - 0s 4ms/step - loss: 122.2263\n",
      "Epoch 98/100\n",
      "16/16 [==============================] - 0s 4ms/step - loss: 121.7395\n",
      "Epoch 99/100\n",
      "16/16 [==============================] - 0s 4ms/step - loss: 122.0179\n",
      "Epoch 100/100\n",
      "16/16 [==============================] - 0s 4ms/step - loss: 122.4123\n"
     ]
    },
    {
     "data": {
      "text/plain": [
       "<keras.callbacks.History at 0x7f8e902845e0>"
      ]
     },
     "execution_count": 8,
     "metadata": {},
     "output_type": "execute_result"
    }
   ],
   "source": [
    "#Defined our model\n",
    "model = Sequential()\n",
    "model.add(Dense(1, activation='linear', input_shape=(1,)))\n",
    "\n",
    "#compile the model\n",
    "model.compile(optimizer=Adam(1e-1), loss='mse')\n",
    "\n",
    "#Training our model\n",
    "model.fit(X, y, batch_size=32, epochs=100)"
   ]
  },
  {
   "cell_type": "code",
   "execution_count": 9,
   "metadata": {
    "deletable": false,
    "editable": false
   },
   "outputs": [
    {
     "data": {
      "image/png": "[encoded data removed]",
      "text/plain": [
       "<Figure size 1080x360 with 1 Axes>"
      ]
     },
     "metadata": {
      "needs_background": "light"
     },
     "output_type": "display_data"
    }
   ],
   "source": [
    "X_test = np.linspace(min(X), max(X), 200)\n",
    "y_pred = model.predict(X_test)\n",
    "\n",
    "plt.figure(figsize=(15,5))\n",
    "plt.plot(X, y , '.', label='data')\n",
    "plt.plot(X_test, y_pred , '-', label='model', color='red')\n",
    "plt.xlabel('x')\n",
    "plt.ylabel('y')\n",
    "plt.legend();"
   ]
  },
  {
   "cell_type": "markdown",
   "metadata": {
    "deletable": false,
    "editable": false,
    "run_control": {
     "frozen": true
    }
   },
   "source": [
    "<p style=\"text-align: justify\"> With no surprise our model is enable to detect a non linear relationship </p>"
   ]
  },
  {
   "cell_type": "markdown",
   "metadata": {
    "deletable": false,
    "editable": false,
    "run_control": {
     "frozen": true
    }
   },
   "source": [
    "<br>\n",
    "<p style=\"font-size:30px;color:#004475\">III. Multi Layer Perceptron </p>\n",
    "<br>"
   ]
  },
  {
   "cell_type": "markdown",
   "metadata": {
    "deletable": false,
    "editable": false,
    "run_control": {
     "frozen": true
    }
   },
   "source": [
    "<p style=\"text-align: justify;text-indent: 30px\"> That's here we introduce the Multi-Layer Perceptron (MLP) which is just a a sequential stacking of perceptron with non linear activation function in order to detect features more complex than linear relationship.</p>\n",
    "\n",
    "General architecure:\n",
    "\n",
    "<center><img src=\"https://miro.medium.com/max/1400/1*-gNu03HlMMlr6hlgXA6L0g.png\" width=800></center>\n",
    "\n",
    "<p style=\"text-align: justify;text-indent: 30px\"> The Multi-Layer Perceptron (MLP) can be built sequentially by stacking dense layers one after the other. The output of an hidden layer is the input of the next hidden layer. This model aim to find the best parameters that give the best prediction/approximation $\\hat{y_i}$, starting from the input $x_i$, of the real value $y_i$.\n",
    "<br>For this, we define an objective function called the <b>loss function</b> and denoted <b>J</b>  which quantifies the distance between the real and the predicted values on the overall training set.\n",
    "    \n",
    "<br>We minimize <b>J</b> following two major steps:\n",
    "    \n",
    "- <b>Forward Propagation</b> : we propagate the data through the network either in entirely or in batches, and we calculate the loss function on this batch which is nothing but the sum of the errors committed at the predicted output for the different rows.\n",
    "- <b>Backpropagation</b> : consists of calculating the gradients of the cost function with respect to the different parameters, then apply a descent algorithm to update them.\n",
    "\n",
    "We iter the same process a number of times called `epoch number`.\n",
    "After defining the architecture, the learning algorithm is written as follows:\n",
    "\n",
    ">* Initialization of the model parameters, a step equivalent to injecting noise into the model.\n",
    ">* `For` i=1,2...N: (N is the number of epochs)\n",
    ">    - Perform `forward propagation`:\n",
    ">        - $\\forall i$, Compute the predicted value of $x_i$ through the neural network: $\\hat{y}_i^{\\theta}$\n",
    ">        - Evaluate the function : $J(\\theta)=\\frac{1}{m}\\sum_{i=1}^m \\mathcal{L}(\\hat{y}_i^{\\theta}, y_i)$\n",
    ">        where m is the size of the training set, θ the model parameters and $\\mathcal{L}$ the cost${}^{(*)}$ function</br>\n",
    ">    - Perform `backpropagation`:\n",
    ">        - Apply a descent method to update the parameters :\n",
    ">           $$\\theta=:G(\\theta)$$\n",
    "\n",
    "${}^{(*)}$ The cost function $\\mathcal{L}$ evaluates the distances between the real and predicted value on a single point.\n",
    "\n",
    "    \n",
    "    \n",
    "<p>Let's see, in the following code, how to build such model. </p>"
   ]
  },
  {
   "cell_type": "code",
   "execution_count": 10,
   "metadata": {
    "deletable": false,
    "editable": false
   },
   "outputs": [
    {
     "name": "stdout",
     "output_type": "stream",
     "text": [
      "Epoch 1/100\n",
      "16/16 [==============================] - 0s 4ms/step - loss: 172.8770\n",
      "Epoch 2/100\n",
      "16/16 [==============================] - 0s 5ms/step - loss: 131.3218\n",
      "Epoch 3/100\n",
      "16/16 [==============================] - 0s 4ms/step - loss: 125.4092\n",
      "Epoch 4/100\n",
      "16/16 [==============================] - 0s 5ms/step - loss: 126.0598\n",
      "Epoch 5/100\n",
      "16/16 [==============================] - 0s 4ms/step - loss: 140.4292\n",
      "Epoch 6/100\n",
      "16/16 [==============================] - 0s 4ms/step - loss: 158.5511\n",
      "Epoch 7/100\n",
      "16/16 [==============================] - 0s 4ms/step - loss: 106.5716\n",
      "Epoch 8/100\n",
      "16/16 [==============================] - 0s 4ms/step - loss: 74.2951\n",
      "Epoch 9/100\n",
      "16/16 [==============================] - 0s 4ms/step - loss: 77.0349\n",
      "Epoch 10/100\n",
      "16/16 [==============================] - 0s 4ms/step - loss: 50.6455\n",
      "Epoch 11/100\n",
      "16/16 [==============================] - 0s 5ms/step - loss: 43.2495\n",
      "Epoch 12/100\n",
      "16/16 [==============================] - 0s 4ms/step - loss: 45.6434\n",
      "Epoch 13/100\n",
      "16/16 [==============================] - 0s 5ms/step - loss: 61.8154\n",
      "Epoch 14/100\n",
      "16/16 [==============================] - 0s 5ms/step - loss: 55.3075\n",
      "Epoch 15/100\n",
      "16/16 [==============================] - 0s 5ms/step - loss: 44.2315\n",
      "Epoch 16/100\n",
      "16/16 [==============================] - 0s 5ms/step - loss: 38.9092\n",
      "Epoch 17/100\n",
      "16/16 [==============================] - 0s 4ms/step - loss: 36.5764\n",
      "Epoch 18/100\n",
      "16/16 [==============================] - 0s 5ms/step - loss: 35.5722\n",
      "Epoch 19/100\n",
      "16/16 [==============================] - 0s 4ms/step - loss: 38.4281\n",
      "Epoch 20/100\n",
      "16/16 [==============================] - 0s 4ms/step - loss: 35.0844\n",
      "Epoch 21/100\n",
      "16/16 [==============================] - 0s 5ms/step - loss: 40.9203\n",
      "Epoch 22/100\n",
      "16/16 [==============================] - 0s 4ms/step - loss: 39.2261\n",
      "Epoch 23/100\n",
      "16/16 [==============================] - 0s 4ms/step - loss: 40.7788\n",
      "Epoch 24/100\n",
      "16/16 [==============================] - 0s 4ms/step - loss: 38.7791\n",
      "Epoch 25/100\n",
      "16/16 [==============================] - 0s 3ms/step - loss: 39.2603\n",
      "Epoch 26/100\n",
      "16/16 [==============================] - 0s 4ms/step - loss: 38.9856\n",
      "Epoch 27/100\n",
      "16/16 [==============================] - 0s 4ms/step - loss: 38.5329\n",
      "Epoch 28/100\n",
      "16/16 [==============================] - 0s 5ms/step - loss: 36.3694\n",
      "Epoch 29/100\n",
      "16/16 [==============================] - 0s 5ms/step - loss: 35.6391\n",
      "Epoch 30/100\n",
      "16/16 [==============================] - 0s 4ms/step - loss: 40.1024\n",
      "Epoch 31/100\n",
      "16/16 [==============================] - 0s 4ms/step - loss: 52.0455\n",
      "Epoch 32/100\n",
      "16/16 [==============================] - 0s 4ms/step - loss: 46.2419\n",
      "Epoch 33/100\n",
      "16/16 [==============================] - 0s 5ms/step - loss: 41.2257\n",
      "Epoch 34/100\n",
      "16/16 [==============================] - 0s 4ms/step - loss: 57.0675\n",
      "Epoch 35/100\n",
      "16/16 [==============================] - 0s 5ms/step - loss: 50.5561\n",
      "Epoch 36/100\n",
      "16/16 [==============================] - 0s 4ms/step - loss: 38.1132\n",
      "Epoch 37/100\n",
      "16/16 [==============================] - 0s 4ms/step - loss: 36.0357\n",
      "Epoch 38/100\n",
      "16/16 [==============================] - 0s 4ms/step - loss: 36.1662\n",
      "Epoch 39/100\n",
      "16/16 [==============================] - 0s 4ms/step - loss: 35.9926\n",
      "Epoch 40/100\n",
      "16/16 [==============================] - 0s 4ms/step - loss: 39.3753\n",
      "Epoch 41/100\n",
      "16/16 [==============================] - 0s 5ms/step - loss: 41.9920\n",
      "Epoch 42/100\n",
      "16/16 [==============================] - 0s 4ms/step - loss: 36.2295\n",
      "Epoch 43/100\n",
      "16/16 [==============================] - 0s 4ms/step - loss: 37.8301\n",
      "Epoch 44/100\n",
      "16/16 [==============================] - 0s 5ms/step - loss: 40.0730\n",
      "Epoch 45/100\n",
      "16/16 [==============================] - 0s 4ms/step - loss: 41.0433\n",
      "Epoch 46/100\n",
      "16/16 [==============================] - 0s 5ms/step - loss: 39.0858\n",
      "Epoch 47/100\n",
      "16/16 [==============================] - 0s 5ms/step - loss: 37.2019\n",
      "Epoch 48/100\n",
      "16/16 [==============================] - 0s 5ms/step - loss: 38.0601\n",
      "Epoch 49/100\n",
      "16/16 [==============================] - 0s 5ms/step - loss: 39.1973\n",
      "Epoch 50/100\n",
      "16/16 [==============================] - 0s 4ms/step - loss: 35.5076\n",
      "Epoch 51/100\n",
      "16/16 [==============================] - 0s 4ms/step - loss: 35.9668\n",
      "Epoch 52/100\n",
      "16/16 [==============================] - 0s 5ms/step - loss: 35.6439\n",
      "Epoch 53/100\n",
      "16/16 [==============================] - 0s 5ms/step - loss: 35.9561\n",
      "Epoch 54/100\n",
      "16/16 [==============================] - 0s 5ms/step - loss: 35.8593\n",
      "Epoch 55/100\n",
      "16/16 [==============================] - 0s 4ms/step - loss: 36.5762\n",
      "Epoch 56/100\n",
      "16/16 [==============================] - 0s 5ms/step - loss: 34.3936\n",
      "Epoch 57/100\n",
      "16/16 [==============================] - 0s 4ms/step - loss: 35.9648\n",
      "Epoch 58/100\n",
      "16/16 [==============================] - 0s 5ms/step - loss: 37.6622\n",
      "Epoch 59/100\n",
      "16/16 [==============================] - 0s 4ms/step - loss: 35.2822\n",
      "Epoch 60/100\n",
      "16/16 [==============================] - 0s 4ms/step - loss: 39.5071\n",
      "Epoch 61/100\n",
      "16/16 [==============================] - 0s 4ms/step - loss: 36.7496\n",
      "Epoch 62/100\n",
      "16/16 [==============================] - 0s 4ms/step - loss: 38.5019\n",
      "Epoch 63/100\n",
      "16/16 [==============================] - 0s 4ms/step - loss: 43.2876\n",
      "Epoch 64/100\n",
      "16/16 [==============================] - 0s 4ms/step - loss: 36.2011\n",
      "Epoch 65/100\n",
      "16/16 [==============================] - 0s 5ms/step - loss: 34.8030\n",
      "Epoch 66/100\n",
      "16/16 [==============================] - 0s 5ms/step - loss: 49.4212\n",
      "Epoch 67/100\n",
      "16/16 [==============================] - 0s 4ms/step - loss: 46.0686\n",
      "Epoch 68/100\n",
      "16/16 [==============================] - 0s 4ms/step - loss: 35.3227\n",
      "Epoch 69/100\n",
      "16/16 [==============================] - 0s 5ms/step - loss: 37.5484\n",
      "Epoch 70/100\n",
      "16/16 [==============================] - 0s 4ms/step - loss: 39.9872\n",
      "Epoch 71/100\n",
      "16/16 [==============================] - 0s 4ms/step - loss: 38.4375\n",
      "Epoch 72/100\n",
      "16/16 [==============================] - 0s 4ms/step - loss: 34.8066\n",
      "Epoch 73/100\n",
      "16/16 [==============================] - 0s 4ms/step - loss: 36.0117\n",
      "Epoch 74/100\n",
      "16/16 [==============================] - 0s 5ms/step - loss: 34.2811\n",
      "Epoch 75/100\n",
      "16/16 [==============================] - 0s 4ms/step - loss: 34.8165\n",
      "Epoch 76/100\n",
      "16/16 [==============================] - 0s 5ms/step - loss: 36.2105\n",
      "Epoch 77/100\n",
      "16/16 [==============================] - 0s 5ms/step - loss: 38.0840\n",
      "Epoch 78/100\n",
      "16/16 [==============================] - 0s 5ms/step - loss: 40.2307\n",
      "Epoch 79/100\n",
      "16/16 [==============================] - 0s 5ms/step - loss: 35.8759\n",
      "Epoch 80/100\n",
      "16/16 [==============================] - 0s 5ms/step - loss: 34.2034\n",
      "Epoch 81/100\n",
      "16/16 [==============================] - 0s 4ms/step - loss: 38.0138\n",
      "Epoch 82/100\n",
      "16/16 [==============================] - 0s 4ms/step - loss: 39.9867\n",
      "Epoch 83/100\n",
      "16/16 [==============================] - 0s 5ms/step - loss: 36.4927\n",
      "Epoch 84/100\n",
      "16/16 [==============================] - 0s 5ms/step - loss: 41.9407\n",
      "Epoch 85/100\n",
      "16/16 [==============================] - 0s 5ms/step - loss: 39.8412\n",
      "Epoch 86/100\n",
      "16/16 [==============================] - 0s 5ms/step - loss: 40.3095\n",
      "Epoch 87/100\n",
      "16/16 [==============================] - 0s 6ms/step - loss: 36.7054\n",
      "Epoch 88/100\n",
      "16/16 [==============================] - 0s 5ms/step - loss: 38.3461\n",
      "Epoch 89/100\n",
      "16/16 [==============================] - 0s 4ms/step - loss: 41.4729\n",
      "Epoch 90/100\n",
      "16/16 [==============================] - 0s 4ms/step - loss: 34.0334\n",
      "Epoch 91/100\n",
      "16/16 [==============================] - 0s 4ms/step - loss: 34.6037\n",
      "Epoch 92/100\n",
      "16/16 [==============================] - 0s 5ms/step - loss: 35.2472\n",
      "Epoch 93/100\n",
      "16/16 [==============================] - 0s 5ms/step - loss: 35.9467\n",
      "Epoch 94/100\n",
      "16/16 [==============================] - 0s 5ms/step - loss: 43.4531\n",
      "Epoch 95/100\n",
      "16/16 [==============================] - 0s 5ms/step - loss: 44.9912\n",
      "Epoch 96/100\n",
      "16/16 [==============================] - 0s 5ms/step - loss: 42.6760\n",
      "Epoch 97/100\n",
      "16/16 [==============================] - 0s 5ms/step - loss: 43.3576\n",
      "Epoch 98/100\n",
      "16/16 [==============================] - 0s 6ms/step - loss: 41.2022\n",
      "Epoch 99/100\n",
      "16/16 [==============================] - 0s 4ms/step - loss: 37.8308\n",
      "Epoch 100/100\n",
      "16/16 [==============================] - 0s 5ms/step - loss: 39.2207\n"
     ]
    },
    {
     "data": {
      "text/plain": [
       "<keras.callbacks.History at 0x7f8e901a2130>"
      ]
     },
     "execution_count": 10,
     "metadata": {},
     "output_type": "execute_result"
    }
   ],
   "source": [
    "#Defined our model\n",
    "model = Sequential()\n",
    "model.add(Dense(100, activation='relu', input_shape=(1,)))\n",
    "model.add(Dense(50, activation='relu'))\n",
    "model.add(Dense(25, activation='relu'))\n",
    "model.add(Dense(1, activation=None))\n",
    "\n",
    "#compile the model\n",
    "model.compile(optimizer=Adam(1e-1), loss='mse')\n",
    "\n",
    "#Training our model\n",
    "model.fit(X, y, batch_size=32, epochs=100)"
   ]
  },
  {
   "cell_type": "code",
   "execution_count": 11,
   "metadata": {
    "deletable": false,
    "editable": false
   },
   "outputs": [
    {
     "data": {
      "image/png": "[encoded data removed]",
      "text/plain": [
       "<Figure size 1080x360 with 1 Axes>"
      ]
     },
     "metadata": {
      "needs_background": "light"
     },
     "output_type": "display_data"
    }
   ],
   "source": [
    "X_test = np.linspace(min(X), max(X), 200)\n",
    "y_pred = model.predict(X_test)\n",
    "\n",
    "plt.figure(figsize=(15,5))\n",
    "plt.plot(X, y , '.', label='data')\n",
    "plt.plot(X_test, y_pred , '-', label='model', color='red')\n",
    "plt.xlabel('x')\n",
    "plt.ylabel('y')\n",
    "plt.legend();"
   ]
  },
  {
   "cell_type": "markdown",
   "metadata": {
    "deletable": false,
    "editable": false,
    "run_control": {
     "frozen": true
    }
   },
   "source": [
    "<p style=\"text-align: justify\"> As we can see the model is able to approximate a polynome. Let's try with another activation function such as <b>tanh</b>.</p>"
   ]
  },
  {
   "cell_type": "code",
   "execution_count": 12,
   "metadata": {
    "deletable": false,
    "editable": false
   },
   "outputs": [
    {
     "name": "stdout",
     "output_type": "stream",
     "text": [
      "Epoch 1/100\n",
      "8/8 [==============================] - 0s 5ms/step - loss: 221.2580\n",
      "Epoch 2/100\n",
      "8/8 [==============================] - 0s 6ms/step - loss: 172.9392\n",
      "Epoch 3/100\n",
      "8/8 [==============================] - 0s 4ms/step - loss: 161.3530\n",
      "Epoch 4/100\n",
      "8/8 [==============================] - 0s 5ms/step - loss: 155.4247\n",
      "Epoch 5/100\n",
      "8/8 [==============================] - 0s 5ms/step - loss: 155.0817\n",
      "Epoch 6/100\n",
      "8/8 [==============================] - 0s 5ms/step - loss: 154.1544\n",
      "Epoch 7/100\n",
      "8/8 [==============================] - 0s 5ms/step - loss: 153.8448\n",
      "Epoch 8/100\n",
      "8/8 [==============================] - 0s 5ms/step - loss: 152.0734\n",
      "Epoch 9/100\n",
      "8/8 [==============================] - 0s 5ms/step - loss: 151.0298\n",
      "Epoch 10/100\n",
      "8/8 [==============================] - 0s 5ms/step - loss: 149.6187\n",
      "Epoch 11/100\n",
      "8/8 [==============================] - 0s 5ms/step - loss: 143.5173\n",
      "Epoch 12/100\n",
      "8/8 [==============================] - 0s 5ms/step - loss: 134.0568\n",
      "Epoch 13/100\n",
      "8/8 [==============================] - 0s 5ms/step - loss: 122.0769\n",
      "Epoch 14/100\n",
      "8/8 [==============================] - 0s 5ms/step - loss: 108.8203\n",
      "Epoch 15/100\n",
      "8/8 [==============================] - 0s 5ms/step - loss: 102.9156\n",
      "Epoch 16/100\n",
      "8/8 [==============================] - 0s 5ms/step - loss: 96.7910\n",
      "Epoch 17/100\n",
      "8/8 [==============================] - 0s 5ms/step - loss: 84.6526\n",
      "Epoch 18/100\n",
      "8/8 [==============================] - 0s 5ms/step - loss: 78.6077\n",
      "Epoch 19/100\n",
      "8/8 [==============================] - 0s 4ms/step - loss: 71.4496\n",
      "Epoch 20/100\n",
      "8/8 [==============================] - 0s 5ms/step - loss: 65.1592\n",
      "Epoch 21/100\n",
      "8/8 [==============================] - 0s 4ms/step - loss: 62.4635\n",
      "Epoch 22/100\n",
      "8/8 [==============================] - 0s 5ms/step - loss: 59.2764\n",
      "Epoch 23/100\n",
      "8/8 [==============================] - 0s 5ms/step - loss: 54.3141\n",
      "Epoch 24/100\n",
      "8/8 [==============================] - 0s 5ms/step - loss: 50.6461\n",
      "Epoch 25/100\n",
      "8/8 [==============================] - 0s 5ms/step - loss: 49.9299\n",
      "Epoch 26/100\n",
      "8/8 [==============================] - 0s 5ms/step - loss: 47.8326\n",
      "Epoch 27/100\n",
      "8/8 [==============================] - 0s 5ms/step - loss: 48.3864\n",
      "Epoch 28/100\n",
      "8/8 [==============================] - 0s 5ms/step - loss: 61.2404\n",
      "Epoch 29/100\n",
      "8/8 [==============================] - 0s 5ms/step - loss: 60.9847\n",
      "Epoch 30/100\n",
      "8/8 [==============================] - 0s 5ms/step - loss: 45.5189\n",
      "Epoch 31/100\n",
      "8/8 [==============================] - 0s 4ms/step - loss: 43.5626\n",
      "Epoch 32/100\n",
      "8/8 [==============================] - 0s 4ms/step - loss: 44.0781\n",
      "Epoch 33/100\n",
      "8/8 [==============================] - 0s 4ms/step - loss: 44.3644\n",
      "Epoch 34/100\n",
      "8/8 [==============================] - 0s 4ms/step - loss: 38.4609\n",
      "Epoch 35/100\n",
      "8/8 [==============================] - 0s 5ms/step - loss: 36.3454\n",
      "Epoch 36/100\n",
      "8/8 [==============================] - 0s 4ms/step - loss: 34.1745\n",
      "Epoch 37/100\n",
      "8/8 [==============================] - 0s 5ms/step - loss: 33.5972\n",
      "Epoch 38/100\n",
      "8/8 [==============================] - 0s 5ms/step - loss: 34.9690\n",
      "Epoch 39/100\n",
      "8/8 [==============================] - 0s 5ms/step - loss: 32.7255\n",
      "Epoch 40/100\n",
      "8/8 [==============================] - 0s 5ms/step - loss: 31.8363\n",
      "Epoch 41/100\n",
      "8/8 [==============================] - 0s 4ms/step - loss: 31.4868\n",
      "Epoch 42/100\n",
      "8/8 [==============================] - 0s 4ms/step - loss: 30.5799\n",
      "Epoch 43/100\n",
      "8/8 [==============================] - 0s 4ms/step - loss: 43.3409\n",
      "Epoch 44/100\n",
      "8/8 [==============================] - 0s 5ms/step - loss: 40.2500\n",
      "Epoch 45/100\n",
      "8/8 [==============================] - 0s 4ms/step - loss: 38.3509\n",
      "Epoch 46/100\n",
      "8/8 [==============================] - 0s 4ms/step - loss: 35.2690\n",
      "Epoch 47/100\n",
      "8/8 [==============================] - 0s 4ms/step - loss: 34.8391\n",
      "Epoch 48/100\n",
      "8/8 [==============================] - 0s 5ms/step - loss: 31.7444\n",
      "Epoch 49/100\n",
      "8/8 [==============================] - 0s 5ms/step - loss: 32.4221\n",
      "Epoch 50/100\n",
      "8/8 [==============================] - 0s 4ms/step - loss: 49.9006\n",
      "Epoch 51/100\n",
      "8/8 [==============================] - 0s 6ms/step - loss: 59.0294\n",
      "Epoch 52/100\n",
      "8/8 [==============================] - 0s 5ms/step - loss: 49.5458\n",
      "Epoch 53/100\n",
      "8/8 [==============================] - 0s 4ms/step - loss: 44.7719\n",
      "Epoch 54/100\n",
      "8/8 [==============================] - 0s 4ms/step - loss: 30.4141\n",
      "Epoch 55/100\n",
      "8/8 [==============================] - 0s 4ms/step - loss: 29.3609\n",
      "Epoch 56/100\n",
      "8/8 [==============================] - 0s 5ms/step - loss: 29.2305\n",
      "Epoch 57/100\n",
      "8/8 [==============================] - 0s 4ms/step - loss: 29.1251\n",
      "Epoch 58/100\n",
      "8/8 [==============================] - 0s 4ms/step - loss: 28.2336\n",
      "Epoch 59/100\n",
      "8/8 [==============================] - 0s 4ms/step - loss: 28.3889\n",
      "Epoch 60/100\n",
      "8/8 [==============================] - 0s 4ms/step - loss: 30.6340\n",
      "Epoch 61/100\n",
      "8/8 [==============================] - 0s 5ms/step - loss: 30.3017\n",
      "Epoch 62/100\n",
      "8/8 [==============================] - 0s 5ms/step - loss: 28.4922\n",
      "Epoch 63/100\n",
      "8/8 [==============================] - 0s 4ms/step - loss: 28.2590\n",
      "Epoch 64/100\n",
      "8/8 [==============================] - 0s 4ms/step - loss: 29.8611\n",
      "Epoch 65/100\n",
      "8/8 [==============================] - 0s 5ms/step - loss: 28.3527\n",
      "Epoch 66/100\n",
      "8/8 [==============================] - 0s 5ms/step - loss: 28.0453\n",
      "Epoch 67/100\n",
      "8/8 [==============================] - 0s 4ms/step - loss: 29.1902\n",
      "Epoch 68/100\n",
      "8/8 [==============================] - 0s 4ms/step - loss: 27.7526\n",
      "Epoch 69/100\n",
      "8/8 [==============================] - 0s 5ms/step - loss: 27.8374\n",
      "Epoch 70/100\n",
      "8/8 [==============================] - 0s 4ms/step - loss: 28.5838\n",
      "Epoch 71/100\n",
      "8/8 [==============================] - 0s 4ms/step - loss: 28.1654\n",
      "Epoch 72/100\n",
      "8/8 [==============================] - 0s 4ms/step - loss: 28.1417\n",
      "Epoch 73/100\n",
      "8/8 [==============================] - 0s 4ms/step - loss: 27.5216\n",
      "Epoch 74/100\n",
      "8/8 [==============================] - 0s 5ms/step - loss: 27.0071\n",
      "Epoch 75/100\n",
      "8/8 [==============================] - 0s 5ms/step - loss: 27.0440\n",
      "Epoch 76/100\n",
      "8/8 [==============================] - 0s 4ms/step - loss: 34.4853\n",
      "Epoch 77/100\n",
      "8/8 [==============================] - 0s 5ms/step - loss: 40.9890\n",
      "Epoch 78/100\n",
      "8/8 [==============================] - 0s 5ms/step - loss: 31.3874\n",
      "Epoch 79/100\n",
      "8/8 [==============================] - 0s 5ms/step - loss: 27.3227\n",
      "Epoch 80/100\n",
      "8/8 [==============================] - 0s 4ms/step - loss: 28.4857\n",
      "Epoch 81/100\n",
      "8/8 [==============================] - 0s 5ms/step - loss: 27.4222\n",
      "Epoch 82/100\n",
      "8/8 [==============================] - 0s 4ms/step - loss: 27.0768\n",
      "Epoch 83/100\n",
      "8/8 [==============================] - 0s 4ms/step - loss: 27.4691\n",
      "Epoch 84/100\n",
      "8/8 [==============================] - 0s 4ms/step - loss: 28.9144\n",
      "Epoch 85/100\n",
      "8/8 [==============================] - 0s 4ms/step - loss: 28.2088\n",
      "Epoch 86/100\n",
      "8/8 [==============================] - 0s 5ms/step - loss: 28.0268\n",
      "Epoch 87/100\n",
      "8/8 [==============================] - 0s 4ms/step - loss: 28.7693\n",
      "Epoch 88/100\n",
      "8/8 [==============================] - 0s 5ms/step - loss: 27.6457\n",
      "Epoch 89/100\n",
      "8/8 [==============================] - 0s 4ms/step - loss: 28.1658\n",
      "Epoch 90/100\n",
      "8/8 [==============================] - 0s 4ms/step - loss: 26.7373\n",
      "Epoch 91/100\n",
      "8/8 [==============================] - 0s 5ms/step - loss: 29.0382\n",
      "Epoch 92/100\n",
      "8/8 [==============================] - 0s 4ms/step - loss: 28.7029\n",
      "Epoch 93/100\n",
      "8/8 [==============================] - 0s 4ms/step - loss: 32.3876\n",
      "Epoch 94/100\n",
      "8/8 [==============================] - 0s 5ms/step - loss: 39.4329\n",
      "Epoch 95/100\n",
      "8/8 [==============================] - 0s 4ms/step - loss: 37.5045\n",
      "Epoch 96/100\n",
      "8/8 [==============================] - 0s 4ms/step - loss: 40.7706\n",
      "Epoch 97/100\n",
      "8/8 [==============================] - 0s 5ms/step - loss: 35.0804\n",
      "Epoch 98/100\n",
      "8/8 [==============================] - 0s 4ms/step - loss: 28.4287\n",
      "Epoch 99/100\n",
      "8/8 [==============================] - 0s 4ms/step - loss: 26.4723\n",
      "Epoch 100/100\n",
      "8/8 [==============================] - 0s 3ms/step - loss: 26.9762\n"
     ]
    },
    {
     "data": {
      "text/plain": [
       "<keras.callbacks.History at 0x7f8e9007c9a0>"
      ]
     },
     "execution_count": 12,
     "metadata": {},
     "output_type": "execute_result"
    }
   ],
   "source": [
    "#Defined our model\n",
    "model = Sequential()\n",
    "model.add(Dense(100, activation='tanh', input_shape=(1,)))\n",
    "model.add(Dense(50, activation='tanh'))\n",
    "model.add(Dense(25, activation='tanh'))\n",
    "model.add(Dense(1, activation=None))\n",
    "\n",
    "#compile the model\n",
    "model.compile(optimizer=Adam(1e-2), loss='mse')\n",
    "\n",
    "#Training our model\n",
    "model.fit(X, y, batch_size=64, epochs=100)"
   ]
  },
  {
   "cell_type": "code",
   "execution_count": 13,
   "metadata": {
    "deletable": false,
    "editable": false
   },
   "outputs": [
    {
     "data": {
      "image/png": "[encoded data removed]",
      "text/plain": [
       "<Figure size 1080x360 with 1 Axes>"
      ]
     },
     "metadata": {
      "needs_background": "light"
     },
     "output_type": "display_data"
    }
   ],
   "source": [
    "X_test = np.linspace(min(X), max(X), 200)\n",
    "y_pred = model.predict(X_test)\n",
    "\n",
    "plt.figure(figsize=(15,5))\n",
    "plt.plot(X, y , '.', label='data')\n",
    "plt.plot(X_test, y_pred , '-', label='model', color='red')\n",
    "plt.xlabel('x')\n",
    "plt.ylabel('y')\n",
    "plt.legend();"
   ]
  },
  {
   "cell_type": "markdown",
   "metadata": {
    "deletable": false,
    "editable": false,
    "run_control": {
     "frozen": true
    }
   },
   "source": [
    "<p style=\"text-align: justify;text-indent: 30px\"> You will find many other activation function <a href=\"https://keras.io/api/layers/activations/\")>here</a>. Backpropagation is a key step to understand how to update weights during the training.</p>\n",
    "    \n",
    "<p>To understand the purpose we can go back to our first model with only one neurone. This was our output :</p>\n",
    "\n",
    "<br>\n",
    "<center>\n",
    "    $Output = \\sigma(b + \\sum_{i=1}^{n}{w_i\\cdot{x_i}})$\n",
    "</center>\n",
    "\n",
    "<p>Considering we are predicting a continuous variable we assume that $\\sigma$ is the identity and then we have :</p>\n",
    "<br>\n",
    "<center>\n",
    "    $Output = b + \\sum_{i=1}^{n}{w_i\\cdot{x_i}}$\n",
    "</center>\n",
    "\n",
    "<p> Then the loss (MSE) becomes :</p>\n",
    "<br>\n",
    "<center>\n",
    "    $loss = \\frac{1}{n}\\sum_{i=1}^{n}{(y_i - (b + \\sum_{i=1}^{n}{w_i\\cdot{x_i}}})^2)$\n",
    "</center>\n",
    "\n",
    "<p> In order to update the weights of our model we need to calculate the first derivative of our loss function regarding $w_j$ :</p>\n",
    "\n",
    "<br>\n",
    "<center>\n",
    "    $\\frac{\\partial loss}{\\partial w_j} = \\frac{-2}{n}\\sum_{i=1}^{n}x_j\\cdot{(y_i - b + \\sum_{i=1}^{n}{w_i\\cdot{x_i}})} = \\frac{-2}{n}\\sum_{i=1}^{n}x_j\\cdot({y_i - \\hat{y_i}})$\n",
    "</center>\n",
    "\n",
    "<p>Then we can update the weights according to the Gradient Descent algorithm :</p>\n",
    "\n",
    "<br>\n",
    "<center>\n",
    "    $w_j = w_j - \\alpha\\cdot{\\frac{\\partial loss}{\\partial w_j}}$\n",
    "</center>    \n",
    "\n",
    "<p>We can do the same with the bias :</p>\n",
    "\n",
    "<br>\n",
    "<center>\n",
    "    $\\frac{\\partial loss}{\\partial b} = \\frac{-2}{n}\\sum_{i=1}^{n}({y_i - \\hat{y_i}})$\n",
    "</center>  \n",
    "\n",
    "<br>\n",
    "<center>\n",
    "    $b = b - \\alpha\\cdot\\frac{\\partial loss}{\\partial b}$\n",
    "</center> \n",
    "\n",
    "<p> We iterate the process until we get convergence and minimize the loss as much as possible. It's possible to generalise this process with activation function for Multi-Layer Perceptron (MLP) model. The backpropagation algorithm is implemented in <b>keras</b> and used to optimize deep neural network.</p>\n",
    "\n",
    "<p>Let's see the results we obtain on a more concrete example, the Fashion MNIST Dataset.<p>\n"
   ]
  },
  {
   "cell_type": "code",
   "execution_count": 14,
   "metadata": {
    "deletable": false,
    "editable": false,
    "scrolled": true
   },
   "outputs": [
    {
     "name": "stdout",
     "output_type": "stream",
     "text": [
      "(50000, 28, 28) (10000, 28, 28)\n"
     ]
    },
    {
     "data": {
      "image/png": "[encoded data removed]",
      "text/plain": [
       "<Figure size 432x288 with 1 Axes>"
      ]
     },
     "metadata": {
      "needs_background": "light"
     },
     "output_type": "display_data"
    }
   ],
   "source": [
    "(X_train, y_train), (X_test, y_test) = load_data()\n",
    "\n",
    "X_val = X_train[-10000:]\n",
    "y_val = y_train[-10000:]\n",
    "\n",
    "X_train = X_train[:-10000]\n",
    "y_train = y_train[:-10000]\n",
    "\n",
    "print(X_train.shape, X_test.shape)\n",
    "\n",
    "aleat = np.random.randint(0,len(X_train))\n",
    "number = X_train[aleat]\n",
    "\n",
    "plt.imshow(number, cmap='gray');"
   ]
  },
  {
   "cell_type": "markdown",
   "metadata": {
    "deletable": false,
    "editable": false,
    "run_control": {
     "frozen": true
    }
   },
   "source": [
    "<p style=\"text-align: justify;text-indent: 30px\"> Before starting we need to define our goal. We want to train our model to recognize 10 fashion categories which represent 10 classes. Indeed we want on our last layer 10 neurones each returning an activation level. The highest will be the class predicted. In order to do that we can use the <b>softmax</b> activation function on our last layer and a specific loss function : <b>SparseCategoricalCrossentropy</b>.</p>\n",
    "\n",
    "<p style=\"text-align: justify;text-indent: 30px\"> By using the <b>softmax</b> on the last layer, the elements of the output vector are in range (0, 1) and sum to 1.\n",
    "    <b>Softmax</b> converts a vector of values to a probability distribution.</p>\n",
    "    \n",
    "<p>Finally we will consider each pixels of our image as an inputs for our model which give us 784 neurones on the first layer.</p> "
   ]
  },
  {
   "cell_type": "code",
   "execution_count": 15,
   "metadata": {
    "deletable": false,
    "editable": false,
    "scrolled": true
   },
   "outputs": [
    {
     "name": "stdout",
     "output_type": "stream",
     "text": [
      "Epoch 1/10\n",
      "782/782 [==============================] - 4s 5ms/step - loss: 0.5801 - acc: 0.7949 - val_loss: 0.4541 - val_acc: 0.8354\n",
      "Epoch 2/10\n",
      "782/782 [==============================] - 4s 5ms/step - loss: 0.4085 - acc: 0.8545 - val_loss: 0.4284 - val_acc: 0.8490\n",
      "Epoch 3/10\n",
      "782/782 [==============================] - 4s 5ms/step - loss: 0.3684 - acc: 0.8672 - val_loss: 0.3901 - val_acc: 0.8593\n",
      "Epoch 4/10\n",
      "782/782 [==============================] - 4s 5ms/step - loss: 0.3448 - acc: 0.8746 - val_loss: 0.3895 - val_acc: 0.8545\n",
      "Epoch 5/10\n",
      "782/782 [==============================] - 4s 5ms/step - loss: 0.3251 - acc: 0.8814 - val_loss: 0.3664 - val_acc: 0.8682\n",
      "Epoch 6/10\n",
      "782/782 [==============================] - 4s 5ms/step - loss: 0.3134 - acc: 0.8843 - val_loss: 0.3357 - val_acc: 0.8783\n",
      "Epoch 7/10\n",
      "782/782 [==============================] - 4s 5ms/step - loss: 0.2985 - acc: 0.8897 - val_loss: 0.3607 - val_acc: 0.8681\n",
      "Epoch 8/10\n",
      "782/782 [==============================] - 4s 5ms/step - loss: 0.2867 - acc: 0.8944 - val_loss: 0.3508 - val_acc: 0.8766\n",
      "Epoch 9/10\n",
      "782/782 [==============================] - 4s 5ms/step - loss: 0.2812 - acc: 0.8955 - val_loss: 0.3483 - val_acc: 0.8771\n",
      "Epoch 10/10\n",
      "782/782 [==============================] - 4s 5ms/step - loss: 0.2697 - acc: 0.8998 - val_loss: 0.3332 - val_acc: 0.8834\n"
     ]
    },
    {
     "data": {
      "text/plain": [
       "<keras.callbacks.History at 0x7f8e7c6631c0>"
      ]
     },
     "execution_count": 15,
     "metadata": {},
     "output_type": "execute_result"
    }
   ],
   "source": [
    "mlp_mnist = Sequential()\n",
    "mlp_mnist.add(Flatten())\n",
    "mlp_mnist.add(Dense(50,activation='relu'))\n",
    "mlp_mnist.add(Dense(50,activation='relu'))\n",
    "mlp_mnist.add(Dense(10,activation='softmax'))\n",
    "\n",
    "#compile the model\n",
    "mlp_mnist.compile(optimizer=\"adam\", metrics = ['acc'], loss='sparse_categorical_crossentropy')\n",
    "\n",
    "#Training our model\n",
    "mlp_mnist.fit(X_train/255, y_train, validation_data=(X_val/255, y_val), batch_size=64, epochs=10)"
   ]
  },
  {
   "cell_type": "markdown",
   "metadata": {
    "deletable": false,
    "editable": false,
    "run_control": {
     "frozen": true
    }
   },
   "source": [
    "Let's evaluate the training of our model."
   ]
  },
  {
   "cell_type": "code",
   "execution_count": 16,
   "metadata": {
    "deletable": false,
    "editable": false
   },
   "outputs": [
    {
     "name": "stdout",
     "output_type": "stream",
     "text": [
      "313/313 - 1s - loss: 0.3548 - acc: 0.8775 - 969ms/epoch - 3ms/step\n",
      "[0.35482925176620483, 0.8774999976158142]\n"
     ]
    },
    {
     "data": {
      "image/png": "[encoded data removed]",
      "text/plain": [
       "<Figure size 864x360 with 2 Axes>"
      ]
     },
     "metadata": {
      "needs_background": "light"
     },
     "output_type": "display_data"
    }
   ],
   "source": [
    "print(mlp_mnist.evaluate(X_test/255,  y_test, verbose=2))\n",
    "\n",
    "pred = mlp_mnist.predict(X_test)\n",
    "pred = [np.argmax(arr) for arr in pred]\n",
    "\n",
    "labels = [\"T-shirt/top\",\n",
    "          \"Trouser\",\n",
    "          \"Pullover\",\n",
    "          \"Dress\",\n",
    "          \"Coat\",\n",
    "          \"Sandal\",\n",
    "          \"Shirt\",\n",
    "          \"Sneaker\",\n",
    "          \"Bag\",\n",
    "          \"Ankle boot\"]\n",
    "\n",
    "plt.figure(figsize = (12,5))\n",
    "ax = sns.heatmap(confusion_matrix(y_test, pred), \n",
    "                 annot=True, \n",
    "                 cmap=\"YlGnBu\",\n",
    "                 xticklabels=labels, \n",
    "                 yticklabels=labels)"
   ]
  },
  {
   "cell_type": "markdown",
   "metadata": {
    "deletable": false,
    "editable": false,
    "run_control": {
     "frozen": true
    }
   },
   "source": [
    "<p style=\"text-align: justify;text-indent: 30px\"> The results are quite good but we observe that many Pullover are misclassified with Coat for example. We can do better and we will see how on the next part. "
   ]
  },
  {
   "cell_type": "markdown",
   "metadata": {
    "deletable": false,
    "editable": false,
    "run_control": {
     "frozen": true
    },
    "solution2": "shown",
    "solution2_first": true
   },
   "source": [
    "<span style=\"color:#004475\"><b> Exercice 2 : Let's play with the previous model by changing the number of neurons and the activation function by tanh or elu for example.</b>"
   ]
  },
  {
   "cell_type": "code",
   "execution_count": 17,
   "metadata": {
    "deletable": false,
    "editable": false,
    "solution2": "shown"
   },
   "outputs": [
    {
     "name": "stdout",
     "output_type": "stream",
     "text": [
      "Epoch 1/10\n",
      "782/782 [==============================] - 4s 5ms/step - loss: 0.4928 - acc: 0.8232 - val_loss: 0.4016 - val_acc: 0.8506\n",
      "Epoch 2/10\n",
      "782/782 [==============================] - 4s 5ms/step - loss: 0.3705 - acc: 0.8638 - val_loss: 0.3601 - val_acc: 0.8668\n",
      "Epoch 3/10\n",
      "782/782 [==============================] - 4s 5ms/step - loss: 0.3335 - acc: 0.8780 - val_loss: 0.3714 - val_acc: 0.8660\n",
      "Epoch 4/10\n",
      "782/782 [==============================] - 4s 5ms/step - loss: 0.3094 - acc: 0.8863 - val_loss: 0.3411 - val_acc: 0.8743\n",
      "Epoch 5/10\n",
      "782/782 [==============================] - 4s 5ms/step - loss: 0.2911 - acc: 0.8915 - val_loss: 0.3325 - val_acc: 0.8808\n",
      "Epoch 6/10\n",
      "782/782 [==============================] - 4s 5ms/step - loss: 0.2760 - acc: 0.8975 - val_loss: 0.3335 - val_acc: 0.8804\n",
      "Epoch 7/10\n",
      "782/782 [==============================] - 4s 5ms/step - loss: 0.2604 - acc: 0.9037 - val_loss: 0.3254 - val_acc: 0.8807\n",
      "Epoch 8/10\n",
      "782/782 [==============================] - 4s 5ms/step - loss: 0.2513 - acc: 0.9059 - val_loss: 0.3239 - val_acc: 0.8845\n",
      "Epoch 9/10\n",
      "782/782 [==============================] - 4s 5ms/step - loss: 0.2412 - acc: 0.9108 - val_loss: 0.3162 - val_acc: 0.8837\n",
      "Epoch 10/10\n",
      "782/782 [==============================] - 4s 5ms/step - loss: 0.2326 - acc: 0.9134 - val_loss: 0.3350 - val_acc: 0.8827\n"
     ]
    },
    {
     "data": {
      "text/plain": [
       "<keras.callbacks.History at 0x7f8e903fcbb0>"
      ]
     },
     "execution_count": 17,
     "metadata": {},
     "output_type": "execute_result"
    }
   ],
   "source": [
    "mlp_mnist_2 = Sequential()\n",
    "mlp_mnist_2.add(Flatten())\n",
    "mlp_mnist_2.add(Dense(200,activation='tanh'))\n",
    "mlp_mnist_2.add(Dense(100,activation='tanh'))\n",
    "mlp_mnist_2.add(Dense(10,activation='softmax'))\n",
    "\n",
    "#compile the model\n",
    "mlp_mnist_2.compile(optimizer=\"adam\", metrics = ['acc'], loss='sparse_categorical_crossentropy')\n",
    "\n",
    "#Training our model\n",
    "mlp_mnist_2.fit(X_train/255, y_train, validation_data=(X_val/255, y_val), batch_size=64, epochs=10)"
   ]
  },
  {
   "cell_type": "markdown",
   "metadata": {
    "deletable": false,
    "editable": false,
    "run_control": {
     "frozen": true
    }
   },
   "source": [
    "<p style=\"text-align: justify;text-indent: 30px\"> An idea to improve the model is to imagine that we could apply and optimize filters on our image to get the most important features regarding our classes and reduce the dimension of our image filtered. Indeed it will keep the most important features in our image and reduce its dimensions. That's the idea to keep in mind to understand the Convolution part.</p>\n",
    "\n",
    "<center><img src=\"https://www.ismailmebsout.com/static/9908cee6d214afb1a6c018c3e973e5d0/108f8/learned_filter.png\" width=400></center>\n",
    "\n",
    "<br>\n",
    "<p style=\"font-size:30px;color:#004475\">IV. Convolution </p>\n",
    "</br>\n",
    "\n",
    "Before defining the convolutional product, we will first discover `padding` and `stride`\n",
    "- **Padding**: adding of elements around the pictures in order to take into account the information in the borders\n",
    "\n",
    "<center><img src=\"https://miro.medium.com/max/1400/1*9reDuDh3nXs_kJ-M4eq0Ow.png\" width=600></center>\n",
    "\n",
    "- **Stride**: the step taking in the convolutional product, it allows to shrink faster the size of the output \n",
    "\n",
    "<center><img src=\"https://miro.medium.com/max/1400/1*g_RWc_Z5ws6fzdbrkOkOPw.png\" width=600></center>\n",
    "\n",
    "- **Convolutional product**:\n",
    "<br> Let's consider the case of a 3D image $(n_C=3)$ the convolutional with a filter is described by the following graph: \n",
    "\n",
    "<center><img src=\"https://miro.medium.com/max/1400/1*oCW5sShGseY-VNw1IjGR3w.png\" width=600></center>\n",
    "\n",
    "With : \n",
    "* $n_H$ the height of our image\n",
    "* $n_W$ the width of our image\n",
    "* $n_C$ the nbr of channels: grayscale:1, RGB:3 ...\n",
    "\n",
    "<b>To go further</b> : \n",
    "\n",
    "In case of multiples fitlers we get:\n",
    "* `Input`: $a^{[l-1]}$ with size $(n_H^{[l-1]},n_W^{[l-1]},n_C^{[l-1]})$, $a^{[0]}$ being the image in the input\n",
    "* `Padding`: $p^{[l]}$, `stride`: $s^{[l]}$\n",
    "* `Number of filters`: $n_C^{[l]}$ where each $K^{(n)}$ has the dimension: $(f^{[l]}, f^{[l]}, n_C^{[l-1]})$\n",
    "* `Bias` of the $n^{th}$ convolution: $b^{[l]}_n$\n",
    "* `Activation function`: $\\psi^{[l]}$\n",
    "* `Output`: $a^{[l]}$ with size $(n_H^{[l]},n_W^{[l]},n_C^{[l]})$\n",
    "\n",
    ">$\\forall n \\in [1,2,...,n_C^{[l]}]:$ <center>$$conv(a^{[l-1]},K^{(n)})_{x,y}=\\psi^{[l]}(\\sum_{i=1}^{n_H^{[l-1]}}\\sum_{j=1}^{n_W^{[l-1]}}\\sum_{k=1}^{n_C^{[l-1]}}K^{(n)}_{i,j,k} a^{[l-1]}_{x+i-1,y+j-1,k}+b^{[l]}_n)\\\\dim(conv(a^{[l-1]},K^{(n)}))=(n_H^{[l]},n_W^{[l]})$$</center>\n",
    "\n",
    "<center><img src=\"https://miro.medium.com/max/1400/1*yld1twhx2-RRir7oPafbTw.png\" width=600></center>\n",
    "\n",
    "The `learned parameters` at the $l^{th}$ layer are:\n",
    "* **Filters** with $(f^{[l]}\\times f^{[l]}\\times n_C^{[l-1]})\\times n_C^{[l]}$ parameters\n",
    "* **Bias** with $(1\\times 1\\times 1)\\times n_C^{[l]}$ parameters (broadcasting)"
   ]
  },
  {
   "cell_type": "code",
   "execution_count": 18,
   "metadata": {
    "deletable": false,
    "editable": false
   },
   "outputs": [
    {
     "data": {
      "image/png": "[encoded data removed]",
      "text/plain": [
       "<Figure size 864x432 with 3 Axes>"
      ]
     },
     "metadata": {
      "needs_background": "light"
     },
     "output_type": "display_data"
    }
   ],
   "source": [
    "images = np.expand_dims(X_train[:4], -1).astype(float)\n",
    "output = tf.keras.layers.Conv2D(3, (3, 3), activation='relu', input_shape=(28, 28,1))(images)\n",
    "\n",
    "image = output.numpy()[0]\n",
    "\n",
    "_, axs=plt.subplots(1,3, figsize=(12,6))\n",
    "axs[0].imshow(image[:,:,0], cmap='gray');\n",
    "axs[1].imshow(image[:,:,1], cmap='gray');\n",
    "axs[2].imshow(image[:,:,2], cmap='gray');"
   ]
  },
  {
   "cell_type": "markdown",
   "metadata": {
    "deletable": false,
    "editable": false,
    "run_control": {
     "frozen": true
    },
    "solution2": "shown",
    "solution2_first": true
   },
   "source": [
    "<span style=\"color:#004475\"><b> Exercice 3 : Try to implement two successive convolutional layers and observe the result on one image.</b>"
   ]
  },
  {
   "cell_type": "code",
   "execution_count": 19,
   "metadata": {
    "deletable": false,
    "editable": false,
    "scrolled": true,
    "solution2": "shown"
   },
   "outputs": [
    {
     "data": {
      "image/png": "[encoded data removed]",
      "text/plain": [
       "<Figure size 864x432 with 3 Axes>"
      ]
     },
     "metadata": {
      "needs_background": "light"
     },
     "output_type": "display_data"
    }
   ],
   "source": [
    "images = np.expand_dims(X_train[:4], -1).astype(float)\n",
    "hidden = tf.keras.layers.Conv2D(3, (3, 3), activation='relu', input_shape=(28, 28,1))(images)\n",
    "output = tf.keras.layers.Conv2D(3, (3, 3), activation='relu')(hidden)\n",
    "\n",
    "image = output.numpy()[0]\n",
    "\n",
    "_, axs=plt.subplots(1,3, figsize=(12,6))\n",
    "axs[0].imshow(image[:,:,0], cmap='gray');\n",
    "axs[1].imshow(image[:,:,1], cmap='gray');\n",
    "axs[2].imshow(image[:,:,2], cmap='gray');"
   ]
  },
  {
   "cell_type": "markdown",
   "metadata": {
    "deletable": false,
    "editable": false,
    "run_control": {
     "frozen": true
    }
   },
   "source": [
    "<br>\n",
    "<p style=\"font-size:18px;color:#004475\">IV.1.1 Pooling </p>\n",
    "</br>\n",
    "\n",
    "The pooling layer aims at downsampling the features of the input without impacting the number of the channels:\n",
    "* `Input`: $a^{[l-1]}$ with size $(n_H^{[l-1]},n_W^{[l-1]},n_C^{[l-1]})$, $a^{[0]}$ being the image in the input\n",
    "* `Padding`: $p^{[l]}$(rarely used), `stride`: $s^{[l]}$\n",
    "* `Size` of the pooling filter: $f^{[l]}$\n",
    "* `pooling function`: $\\phi^{[l]}$\n",
    "* `Output`: $a^{[l]}$ with size $(n_H^{[l]},n_W^{[l]},n_C^{[l]}=n_C^{[l-1]})$\n",
    "\n",
    "<center>\n",
    "\n",
    ">$$pool(a^{[l-1]})_{x,y,z}=\\phi^{[l]}((a^{[l-1]}_{x+i-1,y+j-1,z})_{(i,j)\\in [1,2,...,f^{[l]}]^2})\\\\dim(a^{[l]})=(n_H^{[l]},n_W^{[l]},n_C^{[l]})$$\n",
    "\n",
    "</center>\n",
    "\n",
    "<center><img src=\"https://miro.medium.com/max/1400/1*3AYOdJJ6aNVuj7sGzFPbzw.png\" width=600></center>\n",
    "\n",
    "`No parameter` to learn!\n",
    "\n",
    "This is the result when we apply a MaxPooling2D operation : \n",
    "\n",
    "<a>\n",
    "    <img src=\"../src/figures/maxpool.jpeg\" width=\"700\" height=\"380\">\n",
    "</a>"
   ]
  },
  {
   "cell_type": "code",
   "execution_count": 20,
   "metadata": {
    "deletable": false,
    "editable": false
   },
   "outputs": [
    {
     "data": {
      "image/png": "[encoded data removed]",
      "text/plain": [
       "<Figure size 864x432 with 3 Axes>"
      ]
     },
     "metadata": {
      "needs_background": "light"
     },
     "output_type": "display_data"
    }
   ],
   "source": [
    "output_pool = tf.keras.layers.MaxPool2D(pool_size=(2, 2), strides=None, padding='same')(output)\n",
    "\n",
    "image_pooled = output_pool.numpy()[0]\n",
    "\n",
    "_, axs=plt.subplots(1,3, figsize=(12,6))\n",
    "axs[0].imshow(image_pooled[:,:,0], cmap='gray');\n",
    "axs[1].imshow(image_pooled[:,:,1], cmap='gray');\n",
    "axs[2].imshow(image_pooled[:,:,2], cmap='gray');"
   ]
  },
  {
   "cell_type": "markdown",
   "metadata": {
    "deletable": false,
    "editable": false,
    "run_control": {
     "frozen": true
    }
   },
   "source": [
    "<br>\n",
    "<p style=\"font-size:18px;color:#004475\">IV.1.2 CNN architecture </p>\n",
    "</br>\n",
    "In general, a convolutional neural network is a serie of all the operations described above as follows:\n",
    "\n",
    "<center><img src=\"https://miro.medium.com/max/1400/1*uSQdT2LwPWzIXBdlHnJVMg.png\" width=600></center>\n",
    "\n",
    "The main idea is: going from an image would want to decrease $n_H$ and $n_W$ and increase $n_C$ as follows:\n",
    "\n",
    "\n",
    "<center><img src=\"https://miro.medium.com/max/1400/1*YejW73f36BGhNGhrtbz67g.png\" width=600></center>\n",
    "\n",
    "Let's try to implement a simple cnn inspired from Lenet-5 model on our fashion_mnist dataset to see if we improve the results."
   ]
  },
  {
   "cell_type": "code",
   "execution_count": 21,
   "metadata": {
    "deletable": false,
    "editable": false
   },
   "outputs": [
    {
     "name": "stdout",
     "output_type": "stream",
     "text": [
      "Epoch 1/10\n",
      "782/782 [==============================] - 7s 8ms/step - loss: 0.4977 - acc: 0.8208 - val_loss: 0.3674 - val_acc: 0.8686\n",
      "Epoch 2/10\n",
      "782/782 [==============================] - 7s 9ms/step - loss: 0.3240 - acc: 0.8830 - val_loss: 0.2987 - val_acc: 0.8921\n",
      "Epoch 3/10\n",
      "782/782 [==============================] - 7s 9ms/step - loss: 0.2754 - acc: 0.8987 - val_loss: 0.3045 - val_acc: 0.8873\n",
      "Epoch 4/10\n",
      "782/782 [==============================] - 6s 8ms/step - loss: 0.2434 - acc: 0.9102 - val_loss: 0.2576 - val_acc: 0.9040\n",
      "Epoch 5/10\n",
      "782/782 [==============================] - 7s 9ms/step - loss: 0.2179 - acc: 0.9204 - val_loss: 0.2544 - val_acc: 0.9087\n",
      "Epoch 6/10\n",
      "782/782 [==============================] - 6s 8ms/step - loss: 0.1953 - acc: 0.9286 - val_loss: 0.2356 - val_acc: 0.9139\n",
      "Epoch 7/10\n",
      "782/782 [==============================] - 7s 8ms/step - loss: 0.1780 - acc: 0.9336 - val_loss: 0.2495 - val_acc: 0.9088\n",
      "Epoch 8/10\n",
      "782/782 [==============================] - 6s 8ms/step - loss: 0.1585 - acc: 0.9414 - val_loss: 0.2353 - val_acc: 0.9167\n",
      "Epoch 9/10\n",
      "782/782 [==============================] - 6s 8ms/step - loss: 0.1390 - acc: 0.9494 - val_loss: 0.2654 - val_acc: 0.9114\n",
      "Epoch 10/10\n",
      "782/782 [==============================] - 6s 8ms/step - loss: 0.1233 - acc: 0.9542 - val_loss: 0.2540 - val_acc: 0.9123\n"
     ]
    },
    {
     "data": {
      "text/plain": [
       "<keras.callbacks.History at 0x7f8e7c266ca0>"
      ]
     },
     "execution_count": 21,
     "metadata": {},
     "output_type": "execute_result"
    }
   ],
   "source": [
    "lenet = Sequential()\n",
    "\n",
    "lenet.add(Conv2D(filters=6, kernel_size=(3, 3), activation='relu', padding ='same', input_shape=(28,28,1)))\n",
    "lenet.add(MaxPooling2D())\n",
    "lenet.add(Conv2D(filters=16, kernel_size=(3, 3), activation='relu', padding = 'same'))\n",
    "lenet.add(MaxPooling2D())\n",
    "lenet.add(Conv2D(filters=120, kernel_size=(3, 3), activation='relu', padding = 'same'))\n",
    "lenet.add(Flatten())\n",
    "lenet.add(Dense(units=84, activation='relu'))\n",
    "lenet.add(Dense(units=10, activation = 'softmax'))\n",
    "\n",
    "lenet.compile(optimizer=\"adam\", metrics = ['acc'], loss='sparse_categorical_crossentropy')\n",
    "\n",
    "lenet.fit(X_train/255, y_train, validation_data=(X_val/255, y_val), batch_size=64, epochs=10)"
   ]
  },
  {
   "cell_type": "code",
   "execution_count": 22,
   "metadata": {
    "deletable": false,
    "editable": false
   },
   "outputs": [
    {
     "data": {
      "image/png": "[encoded data removed]",
      "text/plain": [
       "<Figure size 864x360 with 1 Axes>"
      ]
     },
     "metadata": {
      "needs_background": "light"
     },
     "output_type": "display_data"
    }
   ],
   "source": [
    "history = lenet.history.history\n",
    "\n",
    "plt.figure(figsize=(12,5))\n",
    "plt.plot(list(range(10)),history['loss'], label = 'loss')\n",
    "plt.plot(list(range(10)),history['val_loss'], label = 'val_loss')\n",
    "plt.legend();"
   ]
  },
  {
   "cell_type": "code",
   "execution_count": 23,
   "metadata": {
    "deletable": false,
    "editable": false
   },
   "outputs": [
    {
     "name": "stdout",
     "output_type": "stream",
     "text": [
      "313/313 [==============================] - 1s 5ms/step - loss: 0.2697 - acc: 0.9065\n"
     ]
    },
    {
     "data": {
      "image/png": "[encoded data removed]",
      "text/plain": [
       "<Figure size 864x360 with 2 Axes>"
      ]
     },
     "metadata": {
      "needs_background": "light"
     },
     "output_type": "display_data"
    }
   ],
   "source": [
    "lenet.evaluate(X_test/255, y_test)\n",
    "\n",
    "pred = lenet.predict(X_test)\n",
    "pred = [np.argmax(arr) for arr in pred]\n",
    "\n",
    "labels = [\"T-shirt/top\",\n",
    "          \"Trouser\",\n",
    "          \"Pullover\",\n",
    "          \"Dress\",\n",
    "          \"Coat\",\n",
    "          \"Sandal\",\n",
    "          \"Shirt\",\n",
    "          \"Sneaker\",\n",
    "          \"Bag\",\n",
    "          \"Ankle boot\"]\n",
    "\n",
    "plt.figure(figsize = (12,5))\n",
    "ax = sns.heatmap(confusion_matrix(y_test, pred), \n",
    "                 annot=True, \n",
    "                 cmap=\"YlGnBu\",\n",
    "                 xticklabels=labels, \n",
    "                 yticklabels=labels)"
   ]
  },
  {
   "cell_type": "markdown",
   "metadata": {
    "deletable": false,
    "editable": false,
    "run_control": {
     "frozen": true
    }
   },
   "source": [
    "<p style=\"text-align: justify\"> The model we get is more accurate than the previous one as we can observe less mistakes between Coat and Pullover and a better global accuracy.</p>\n",
    "\n",
    "<p style=\"text-align: justify;text-indent: 30px\"> One of the biggest disavantage of this kind of model is that they require a huge amount of data and time to be trained well. A solution of this problem is to reuse pretrained model such as VGG16 or EfficientNet on large dataset."
   ]
  },
  {
   "cell_type": "markdown",
   "metadata": {
    "deletable": false,
    "editable": false,
    "run_control": {
     "frozen": true
    }
   },
   "source": [
    "<br>\n",
    "<p style=\"font-size:18px;color:#004475\">V. Transfer Learning </p>\n",
    "</br>\n",
    "\n",
    "<p style=\"text-align: justify;text-indent: 30px\"> On keras you can find many pretrained models trained on huge dataset such as Imagenet, use and evaluate them on your problem. The idea is simple : imagine you are trying to classify images of trucks and you find a model trained to classify cars. The features used to identify a car are quite close of those used to identify a truck, it could work. </p>\n",
    "\n",
    "<img src=\"../src/figures/download.png\" width=\"700\" height=\"380\">\n",
    "\n",
    "<p style=\"text-align: justify;text-indent: 30px\"> When we are using models such as VGG16 we usually import the feature extractor part of the model, indeed the convolutionnal part. We only trained the last layers that we add to the model and adapt to our problem. Let's see how to do that in the following code on the cifar10 dataset :"
   ]
  },
  {
   "cell_type": "code",
   "execution_count": 24,
   "metadata": {
    "deletable": false,
    "editable": false
   },
   "outputs": [
    {
     "name": "stdout",
     "output_type": "stream",
     "text": [
      "Epoch 1/5\n",
      "71/71 [==============================] - 2s 18ms/step - loss: 3.9063 - acc: 0.4260 - val_loss: 1.4411 - val_acc: 0.5000\n",
      "Epoch 2/5\n",
      "71/71 [==============================] - 1s 11ms/step - loss: 0.9910 - acc: 0.6584 - val_loss: 1.3188 - val_acc: 0.5540\n",
      "Epoch 3/5\n",
      "71/71 [==============================] - 1s 11ms/step - loss: 0.6452 - acc: 0.7751 - val_loss: 1.3908 - val_acc: 0.5780\n",
      "Epoch 4/5\n",
      "71/71 [==============================] - 1s 12ms/step - loss: 0.4371 - acc: 0.8440 - val_loss: 1.5477 - val_acc: 0.5600\n",
      "Epoch 5/5\n",
      "71/71 [==============================] - 1s 11ms/step - loss: 0.3144 - acc: 0.8936 - val_loss: 1.5133 - val_acc: 0.5660\n"
     ]
    },
    {
     "data": {
      "text/plain": [
       "<keras.callbacks.History at 0x7f8e243600a0>"
      ]
     },
     "execution_count": 24,
     "metadata": {},
     "output_type": "execute_result"
    }
   ],
   "source": [
    "(X_train_full, y_train_full), (X_test, y_test) = tf.keras.datasets.cifar10.load_data()\n",
    "\n",
    "_, X_train, _, y_train = train_test_split(X_train_full, y_train_full, test_size=0.1, stratify=y_train_full)\n",
    "\n",
    "base_model = VGG16(weights = 'imagenet', include_top = False, input_shape=(32,32,3))\n",
    "\n",
    "X_train_prep = preprocess_input(X_train)\n",
    "X_test_prep = preprocess_input(X_test)\n",
    "\n",
    "for layer in base_model.layers : \n",
    "    layer.trainable = False\n",
    "    \n",
    "vgg = Sequential()\n",
    "vgg.add(base_model)\n",
    "vgg.add(GlobalAveragePooling2D())\n",
    "vgg.add(Dense(1024, activation = 'relu'))\n",
    "vgg.add(Dropout(0.2))\n",
    "vgg.add(Dense(512, activation = 'relu'))\n",
    "vgg.add(Dense(10, activation = 'softmax'))\n",
    "\n",
    "vgg.compile(optimizer=\"adam\", metrics = ['acc'], loss='sparse_categorical_crossentropy')\n",
    "\n",
    "vgg.fit(X_train_prep, y_train, validation_split=0.1, batch_size=64, epochs=5)"
   ]
  },
  {
   "cell_type": "code",
   "execution_count": 25,
   "metadata": {
    "deletable": false,
    "editable": false
   },
   "outputs": [
    {
     "name": "stdout",
     "output_type": "stream",
     "text": [
      "313/313 [==============================] - 3s 9ms/step - loss: 1.5645 - acc: 0.5847\n"
     ]
    },
    {
     "data": {
      "text/plain": [
       "[1.5644878149032593, 0.5846999883651733]"
      ]
     },
     "execution_count": 25,
     "metadata": {},
     "output_type": "execute_result"
    }
   ],
   "source": [
    "vgg.evaluate(X_test_prep, y_test)"
   ]
  },
  {
   "cell_type": "markdown",
   "metadata": {
    "deletable": false,
    "editable": false,
    "run_control": {
     "frozen": true
    }
   },
   "source": [
    "<br>\n",
    "<p style=\"font-size:18px;color:#004475\">VI. YOLO - Object detection </p>\n",
    "</br>\n",
    "Object detection is the task of detecting multiple objects in an image which comprehenses both object localization and object classification. A first rough approach would be sliding a window with customizable dimensions and predict each time the class of the content using a network trained on cropped images. This process has a high computational cost and can luckily be automized using convolutions.\n",
    "<br>YOLO stands for <b>Y</b>ou <b>O</b>nly <b>L</b>ook <b>O</b>nce and the basic idea consists on placing a grid on the image (usually $19\\times 19$) where:\n",
    "\n",
    "> Only one cell, the one containing the center/midpoint of an object is responsible for detecting this object\n",
    "\n",
    "Each cell of the grid $(i,j)$ is labelled as follows:\n",
    "\n",
    "<center>\n",
    "\n",
    "> $y_{i,j}={}^T[p_c, b_x, b_y, b_w, b_h,c_1,c_2,...,c_N]$\n",
    "\n",
    "</center>\n",
    "\n",
    "Where:\n",
    "* $p_c$: the probability of presence of an object\n",
    "* $(b_x,b_y)$: the `normalized` coordinates of the object's center\n",
    "* $(b_w, b_h)$: the `normalized` width and height of the object's bounding box\n",
    "* $c_i$: the probability that the object belongs to the $i^{th}$ class\n",
    "* $N$: the number of classes\n",
    "\n",
    "<center><img src= \"https://www.ismailmebsout.com/static/d23ad4f70ef6facd65b2660a693a7797/00d43/annot_yolo.png\" width=600/></center>\n",
    "\n",
    "Hence, for each image the target output is of size:\n",
    "\n",
    "<center>\n",
    "\n",
    "> $size(target\\_output)=[n_x\\_cell\\times n_y\\_cell\\times (5+N), 1]$\n",
    "\n",
    "</center>\n",
    "\n",
    "Where $(n_x\\_cell\\times n_y\\_cell)$ is the size of the grid.\n",
    "\n",
    "<br>\n",
    "<p style=\"font-size:18px;color:#004475\">VI.1.1 IOU & NMS</p>\n",
    "</br>\n",
    "\n",
    "In order to evaluate the object localization, we use the <b>I</b>ntersection <b>O</b>ver <b>U</b>nion which measures the `overlap` between two bounding boxes:\n",
    "\n",
    "<!-- <center>\n",
    "\n",
    "> $IOU=\\frac{surface~of~intersection}{surface~of~union}$\n",
    "\n",
    "</center> -->\n",
    "\n",
    "<!-- We usually consider a threshold of $0.5$ to assert that the predicted bounding box is correct with respect to the the real one. -->\n",
    "\n",
    "<center><img src= \"https://www.ismailmebsout.com/static/5b4b3bc277a3c6024b816c45b819e4c7/00d43/iou.png\" width=500/></center>\n",
    "\n",
    "When predicting the bounding box of a given object in a given cell of the grid, many outputs might be given, `Non-Max Suppression` helps you detect the object `only once`. It takes the highest probability $p_c$ and suppresses the other boxes having a high overlap (IOU).<br> For each cell of the grid, the algorithm is the following:\n",
    "\n",
    "\n",
    "> * For each output prediction ${}^T[p_c, b_x, b_y, b_w, b_h,c_1,c_2,...,c_N]$\n",
    ">    * Discard all the boxes with $p_c<threshold=0.6$ (presence of an object)\n",
    ">    * While there are any remaining boxes:\n",
    ">      * Pick the box with the highest $p_c$ and output it as a prediction\n",
    ">      * Discard any remaining box with $IOU\\geq threshold=0.5$ with the previous output box\n",
    "\n",
    "<center><img src= \"https://www.ismailmebsout.com/static/19e56604089615b418460dee97d80d10/00d43/nms.png\" width=600/></center>\n",
    "\n",
    "<br>\n",
    "<p style=\"font-size:18px;color:#004475\">VI.1.2 Anchor Boxes</p>\n",
    "</br>\n",
    "\n",
    "In most cases, a grid cell might contain `multiple objects`, anchor boxes allow the detection of all of them.\n",
    "In case of `2 anchor boxes`, each cell of the grid $(i,j)$ is labeled as follows:\n",
    "\n",
    "<center>\n",
    "\n",
    "> $y_{i,j}={}^T[p_c, b_x, b_y, b_w, b_h,c_1,c_2,...,c_N, \\boldsymbol{ p_c, b_x, b_y, b_w, b_h,c_1,c_2,...,c_N }]$\n",
    "\n",
    "</center>\n",
    "\n",
    "<center><img src= \"https://www.ismailmebsout.com/static/6290d7f394b1005377bf936f3f3b23dd/00d43/anchor.png\" width=600/></center>\n",
    "\n",
    "More general, the output target is of size:\n",
    "\n",
    "<center>\n",
    "\n",
    "> $size(target\\_output)=[n_x\\_cell\\times n_y\\_cell\\times (M\\times(5+N)), 1]$\n",
    "\n",
    "</center>\n",
    "\n",
    "Where $N$ is the number of classes and $M$ the number of anchor boxes.\n",
    "\n",
    "<br>\n",
    "<p style=\"font-size:18px;color:#004475\">VI.1.3 YOLOv3 Algorithm</p>\n",
    "</br>\n",
    "\n",
    "YOLO was trained on [coco](http://cocodataset.org/#home) dataset, a large-scale object detection, segmentation and captioning database with 80 object categories. YOLOv3 has a `Darknet-53` architecture as a feature extractor also called a `backbone`.\n",
    "\n",
    "<!-- <center><img src= \"imgs/darknet_53.png\" style=\"height:400px\"/></center> -->\n",
    "\n",
    "The training is carried out by minimizing a `loss function` using gradient methods as well. <br> It is `combined` of:\n",
    "\n",
    "* Logistic regression loss on $p_c$ \n",
    "* Squared error loss for $b_i$ \n",
    "* Softmax loss(cross-entropy) for the probabilities $c_i$\n",
    "\n",
    "At each epoch, in each cell, we generate the output $y_{i,j}$ and `evaluate` the loss function.<br>\n",
    "When making predictions, we check that $p_c$ is high enough and for each grid-cell, we get rid of low probability prediction and use non-max suppression for each class to generate the final output.\n",
    "<br>For more information, I advise you to read the official [paper](https://arxiv.org/pdf/1804.02767.pdf)\n",
    "\n",
    "You can use [Darknet](https://pjreddie.com/darknet/yolo/) to infer with pretrained yolov3 \n",
    "\n",
    "<span style=\"font-size:20px;color:#004475\"><b>Go further!</b></span>\n",
    "<br>\n",
    "<br>\n",
    "<span>\n",
    "\n",
    "- Deep Learning avec Keras et TensorFlow: Mise en oeuvre et cas concrets, Aurélien Géron\n",
    "- [Transfer Learning](https://keras.io/guides/transfer_learning/)\n",
    "- Hastie T., Tibshirani R., Friedman J., [The elements of Statistical Learning](http://statweb.stanford.edu/~tibs/ElemStatLearn/)\n",
    "    \n",
    "In the next section, we will go into more technical details about how manage data science project</span>\n",
    "\n",
    "<span style=\"font-size:20px;color:#004475\"><b>Sources</b></span>\n",
    "<br>\n",
    "<br>\n",
    "<span>\n",
    "- https://www.ismailmebsout.com/\n",
    "- https://stanford.edu/~shervine/teaching/cs-230/cheatsheet-convolutional-neural-networks\n",
    "- https://ruder.io/transfer-learning/index.html\n",
    "    \n",
    "<br>\n",
    "<body style=\"text-align:center\">\n",
    "    <p style=\"color:#004475;\"><span class=\"info\">&#x1F6C8;</span>\n",
    "        You will be able to participate in a Q&A session of this course/exercise, which will take place on February 17 at 6:00 pm. The Zoom link for the session is as follows: <a href=\"https://telecom-paris.zoom.us/webinar/register/WN_YP88esDfQkOWVlMpKg1S0w\">LINK</a>.</p>\n",
    "</body>\n",
    "<br>"
   ]
  },
  {
   "cell_type": "code",
   "execution_count": 26,
   "metadata": {
    "deletable": false,
    "editable": false
   },
   "outputs": [
    {
     "data": {
      "text/html": [
       "\n",
       "        <iframe\n",
       "            width=\"100%\"\n",
       "            height=\"680\"\n",
       "            src=\"https://forms.office.com/Pages/ResponsePage.aspx?id=Wq6idgCfa0-V7V0z13xNYRuZGuA1WotGr0y_467ZG3dUMldDVVpLMjg3STU3RFVDM0RYN0EwOU5IVC4u&embed=true\"\n",
       "            frameborder=\"0\"\n",
       "            allowfullscreen\n",
       "            \n",
       "        ></iframe>\n",
       "        "
      ],
      "text/plain": [
       "<IPython.lib.display.IFrame at 0x7f8e243f3040>"
      ]
     },
     "execution_count": 26,
     "metadata": {},
     "output_type": "execute_result"
    }
   ],
   "source": [
    "IFrame('https://forms.office.com/Pages/ResponsePage.aspx?id=Wq6idgCfa0-V7V0z13xNYRuZGuA1WotGr0y_467ZG3dUMldDVVpLMjg3STU3RFVDM0RYN0EwOU5IVC4u&embed=true', \"100%\", 680)"
   ]
  },
  {
   "cell_type": "markdown",
   "metadata": {
    "deletable": false,
    "editable": false,
    "run_control": {
     "frozen": true
    }
   },
   "source": [
    "<p style=\"text-align:center;color:#004475;font-size:20px\"><b>*** End ***</b></p>"
   ]
  }
 ],
 "metadata": {
  "kernelspec": {
   "display_name": "Python 3 (ipykernel)",
   "language": "python",
   "name": "python3"
  },
  "language_info": {
   "codemirror_mode": {
    "name": "ipython",
    "version": 3
   },
   "file_extension": ".py",
   "mimetype": "text/x-python",
   "name": "python",
   "nbconvert_exporter": "python",
   "pygments_lexer": "ipython3",
   "version": "3.8.5"
  }
 },
 "nbformat": 4,
 "nbformat_minor": 2
}
