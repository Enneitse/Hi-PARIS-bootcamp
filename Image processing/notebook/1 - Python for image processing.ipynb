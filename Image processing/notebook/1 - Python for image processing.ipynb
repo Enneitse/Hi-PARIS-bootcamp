{
 "cells": [
  {
   "cell_type": "markdown",
   "id": "b15d9f91",
   "metadata": {
    "deletable": false,
    "editable": false,
    "run_control": {
     "frozen": true
    }
   },
   "source": [
    "<br>\n",
    "<body>\n",
    "    <center><img src=\"../src/figures/Hi!PARIS_logo_bleu.png\" style=\"width:50%;height:auto\"></center>\n",
    "    <p style=\"font-size:50px;text-align:center; color:#004475\"><b><span style=\"color: #e61853\">Hi!</span>ckathon 2</b></p><br>\n",
    "    <p style=\"font-size:35px;text-align:center; color:#004475\">Week 1 : Python for image processing</p><br>\n",
    "    <p style=\"font-size:25px;text-align:center; color:#004475\">Estimated duration : 2-3h</p><br>\n",
    "    <br><p style=\"font-size:15px;text-align:left; color:#004475\"><b>Authors : KA Alioune, IHADDADENE Mohamed, VENET Thibault</b></p><br>\n",
    "</body>\n",
    "<br>"
   ]
  },
  {
   "cell_type": "markdown",
   "id": "4fa91537",
   "metadata": {
    "deletable": false,
    "editable": false,
    "run_control": {
     "frozen": true
    }
   },
   "source": [
    "<br>\n",
    "<p style=\"font-size:30px;color:#004475\">I. About this notebook</p>\n",
    "<br>"
   ]
  },
  {
   "cell_type": "markdown",
   "id": "b07eccec",
   "metadata": {
    "deletable": false,
    "editable": false,
    "run_control": {
     "frozen": true
    }
   },
   "source": [
    "<br>\n",
    "<p style=\"text-align: justify;text-indent: 30px\">\n",
    "    This course is an introduction to handling and processing images which allow to make easier to store images and improve their quality. With extensive examples, it explains the central python packages you will need for working with images.</p>\n",
    "\n",
    "<p style=\"text-align: justify;text-indent: 30px\">\n",
    "    This lab helps to understand what is an image and introduces the basic tools for reading images, converting and scaling images, de-noising, plotting or saving results, and so on. We will especially use <b> NumPy, SciPy & PIL</b> libraries.</p><br>\n",
    "    \n",
    "<b>N.B. :</b> Don't forget to execute the cells containing code ;)"
   ]
  },
  {
   "cell_type": "code",
   "execution_count": null,
   "id": "4b4fe3e0",
   "metadata": {
    "deletable": false,
    "editable": false
   },
   "outputs": [],
   "source": [
    "# Importing libraries\n",
    "\n",
    "%matplotlib inline\n",
    "import matplotlib.pyplot as plt\n",
    "import numpy as np\n",
    "import seaborn as sns\n",
    "from IPython.display import IFrame\n",
    "#from io import BytesIO\n",
    "from numpy import random\n",
    "from PIL import Image, ImageFile\n",
    "from scipy import signal\n",
    "from scipy import ndimage\n",
    "from scipy.ndimage import filters\n",
    "from skimage import data\n",
    "from tqdm.notebook import tqdm"
   ]
  },
  {
   "cell_type": "markdown",
   "id": "76f140b1",
   "metadata": {
    "deletable": false,
    "editable": false,
    "run_control": {
     "frozen": true
    }
   },
   "source": [
    "<br>\n",
    "<p style=\"font-size:30px;color:#004475\">II. PIL - Python Imaging Library</p>\n",
    "<br>"
   ]
  },
  {
   "cell_type": "markdown",
   "id": "e66c36f3",
   "metadata": {
    "deletable": false,
    "editable": false,
    "run_control": {
     "frozen": true
    }
   },
   "source": [
    "<br>\n",
    "<p style=\"text-align: justify;text-indent: 30px\">\n",
    "    The Python Imaging Library <b>PIL</b> provides general image handling and lots of useful basic image operations like resizing, cropping, rotating, color conversion and much more. <b>PIL</b> is free and can be installed with pip (or pip3):</p>\n",
    "\n",
    "<p style=\"text-align: center\"><b>pip install Pillow</b></p>\n",
    "<p>With <b>PIL</b>, you can read and write most image formats. In the following Python code we will open two images (a gray image and a colored one).</p><br>"
   ]
  },
  {
   "cell_type": "code",
   "execution_count": null,
   "id": "b6ef1fb6",
   "metadata": {
    "deletable": false,
    "editable": false
   },
   "outputs": [],
   "source": [
    "path_to_my_color_image = \"../src/figures/SeigleHall.jpg\"\n",
    "path_to_my_gray_image = \"../src/figures/SeigleHallGray.jpg\"\n",
    "\n",
    "\n",
    "my_color_image = Image.open(path_to_my_color_image)  # the PIL image object\n",
    "my_gray_image = Image.open(path_to_my_gray_image)  # the PIL image object\n",
    "\n",
    "fig, axes = plt.subplots(nrows=1, ncols=2, figsize=(16, 12))\n",
    "\n",
    "axes[0].imshow(my_color_image)\n",
    "axes[1].imshow(my_gray_image, cmap='gray');"
   ]
  },
  {
   "cell_type": "markdown",
   "id": "4d997dda",
   "metadata": {
    "deletable": false,
    "editable": false
   },
   "source": [
    "<br>\n",
    "<p style=\"font-size:30px;color:#004475\">III. What is an image ?</p>\n",
    "<br>"
   ]
  },
  {
   "cell_type": "markdown",
   "id": "814101d8",
   "metadata": {
    "deletable": false,
    "editable": false,
    "run_control": {
     "frozen": true
    }
   },
   "source": [
    "<br>\n",
    "<p style=\"text-align: justify;text-indent: 30px\">\n",
    "    The numerical representation of an image is a <b>NumPy</b> Array. Arrays in <b>NumPy</b> are multi-dimensional and can represent vectors, matrices, and images. An array is much like a list (or list of lists) but is restricted to having all elements of the same type. Unless specified on creation, the type will automatically be set depending on the data.</p><br>\n",
    "\n",
    "<p>An image is an array of values:\n",
    "\n",
    "\n",
    "- For grayscale images, the result is a two-dimensional array. Each cell of this array, which stores a value, is called a pixel. By noting n the number of rows and p the number of columns of the image, we thus manipulate an array of n×p pixels.</p>\n",
    "<p>\n",
    "$$\n",
    "\\begin{align}\n",
    "I_{n,p}(x,y)  \\in \\{0,..,255\\}\n",
    "\\end{align}\n",
    "$$</p>\n",
    "<a><img src=\"../src/figures/pixels.png\" alt=\"Logo\" width=\"280\" height=\"180\"></a>\n",
    "<p>Pixel values are stored in the computer ( digital tools ) as integers between 0 and 255, making 256 possible values for each pixel. Low numeric values indicate darker shades and higher values lighter shades. \n",
    "\n",
    "- Color images (Red Green Blue images) are represented as three-dimensional Numpy arrays : A collection of three two-dimensional arrays. Each of these two-dimensional array is called a channel. \n",
    "\n",
    "Each pixel of the color image thus contains three numbers (r,g,b), each being an integer between 0 and 255. </p><br>\n",
    "<p>\n",
    "$$\n",
    "\\begin{align}\n",
    "I_{n,p,3}(x,y) = (r,g,b)  \\text{ }\n",
    "\\end{align}\n",
    "$$\n",
    "\n",
    "where:\n",
    "$$\n",
    "\\begin{align}\n",
    "r, g , b \\in \\{0,..,255\\}\n",
    "\\end{align}\n",
    "$$</p><br>\n",
    "<p>\n",
    "If the pixel is equal to (r,g,b)=(255,0,0), it only contains red information, and is displayed as red. Similarly, pixels of (0,255,0) and (0,0,255) are displayed green and blue, respectively.</p><br>\n",
    "<p align=\"center\">\n",
    "  <a>\n",
    "    <img src=\"../src/figures/RGB.png\" width=\"900\" height=\"900\">\n",
    "  </a></p>\n",
    "<p>With numpy library we can see shapes and channels of our image. To do this we first transform the image into an array by using the method <b>asanyarray</b>.</p>"
   ]
  },
  {
   "cell_type": "code",
   "execution_count": null,
   "id": "2f90ee5f",
   "metadata": {
    "deletable": false,
    "editable": false
   },
   "outputs": [],
   "source": [
    "my_RGB_array_image = np.asanyarray(my_color_image)\n",
    "\n",
    "print(f'RGB Image shape : {my_RGB_array_image.shape}')\n",
    "print(f'Array values type : {my_RGB_array_image.dtype}')"
   ]
  },
  {
   "cell_type": "code",
   "execution_count": null,
   "id": "23687a80",
   "metadata": {
    "deletable": false,
    "editable": false
   },
   "outputs": [],
   "source": [
    "my_gray_array_image = np.asanyarray(my_gray_image)\n",
    "\n",
    "print(f'Gray Image shape : {my_gray_array_image.shape}') \n",
    "print(f'Array values type : {my_gray_array_image.dtype}') "
   ]
  },
  {
   "cell_type": "markdown",
   "id": "8b85cc62",
   "metadata": {
    "deletable": false,
    "editable": false,
    "run_control": {
     "frozen": true
    }
   },
   "source": [
    "<br>\n",
    "<p style=\"font-size:20px;color:#004475\">III.1. How to retrieve  channels of an RGB image ?</p>\n",
    "<br>"
   ]
  },
  {
   "cell_type": "markdown",
   "id": "fff4107b",
   "metadata": {
    "deletable": false,
    "editable": false,
    "run_control": {
     "frozen": true
    }
   },
   "source": [
    "<p style=\"text-align: justify;text-indent: 30px\">\n",
    "    With the array representation, we can retrieve a channel using its index (0 for red, 1 for Green and 2 for Blue channel). The following Python code will extract the Red channel of our RGB image.</p>"
   ]
  },
  {
   "cell_type": "code",
   "execution_count": null,
   "id": "cc7894e3",
   "metadata": {
    "deletable": false,
    "editable": false
   },
   "outputs": [],
   "source": [
    "Red_channel = my_RGB_array_image[:, :, 0]  # Red channel"
   ]
  },
  {
   "cell_type": "markdown",
   "id": "a6662875",
   "metadata": {
    "deletable": false,
    "editable": false,
    "run_control": {
     "frozen": true
    }
   },
   "source": [
    "<br>\n",
    "<p style=\"font-size:20px;color:#004475\">III.2. Plotting channels</p>\n",
    "<br>"
   ]
  },
  {
   "cell_type": "code",
   "execution_count": null,
   "id": "689a8aca",
   "metadata": {
    "deletable": false,
    "editable": false
   },
   "outputs": [],
   "source": [
    "fig, axes = plt.subplots(nrows=1, ncols=2, figsize=(16, 12))\n",
    "\n",
    "Red = Image.fromarray(Red_channel)\n",
    "\n",
    "axes[0].imshow(Red, cmap='Reds')\n",
    "axes[1].imshow(my_RGB_array_image)\n",
    "\n",
    "\n",
    "axes[0].title.set_text(\"Red channel\")\n",
    "axes[1].title.set_text(\"RGB Image\")"
   ]
  },
  {
   "cell_type": "markdown",
   "id": "e8f0d90f",
   "metadata": {
    "deletable": false,
    "editable": false,
    "solution2": "hidden",
    "solution2_first": true
   },
   "source": [
    "<br>\n",
    "<span style=\"color:#004475\"><b>Exercise 1: Plot the Blue and Green Channels from the following RGB image.</b>\n",
    "    <br>\n",
    "     <img src=\"../src/figures/SeigleHall.jpg\" width=\"500\" height=\"200\">\n",
    "</span>\n",
    "<br>"
   ]
  },
  {
   "cell_type": "code",
   "execution_count": null,
   "id": "575ee477",
   "metadata": {
    "deletable": false,
    "editable": false,
    "solution2": "hidden"
   },
   "outputs": [],
   "source": [
    "# get channels\n",
    "Green_channel, Blue_channel = my_RGB_array_image[:,\n",
    "                                                 :, 1], my_RGB_array_image[:, :, 2]\n",
    "\n",
    "# transform green channel array to image\n",
    "Green = Image.fromarray(Green_channel)\n",
    "Blue = Image.fromarray(Blue_channel)   # transform blue channel array to image\n",
    "\n",
    "fig, axes = plt.subplots(nrows=1, ncols=2, figsize=(16, 12))\n",
    "\n",
    "axes[0].imshow(Green, \"Greens\")\n",
    "axes[1].imshow(Blue, \"Blues\")\n",
    "\n",
    "axes[0].title.set_text(\"Green channel\")\n",
    "axes[1].title.set_text(\"Blue channel\")"
   ]
  },
  {
   "cell_type": "code",
   "execution_count": null,
   "id": "78bd1595",
   "metadata": {},
   "outputs": [],
   "source": [
    "# Enter your code here\n"
   ]
  },
  {
   "cell_type": "markdown",
   "id": "cee00647",
   "metadata": {
    "deletable": false,
    "editable": false,
    "run_control": {
     "frozen": true
    }
   },
   "source": [
    "<br>\n",
    "<p style=\"font-size:20px;color:#004475\">III.3. Create an grayscale image with Numpy</p>\n",
    "<br>"
   ]
  },
  {
   "cell_type": "markdown",
   "id": "6c373f55",
   "metadata": {
    "deletable": false,
    "editable": false,
    "run_control": {
     "frozen": true
    }
   },
   "source": [
    "<p style=\"text-align: justify\">\n",
    "In this section we introduce how to create a grayscale image using <b>NumPy</b> library. You will find Python code below\n",
    "</p>"
   ]
  },
  {
   "cell_type": "code",
   "execution_count": null,
   "id": "26569fc1",
   "metadata": {
    "deletable": false,
    "editable": false
   },
   "outputs": [],
   "source": [
    "# create synthetic image with noise\n",
    "image_array = np.array([[0, 0, 0, 0, 0],\n",
    "                        [0, 4, 1, 4, 0],\n",
    "                        [0, 1, 4, 1, 0],\n",
    "                        [0, 4, 1, 4, 0],\n",
    "                        [0, 0, 0, 0, 0]])\n",
    "\n",
    "my_numpy_image = Image.fromarray(image_array.astype(np.uint8))\n",
    "\n",
    "plt.imshow(my_numpy_image, 'gray');"
   ]
  },
  {
   "cell_type": "markdown",
   "id": "ac27b917",
   "metadata": {
    "deletable": false,
    "editable": false,
    "solution2": "hidden",
    "solution2_first": true
   },
   "source": [
    "<p style=\"color:#004475\"><b> Exercise 2: Write a Python code to Create the image below using Numpy.</b>\n",
    "  <a><br>\n",
    "    <img align=\"center\" src=\"../src/figures/exo.png\" width=\"200\" height=\"100\">\n",
    "  </a>\n",
    "</p>"
   ]
  },
  {
   "cell_type": "code",
   "execution_count": null,
   "id": "ab1c8eac",
   "metadata": {
    "deletable": false,
    "editable": false,
    "solution2": "hidden"
   },
   "outputs": [],
   "source": [
    "# create synthetic image with noise\n",
    "image_array = np.array([[4, 0, 0, 0, 4],\n",
    "                        [0, 1, 4, 1, 0],\n",
    "                        [0, 4, 0, 4, 0],\n",
    "                        [0, 1, 4, 1, 0],\n",
    "                        [4, 0, 0, 0, 4]])\n",
    "\n",
    "my_numpy_image = Image.fromarray(image_array.astype(np.uint8))\n",
    "\n",
    "plt.imshow(my_numpy_image, 'gray');\n",
    "\n",
    "# save your image\n",
    "# my_numpy_image.convert(\"L\").save(\"../src/figures/my_numpy_image.jpg\")"
   ]
  },
  {
   "cell_type": "code",
   "execution_count": null,
   "id": "12371aec",
   "metadata": {},
   "outputs": [],
   "source": [
    "# Enter your code here\n"
   ]
  },
  {
   "cell_type": "markdown",
   "id": "7131e892",
   "metadata": {
    "deletable": false,
    "editable": false,
    "run_control": {
     "frozen": true
    }
   },
   "source": [
    "<br>\n",
    "<p style=\"font-size:20px;color:#004475\">III.4. From RGB to Grayscale</p>\n",
    "<br>"
   ]
  },
  {
   "cell_type": "markdown",
   "id": "6c8e0c19",
   "metadata": {
    "deletable": false,
    "editable": false,
    "run_control": {
     "frozen": true
    }
   },
   "source": [
    "<p style=\"text-align: justify;text-indent: 30px\">A grayscale image can be calculated from a color image by averaging the three channels. \n",
    "We therefore calculate a value.\n",
    "\n",
    "$$\n",
    "\\begin{align}\n",
    "a = \\frac{r+v+b}{3}\n",
    "\\end{align}\n",
    "$$</p><b>"
   ]
  },
  {
   "cell_type": "code",
   "execution_count": null,
   "id": "cb5cd482",
   "metadata": {
    "deletable": false,
    "editable": false
   },
   "outputs": [],
   "source": [
    "# approach 1\n",
    "gray_image_1 = my_color_image.convert('L')  # apply convert() methode from Image\n",
    "\n",
    "# approach 2\n",
    "gray_image_2 = Image.fromarray(\n",
    "    np.mean(my_color_image, axis=2)  # average all channels\n",
    ")"
   ]
  },
  {
   "cell_type": "markdown",
   "id": "d551a9e9",
   "metadata": {
    "deletable": false,
    "editable": false,
    "run_control": {
     "frozen": true
    }
   },
   "source": [
    "<br>\n",
    "<p style=\"font-size:20px;color:#004475\">III.5. Graylevel Transforms</p>\n",
    "<br>"
   ]
  },
  {
   "cell_type": "markdown",
   "id": "cf57a7b3",
   "metadata": {
    "deletable": false,
    "editable": false,
    "run_control": {
     "frozen": true
    }
   },
   "source": [
    "<p style=\"text-align: justify;text-indent: 30px\">Here we introduce how we can apply a mathematical function to your pixels in order to transform the gray level of an grayscale image. In the following Python code, we apply some transformations (linear and quadratic) to our grayscale image.\n",
    "</p><b>"
   ]
  },
  {
   "cell_type": "code",
   "execution_count": null,
   "id": "d6535f62",
   "metadata": {
    "deletable": false,
    "editable": false
   },
   "outputs": [],
   "source": [
    "grayscal_array = np.array(gray_image_1)\n",
    "\n",
    "# clamp to interval 200...250 with a linear fuction\n",
    "im1 = (50/255) * grayscal_array + 200\n",
    "\n",
    "im2 = 255.0 * (grayscal_array/255.0)**2  # squared\n",
    "\n",
    "# clamp to interval 0...100  with a linear fuction\n",
    "im3 = (100/255) * grayscal_array\n",
    "\n",
    "\n",
    "fig, axes = plt.subplots(nrows=1, ncols=3, figsize=(16, 12))\n",
    "\n",
    "axes[0].imshow(Image.fromarray(im1))\n",
    "axes[1].imshow(Image.fromarray(im2))\n",
    "axes[2].imshow(Image.fromarray(im3));"
   ]
  },
  {
   "cell_type": "markdown",
   "id": "e1365481",
   "metadata": {
    "deletable": false,
    "editable": false,
    "run_control": {
     "frozen": true
    }
   },
   "source": [
    "<br>\n",
    "<p style=\"font-size:30px;color:#004475\">IV. Image histogram</p>\n",
    "<br>"
   ]
  },
  {
   "cell_type": "markdown",
   "id": "7acd6a2a",
   "metadata": {
    "deletable": false,
    "editable": false,
    "run_control": {
     "frozen": true
    }
   },
   "source": [
    "<br>\n",
    "<p style=\"text-align: justify;text-indent: 30px\">\n",
    "    An image histogram is a plot showing the distribution of pixel values. A number of bins is specified for the span of values and each bin gets a count of how many pixels have values in the bin’s range.</p>\n",
    "\n",
    "<p style=\"text-align: justify;text-indent: 30px\">\n",
    "    Note that the image needs to be flattened first, because the method <b>kdeplot</b> from the <b>seaborn</b> library takes a one-dimensional array as input. The method <b>flatten</b> from <b>NumPy</b> library converts any array to a one-dimensional array with values taken row-wise.</p>\n",
    "\n",
    "<p style=\"text-align: justify\">\n",
    "    With image histograms we can distinguish a color image from a grayscale image from a black and white image without looking at the image.\n",
    "\n",
    "The following Python code allow to plot an image histogram :</p>"
   ]
  },
  {
   "cell_type": "code",
   "execution_count": null,
   "id": "42a3e21b",
   "metadata": {
    "deletable": false,
    "editable": false
   },
   "outputs": [],
   "source": [
    "def HistImage(image):\n",
    "    _, axes = plt.subplots(ncols=2, figsize=(16, 5))\n",
    "    axes[0].set_title('Image')\n",
    "    axes[1].set_title('Histogram Of Image')\n",
    "\n",
    "    if (len(np.array(image).shape) == 2):\n",
    "        # Grascale Image\n",
    "        axes[0].imshow(image, cmap=plt.get_cmap('gray'))\n",
    "        data = np.array(image).flatten()\n",
    "        sns.kdeplot(data, ax=axes[1], color=\"black\", shade=True)\n",
    "    else:\n",
    "        # Color image\n",
    "        axes[0].imshow(image, cmap='gray')\n",
    "        rgbcolors = ['red', 'green', 'blue']\n",
    "        for i, mycolor in enumerate(rgbcolors):\n",
    "            data = np.asanyarray(image)[:, :, i].flatten()\n",
    "            sns.kdeplot(data, ax=axes[1], color=mycolor, shade=True)"
   ]
  },
  {
   "cell_type": "markdown",
   "id": "a1597f15",
   "metadata": {
    "deletable": false,
    "editable": false,
    "run_control": {
     "frozen": true
    }
   },
   "source": [
    "<br>\n",
    "<p style=\"font-size:20px;color:#004475\">IV.1. Black and white histogram image</p>\n",
    "<br>"
   ]
  },
  {
   "cell_type": "markdown",
   "id": "1dc07bf0",
   "metadata": {
    "deletable": false,
    "editable": false,
    "run_control": {
     "frozen": true
    }
   },
   "source": [
    "<p style=\"text-align: justify\">\n",
    "Here we introduce how is the histogram of an black and white image. A black and white image is just a binary pixels image.</p>\n",
    "<br>"
   ]
  },
  {
   "cell_type": "code",
   "execution_count": null,
   "id": "0bd53360",
   "metadata": {
    "deletable": false,
    "editable": false
   },
   "outputs": [],
   "source": [
    "B_W_image = np.where(grayscal_array > 100, 0, 1)\n",
    "B_W_image = Image.fromarray((B_W_image).astype(np.uint8))\n",
    "\n",
    "HistImage(B_W_image)"
   ]
  },
  {
   "cell_type": "markdown",
   "id": "fe3f417e",
   "metadata": {
    "deletable": false,
    "editable": false,
    "run_control": {
     "frozen": true
    }
   },
   "source": [
    "<br>\n",
    "<p style=\"font-size:20px;color:#004475\">IV.2. Grayscale histogram image</p>\n",
    "<br>"
   ]
  },
  {
   "cell_type": "code",
   "execution_count": null,
   "id": "3ef1c097",
   "metadata": {
    "deletable": false,
    "editable": false
   },
   "outputs": [],
   "source": [
    "HistImage(my_gray_image)"
   ]
  },
  {
   "cell_type": "markdown",
   "id": "40ed86be",
   "metadata": {
    "deletable": false,
    "editable": false,
    "run_control": {
     "frozen": true
    }
   },
   "source": [
    "<br>\n",
    "<p style=\"font-size:20px;color:#004475\">IV.3. RGB histogram image</p>\n",
    "<br>"
   ]
  },
  {
   "cell_type": "markdown",
   "id": "5632c0cf",
   "metadata": {
    "deletable": false,
    "editable": false,
    "run_control": {
     "frozen": true
    }
   },
   "source": [
    "<p style=\"text-align: justify\">\n",
    "In RGB image, we have a histogram for each channel.</p>\n",
    "<br> "
   ]
  },
  {
   "cell_type": "code",
   "execution_count": null,
   "id": "c23f9025",
   "metadata": {
    "deletable": false,
    "editable": false
   },
   "outputs": [],
   "source": [
    "HistImage(my_color_image)"
   ]
  },
  {
   "cell_type": "markdown",
   "id": "6a17d904",
   "metadata": {
    "deletable": false,
    "editable": false,
    "run_control": {
     "frozen": true
    }
   },
   "source": [
    "<br>\n",
    "<p style=\"font-size:30px;color:#004475\">V. Thresholding</p>\n",
    "<br>"
   ]
  },
  {
   "cell_type": "markdown",
   "id": "9bb49ace",
   "metadata": {
    "deletable": false,
    "editable": false,
    "run_control": {
     "frozen": true
    }
   },
   "source": [
    "<br>\n",
    "<p style=\"text-align: justify;text-indent: 30px\">\n",
    "    Let's define an image I, 𝑉𝑚𝑎𝑥 (respectively 𝑉𝑚𝑖𝑛) the maximum (respectively minimum) value of pixels (𝑉𝑚𝑖𝑛=0 and 𝑉𝑚𝑎𝑥=255 in the case of an unsigned 8-bit image). A pixel with the value 𝑉𝑚𝑖𝑛 or 𝑉𝑚𝑎𝑥 is said to be saturated because its value can no longer be increased (or decreased). \n",
    "\n",
    "Thresholding is an operation that consists of saturating the light (high threshold) or dark (low threshold) pixels of an image while leaving the others unchanged.</p>\n",
    "<br>\n",
    "<p style=\"font-size:15px\"><b>High thresholding:</b>\n",
    "$$\n",
    "\\begin{split}\\forall x \\in V, I(x)=\\begin{cases}x \\textrm{ if } x\\leq t \\\\ V_{max} \\textrm{ else}.\\end{cases}\\end{split}\n",
    "$$</p>\n",
    "<br>\n",
    "<p>In the following Python code, we will apply a high thresholding function with t = 120 and Vmax = 255.</p><br>"
   ]
  },
  {
   "cell_type": "code",
   "execution_count": null,
   "id": "85596670",
   "metadata": {
    "deletable": false,
    "editable": false
   },
   "outputs": [],
   "source": [
    "t = 120\n",
    "t_grayscal_array = grayscal_array.copy()\n",
    "\n",
    "t_grayscal_array[t_grayscal_array > t] = 255\n",
    "\n",
    "fig, axes = plt.subplots(nrows=1, ncols=2, figsize=(12, 10))\n",
    "\n",
    "axes[0].imshow(grayscal_array, 'gray')\n",
    "axes[1].imshow(t_grayscal_array, 'gray');"
   ]
  },
  {
   "cell_type": "markdown",
   "id": "630431e3",
   "metadata": {
    "deletable": false,
    "editable": false
   },
   "source": [
    "<p style=\"font-size:15px\"><b>Low thresholding: \n",
    "$$\n",
    "\\begin{split}\\forall x \\in V, I(x)=\\begin{cases}x \\textrm{ si } x>t \\\\ V_{min} \\textrm{ sinon}.\\end{cases}\\end{split}\n",
    "$$</p><br>"
   ]
  },
  {
   "cell_type": "code",
   "execution_count": null,
   "id": "2035a4e2",
   "metadata": {
    "deletable": false,
    "editable": false
   },
   "outputs": [],
   "source": [
    "t = 100\n",
    "t_grayscal_array = grayscal_array.copy()\n",
    "\n",
    "t_grayscal_array[t_grayscal_array <= t] = 0\n",
    "\n",
    "fig, axes = plt.subplots(nrows=1, ncols=2, figsize=(12, 10))\n",
    "\n",
    "axes[0].imshow(grayscal_array, 'gray')\n",
    "axes[1].imshow(t_grayscal_array, 'gray');"
   ]
  },
  {
   "cell_type": "markdown",
   "id": "e7217e37",
   "metadata": {
    "deletable": false,
    "editable": false,
    "solution2": "hidden",
    "solution2_first": true
   },
   "source": [
    "<br>\n",
    "<span style=\"color:#004475\"><b> Exercicse 3 : By using examples above, create a combined thresholding with tmin=110 and tmax=150.</b></span>"
   ]
  },
  {
   "cell_type": "code",
   "execution_count": null,
   "id": "9cc29728",
   "metadata": {
    "deletable": false,
    "editable": false,
    "solution2": "hidden"
   },
   "outputs": [],
   "source": [
    "tmax = 150\n",
    "tmin = 110\n",
    "t_grayscal_array = grayscal_array.copy()\n",
    "\n",
    "t_grayscal_array[t_grayscal_array <= tmin] = 0\n",
    "t_grayscal_array[t_grayscal_array > tmax] = 255\n",
    "\n",
    "fig, axes = plt.subplots(nrows=1, ncols=2, figsize=(12, 10))\n",
    "\n",
    "axes[0].imshow(grayscal_array, 'gray')\n",
    "axes[1].imshow(t_grayscal_array, 'gray');"
   ]
  },
  {
   "cell_type": "code",
   "execution_count": null,
   "id": "e4ecbadc",
   "metadata": {},
   "outputs": [],
   "source": [
    "# Enter your code here\n"
   ]
  },
  {
   "cell_type": "markdown",
   "id": "70442aba",
   "metadata": {
    "deletable": false,
    "editable": false,
    "run_control": {
     "frozen": true
    }
   },
   "source": [
    "<br>\n",
    "<p style=\"font-size:30px;color:#004475\">VI. Crop and paste regions</p>\n",
    "<br>"
   ]
  },
  {
   "cell_type": "markdown",
   "id": "196911a2",
   "metadata": {
    "deletable": false,
    "editable": false,
    "run_control": {
     "frozen": true
    }
   },
   "source": [
    "<p style=\"text-align: justify\">Cropping a region from an image is done using the <b>crop</b> method. The region is defined by a 4-tuple, where coordinates are (left, upper, right, lower).</p>\n",
    "<br> "
   ]
  },
  {
   "cell_type": "code",
   "execution_count": null,
   "id": "d99c9bfe",
   "metadata": {
    "deletable": false,
    "editable": false,
    "scrolled": false
   },
   "outputs": [],
   "source": [
    "box = (0, 1000, 3800, 2000)\n",
    "region = Green.crop(box)\n",
    "plt.imshow(region, 'gray');"
   ]
  },
  {
   "cell_type": "markdown",
   "id": "ecfe4d69",
   "metadata": {
    "deletable": false,
    "editable": false,
    "run_control": {
     "frozen": true
    }
   },
   "source": [
    "<p style=\"text-align: justify\">The extracted region can, for example, be rotated and then put back using the <b>paste</b> method like this:</p>\n",
    "<br> "
   ]
  },
  {
   "cell_type": "code",
   "execution_count": null,
   "id": "08c492fb",
   "metadata": {
    "deletable": false,
    "editable": false
   },
   "outputs": [],
   "source": [
    "my_image = my_color_image.copy()"
   ]
  },
  {
   "cell_type": "code",
   "execution_count": null,
   "id": "3e0ec25b",
   "metadata": {
    "deletable": false,
    "editable": false
   },
   "outputs": [],
   "source": [
    "my_image.paste(region, box)\n",
    "\n",
    "plt.figure(figsize=(10, 8))\n",
    "plt.imshow(my_image);"
   ]
  },
  {
   "cell_type": "markdown",
   "id": "5bded5af",
   "metadata": {
    "deletable": false,
    "editable": false,
    "run_control": {
     "frozen": true
    }
   },
   "source": [
    "<br>\n",
    "<p style=\"font-size:30px;color:#004475\">VII. Adding noises</p>\n",
    "<br>"
   ]
  },
  {
   "cell_type": "markdown",
   "id": "7a9a1945",
   "metadata": {
    "deletable": false,
    "editable": false,
    "run_control": {
     "frozen": true
    }
   },
   "source": [
    "<p style=\"text-align: justify\">This involves adding black bounding boxes to the image so that the information is no longer visible</p>"
   ]
  },
  {
   "cell_type": "code",
   "execution_count": null,
   "id": "238f91c5",
   "metadata": {
    "deletable": false,
    "editable": false
   },
   "outputs": [],
   "source": [
    "def add_noise(img):\n",
    "    \"\"\"\n",
    "    add black boxes randomly on a given image\n",
    "    \"\"\"\n",
    "    a = np.array(img)\n",
    "    rows = a.shape[0]\n",
    "    cols = a.shape[1]\n",
    "    s = int(min(rows, cols)/25)  # size of spot is 1/25 of smallest dimension\n",
    "\n",
    "    for i in range(50):\n",
    "        x = np.random.randint(cols-s)\n",
    "        y = np.random.randint(rows-s)\n",
    "        a[y:(y+s), x:(x+s)] = 0\n",
    "\n",
    "    return a\n",
    "\n",
    "\n",
    "my_noised_color_image = add_noise(my_color_image)\n",
    "\n",
    "fig, axes = plt.subplots(nrows=1, ncols=2, figsize=(16, 10))\n",
    "axes[0].imshow(my_color_image)\n",
    "axes[1].imshow(my_noised_color_image);"
   ]
  },
  {
   "cell_type": "markdown",
   "id": "0cf47cf0",
   "metadata": {
    "deletable": false,
    "editable": false,
    "run_control": {
     "frozen": true
    }
   },
   "source": [
    "<br>\n",
    "<p style=\"font-size:30px;color:#004475\">VIII. Image de-noising</p>\n",
    "<br>"
   ]
  },
  {
   "cell_type": "markdown",
   "id": "2ac2183a",
   "metadata": {
    "deletable": false,
    "editable": false,
    "run_control": {
     "frozen": true
    }
   },
   "source": [
    "<p style=\"text-align: justify\">How can i remove black bounding boxes on my image ?</p>"
   ]
  },
  {
   "cell_type": "code",
   "execution_count": null,
   "id": "85d88037",
   "metadata": {
    "deletable": false,
    "editable": false
   },
   "outputs": [],
   "source": [
    "def row_denoising(ar):\n",
    "    \"\"\"\n",
    "    replace null pixels with the average of I(i,y) for i in 0...n\n",
    "\n",
    "    \"\"\"\n",
    "    mask = ar == 0\n",
    "    means = np.ma.array(ar, mask=mask).mean(0)\n",
    "    im = mask*means.data + ar\n",
    "\n",
    "    return im\n",
    "\n",
    "\n",
    "def col_denoising(ar):\n",
    "    \"\"\"\n",
    "    replace null pixels with the average of I(x,j) for j in 0...p\n",
    "\n",
    "    \"\"\"\n",
    "    mask = ar == 0\n",
    "    means = np.ma.array(ar, mask=mask).mean(1)\n",
    "    im = mask*means.data[:, None] + ar\n",
    "\n",
    "    return im\n",
    "\n",
    "\n",
    "def neigbor_denoising(ar, neig=5):\n",
    "    \"\"\"\n",
    "    replace null pixels by averaging neighborhood not null pixels\n",
    "\n",
    "    \"\"\"\n",
    "    data = ar.copy()\n",
    "    mark_x = np.where(data == 0)[0]  # row index of null pixels\n",
    "    mark_y = np.where(data == 0)[1]  # col index of null pixels\n",
    "    for x, y in zip(mark_x, mark_y):\n",
    "        # assuming you want neig x neig square\n",
    "        slice = data[max(0, x-neig):x+neig, max(0, y-neig):y+neig]\n",
    "        data[x, y] = np.mean([i for i in slice.flatten() if i > 0])\n",
    "    return data"
   ]
  },
  {
   "cell_type": "markdown",
   "id": "b02625a0",
   "metadata": {
    "deletable": false,
    "editable": false,
    "run_control": {
     "frozen": true
    }
   },
   "source": [
    "<br>\n",
    "<span>We will apply each function on the noised image and see the better one.</span><br>"
   ]
  },
  {
   "cell_type": "code",
   "execution_count": null,
   "id": "28d7befc",
   "metadata": {
    "deletable": false,
    "editable": false,
    "scrolled": false
   },
   "outputs": [],
   "source": [
    "noised_grayscal_image = np.mean(my_noised_color_image, axis=2)\n",
    "\n",
    "my_denoised_image_row = row_denoising(noised_grayscal_image)\n",
    "my_denoised_image_col = col_denoising(noised_grayscal_image)\n",
    "my_denoised_image_neig = neigbor_denoising(\n",
    "    noised_grayscal_image, neig=5)  # take some few minutes\n",
    "\n",
    "\n",
    "fig, axes = plt.subplots(nrows=2, ncols=2, figsize=(18, 12))\n",
    "\n",
    "axes[0, 0].imshow(Image.fromarray(noised_grayscal_image), \"gray\")\n",
    "axes[0, 1].imshow(Image.fromarray(my_denoised_image_row), \"gray\")\n",
    "axes[1, 0].imshow(Image.fromarray(my_denoised_image_col), \"gray\")\n",
    "axes[1, 1].imshow(Image.fromarray(my_denoised_image_neig), \"gray\")\n",
    "\n",
    "\n",
    "axes[0, 0].title.set_text(\"noised image\")\n",
    "axes[0, 1].title.set_text(\"row denoised approach\")\n",
    "axes[1, 0].title.set_text(\"col denoised approach\")\n",
    "axes[1, 1].title.set_text(\"neigborhood denoised approach (neig = 5)\")"
   ]
  },
  {
   "cell_type": "markdown",
   "id": "01e0ffdf",
   "metadata": {
    "deletable": false,
    "editable": false
   },
   "source": [
    "<span style=\"color:#004475\"><b> Exercise 4: De-Noised the following image.</b></span>\n",
    "<br>"
   ]
  },
  {
   "cell_type": "code",
   "execution_count": null,
   "id": "c3d01ffb",
   "metadata": {
    "deletable": false,
    "editable": false,
    "solution2": "hidden",
    "solution2_first": true
   },
   "outputs": [],
   "source": [
    "plt.imshow(my_noised_color_image);"
   ]
  },
  {
   "cell_type": "code",
   "execution_count": null,
   "id": "097c9673",
   "metadata": {
    "deletable": false,
    "editable": false,
    "solution2": "hidden"
   },
   "outputs": [],
   "source": [
    "# SOLUTION\n",
    "\n",
    "my_denoised_image = np.zeros(my_noised_color_image.shape)\n",
    "\n",
    "for i in tqdm(range(3)):\n",
    "    my_denoised_image[:, :, i] = neigbor_denoising(\n",
    "        my_noised_color_image[:, :, i], neig=2)\n",
    "\n",
    "my_denoised_image = np.uint8(my_denoised_image)\n",
    "\n",
    "fig, axes = plt.subplots(nrows=1, ncols=2, figsize=(16, 12))\n",
    "\n",
    "axes[0].imshow(my_noised_color_image)\n",
    "axes[1].imshow(my_denoised_image);"
   ]
  },
  {
   "cell_type": "code",
   "execution_count": null,
   "id": "ec112625",
   "metadata": {},
   "outputs": [],
   "source": [
    "# Enter your code here\n"
   ]
  },
  {
   "cell_type": "markdown",
   "id": "e59de84e",
   "metadata": {
    "deletable": false,
    "editable": false,
    "run_control": {
     "frozen": true
    }
   },
   "source": [
    "<br>\n",
    "<p style=\"font-size:30px;color:#004475\">IX. Convolution and Filters</p>\n",
    "<br>"
   ]
  },
  {
   "cell_type": "markdown",
   "id": "f421f480",
   "metadata": {
    "deletable": false,
    "editable": false,
    "run_control": {
     "frozen": true
    }
   },
   "source": [
    "<br>\n",
    "<p style=\"font-size:20px;color:#004475\">IX.1. Definition of convolution</p>\n",
    "<br>"
   ]
  },
  {
   "cell_type": "markdown",
   "id": "29dd1ad7",
   "metadata": {
    "deletable": false,
    "editable": false
   },
   "source": [
    "<p align=\"center\">\n",
    "  <a>\n",
    "    <img src=\"../src/figures/convolutions.png\" style=\"width:75%\">\n",
    "  </a>\n",
    "</p>"
   ]
  },
  {
   "cell_type": "markdown",
   "id": "39a533e8",
   "metadata": {
    "deletable": false,
    "editable": false,
    "run_control": {
     "frozen": true
    }
   },
   "source": [
    "<p style=\"text-align: justify;text-indent: 30px\"> Convolution can be simply defined as a process of adding each element of a image to its local neighbors, weighted by a <b>kernel</b> (also called convolution kernel or even convolution mask).\n",
    "\n",
    "The principle is therefore relatively simple. We superimpose the kernel on a corner of the matrix of the image. Then we will multiply each superimposed number and then add it all up. \n",
    "\n",
    "In fact and to go further this principle of convolution will also be widely used in Deep Learning.\n",
    "\n",
    "More information about convolution : [here](https://perso.esiee.fr/~perretb/I5FM/TAI/convolution/index.html) or  [here](https://setosa.io/ev/image-kernels/)\n",
    "\n",
    "$$\n",
    "\\begin{align}\n",
    "\\forall (x,y)\\in\\mathbb{Z}^2, (f*g)(x,y)=\\sum_{i=-\\infty}^{\\infty}\\sum_{j=-\\infty}^{\\infty}f(i,j)g(x-i,y-j)\n",
    "\\end{align}\n",
    "$$\n",
    "\n",
    "Let's define this example of kernel:</p>"
   ]
  },
  {
   "cell_type": "code",
   "execution_count": null,
   "id": "64c075f4",
   "metadata": {
    "deletable": false,
    "editable": false
   },
   "outputs": [],
   "source": [
    "kernel = np.ones((3, 3), np.float32)/2\n",
    "\n",
    "print(f'Kernel : \\n {kernel}')"
   ]
  },
  {
   "cell_type": "markdown",
   "id": "dd90459b",
   "metadata": {
    "deletable": false,
    "editable": false,
    "run_control": {
     "frozen": true
    }
   },
   "source": [
    "<br>Our image array is define like this: <br>"
   ]
  },
  {
   "cell_type": "code",
   "execution_count": null,
   "id": "b234749c",
   "metadata": {
    "deletable": false,
    "editable": false
   },
   "outputs": [],
   "source": [
    "print(f'Image Example : \\n {image_array}')"
   ]
  },
  {
   "cell_type": "markdown",
   "id": "3e7a533c",
   "metadata": {
    "deletable": false,
    "editable": false,
    "run_control": {
     "frozen": true
    }
   },
   "source": [
    "<br>Let's apply our kernel to our image defined above:<br>"
   ]
  },
  {
   "cell_type": "code",
   "execution_count": null,
   "id": "124682af",
   "metadata": {
    "deletable": false,
    "editable": false
   },
   "outputs": [],
   "source": [
    "imgconvol = signal.convolve2d(image_array,\n",
    "                              kernel, mode='same',\n",
    "                              )\n",
    "\n",
    "print(f'Image_conv_kernel : \\n {imgconvol}')"
   ]
  },
  {
   "cell_type": "markdown",
   "id": "865469c2",
   "metadata": {
    "deletable": false,
    "editable": false,
    "run_control": {
     "frozen": true
    }
   },
   "source": [
    "<br>And the plot will gives:<br>"
   ]
  },
  {
   "cell_type": "code",
   "execution_count": null,
   "id": "5dc0a3f4",
   "metadata": {
    "deletable": false,
    "editable": false
   },
   "outputs": [],
   "source": [
    "fig, axes = plt.subplots(nrows=1, ncols=2, figsize=(10, 8))\n",
    "\n",
    "axes[0].imshow(image_array, 'gray')\n",
    "axes[1].imshow(imgconvol, 'gray');"
   ]
  },
  {
   "cell_type": "markdown",
   "id": "8626e61e",
   "metadata": {
    "deletable": false,
    "editable": false,
    "run_control": {
     "frozen": true
    }
   },
   "source": [
    "<br>\n",
    "<p style=\"font-size:20px;color:#004475\">IX.2. Filters</p>\n",
    "<br>"
   ]
  },
  {
   "cell_type": "markdown",
   "id": "7e2adcbb",
   "metadata": {
    "deletable": false,
    "editable": false,
    "run_control": {
     "frozen": true
    }
   },
   "source": [
    "<br>\n",
    "<p style=\"font-size:17px;color:#004475\">IX.2.a. Increase contrast</p>\n",
    "<br>"
   ]
  },
  {
   "cell_type": "markdown",
   "id": "d0ce9fcc",
   "metadata": {
    "deletable": false,
    "editable": false,
    "run_control": {
     "frozen": true
    }
   },
   "source": [
    "In the following Python code we will define a kernel to increase the contrast of our grayscale image:"
   ]
  },
  {
   "cell_type": "code",
   "execution_count": null,
   "id": "cd036183",
   "metadata": {
    "deletable": false,
    "editable": false
   },
   "outputs": [],
   "source": [
    "kernel_inccontrast = np.array([[0, 0, 0, 0, 0],\n",
    "                               [0, 0, -1, 0, 0],\n",
    "                               [0, -1, 5, -1, 0],\n",
    "                               [0, 0, -1, 0, 0],\n",
    "                               [0, 0, 0, 0, 0]])\n",
    "\n",
    "Res = signal.convolve2d(my_gray_array_image,\n",
    "                        kernel,\n",
    "                        boundary='symm',\n",
    "                        mode='same')\n",
    "\n",
    "fig, axes = plt.subplots(nrows=1, ncols=2, figsize=(10, 8))\n",
    "\n",
    "axes[0].imshow(my_gray_array_image, 'gray')\n",
    "axes[1].imshow(Res, 'gray');"
   ]
  },
  {
   "cell_type": "markdown",
   "id": "3f8cfcf1",
   "metadata": {
    "deletable": false,
    "editable": false,
    "run_control": {
     "frozen": true
    }
   },
   "source": [
    "<br>\n",
    "<p style=\"font-size:17px;color:#004475\">IX.2.b. Blur</p>\n",
    "<br>"
   ]
  },
  {
   "cell_type": "markdown",
   "id": "0ca7835e",
   "metadata": {
    "deletable": false,
    "editable": false,
    "run_control": {
     "frozen": true
    }
   },
   "source": [
    "<p style=\"text-align: justify;text-indent: 30px\"> A classic and very useful example of image convolution is Gaussian blurring of images. In essence, the (grayscale) image I is convolved with a Gaussian kernel to create a blurred version\n",
    "\n",
    "$$\n",
    "\\begin{align}\n",
    "I_{\\sigma} = I * G_{\\sigma}\n",
    "\\end{align}\n",
    "$$\n",
    "\n",
    "where * indicates convolution and $G_{\\sigma}$ is a Gaussian 2D-kernel with standard deviation ${\\sigma}$ defined as\n",
    "\n",
    "$$\n",
    "\\begin{align}\n",
    "G_{\\sigma} = \\frac{1}{2 \\pi \\sigma} \\exp(-\\frac{x^2 + y^2}{2 \\sigma ^2})\n",
    "\\end{align}\n",
    "$$\n",
    "\n",
    "Gaussian blurring is used to define an image scale to work in, for interpolation, for computing interest points, and in many more applications.</p>"
   ]
  },
  {
   "cell_type": "code",
   "execution_count": null,
   "id": "082a4edc",
   "metadata": {
    "deletable": false,
    "editable": false
   },
   "outputs": [],
   "source": [
    "def gaussian_filter(k=5, sigma=1.0):\n",
    "    '''Gaussian filter\n",
    "    :param k: defines the lateral size of the kernel/filter, default 5\n",
    "    :param sigma: standard deviation (dispersion) of the Gaussian distribution\n",
    "    :return matrix with a filter [k x k] to be used in convolution operations\n",
    "    '''\n",
    "    arx = np.arange((-k // 2) + 1.0, (k // 2) + 1.0)\n",
    "    x, y = np.meshgrid(arx, arx)\n",
    "    filt = np.exp(-(1/2) * (np.square(x) + np.square(y)) / np.square(sigma))\n",
    "    return filt / np.sum(filt)\n",
    "\n",
    "\n",
    "G = gaussian_filter(k=50, sigma=100)\n",
    "\n",
    "Res = signal.convolve2d(my_gray_array_image,\n",
    "                        G,\n",
    "                        boundary='symm',\n",
    "                        mode='same')\n",
    "\n",
    "fig, axes = plt.subplots(nrows=1, ncols=2, figsize=(10, 8))\n",
    "\n",
    "axes[0].imshow(my_gray_array_image, 'gray')\n",
    "axes[1].imshow(Res, 'gray');"
   ]
  },
  {
   "cell_type": "markdown",
   "id": "eebc288f",
   "metadata": {
    "deletable": false,
    "editable": false,
    "run_control": {
     "frozen": true
    }
   },
   "source": [
    "<br><b>SciPy</b> comes with a module for filtering called <b>scipy.ndimage.filters</b> that can be used to compute these convolutions using a fast 1D separation.</br>"
   ]
  },
  {
   "cell_type": "code",
   "execution_count": null,
   "id": "88bec3a3",
   "metadata": {
    "deletable": false,
    "editable": false
   },
   "outputs": [],
   "source": [
    "my_blurring_image_10 = filters.gaussian_filter(my_gray_image, 10)\n",
    "my_blurring_image_50 = filters.gaussian_filter(my_gray_image, 50)\n",
    "my_blurring_image_100 = filters.gaussian_filter(my_gray_image, 100)\n",
    "\n",
    "fig, axes = plt.subplots(nrows=1, ncols=3, figsize=(16, 12))\n",
    "\n",
    "axes[0].imshow(Image.fromarray(my_blurring_image_10), \"gray\")\n",
    "axes[1].imshow(Image.fromarray(my_blurring_image_50), \"gray\")\n",
    "axes[2].imshow(Image.fromarray(my_blurring_image_100), \"gray\")\n",
    "\n",
    "axes[0].title.set_text(\"sigma =  10\")\n",
    "axes[1].title.set_text(\"sigma =  50\")\n",
    "axes[2].title.set_text(\"sigma = 100\")"
   ]
  },
  {
   "cell_type": "markdown",
   "id": "72e5503d",
   "metadata": {
    "deletable": false,
    "editable": false,
    "solution2": "hidden",
    "solution2_first": true
   },
   "source": [
    "<span style=\"color:#004475\"><b> Exercise 5: Blur the colored image named my_color_image.</span>"
   ]
  },
  {
   "cell_type": "code",
   "execution_count": null,
   "id": "1cc42c97",
   "metadata": {
    "deletable": false,
    "editable": false,
    "scrolled": false,
    "solution2": "hidden"
   },
   "outputs": [],
   "source": [
    "my_array_color_image = np.asanyarray(my_color_image)\n",
    "my_blurring_image = np.zeros(my_array_color_image.shape)\n",
    "\n",
    "for i in range(3):\n",
    "    my_blurring_image[:, :, i] = filters.gaussian_filter(\n",
    "        my_array_color_image[:, :, i], 20)\n",
    "\n",
    "my_blurring_image = np.uint8(my_blurring_image)\n",
    "\n",
    "fig, axes = plt.subplots(nrows=1, ncols=2, figsize=(16, 12))\n",
    "\n",
    "axes[0].imshow(my_color_image)\n",
    "axes[1].imshow(Image.fromarray(my_blurring_image));"
   ]
  },
  {
   "cell_type": "code",
   "execution_count": null,
   "id": "bc365b0b",
   "metadata": {},
   "outputs": [],
   "source": [
    "# Enter your code here\n"
   ]
  },
  {
   "cell_type": "markdown",
   "id": "9bfb5571",
   "metadata": {
    "deletable": false,
    "editable": false,
    "run_control": {
     "frozen": true
    }
   },
   "source": [
    "<br>\n",
    "<p style=\"font-size:17px;color:#004475\">IX.2.c. Edge filter</p>\n",
    "<br>"
   ]
  },
  {
   "cell_type": "code",
   "execution_count": null,
   "id": "f05b11b5",
   "metadata": {
    "deletable": false,
    "editable": false
   },
   "outputs": [],
   "source": [
    "camera = data.camera()\n",
    "\n",
    "kernel_contour = np.array([[0, 1, 0],\n",
    "                           [1, -4, 1],\n",
    "                           [0, 1, 0]])\n",
    "\n",
    "Res = signal.convolve2d(camera,\n",
    "                        kernel_contour,\n",
    "                        boundary='symm',\n",
    "                        mode='same')\n",
    "\n",
    "fig, axes = plt.subplots(nrows=1, ncols=2, figsize=(10, 8))\n",
    "\n",
    "axes[0].imshow(camera, 'gray')\n",
    "axes[1].imshow(Res, 'gray');"
   ]
  },
  {
   "cell_type": "markdown",
   "id": "2b5c092c",
   "metadata": {
    "deletable": false,
    "editable": false,
    "run_control": {
     "frozen": true
    }
   },
   "source": [
    "You can find more filters by clicking on this link: [Some other filters](https://en.wikipedia.org/wiki/Kernel_(image_processing))"
   ]
  },
  {
   "cell_type": "markdown",
   "id": "0450a36c",
   "metadata": {
    "deletable": false,
    "editable": false,
    "run_control": {
     "frozen": true
    }
   },
   "source": [
    "<br>\n",
    "<p style=\"font-size:30px;color:#004475\">X. Rotation</p>\n",
    "<br>"
   ]
  },
  {
   "cell_type": "code",
   "execution_count": null,
   "id": "23e15c7d",
   "metadata": {
    "deletable": false,
    "editable": false
   },
   "outputs": [],
   "source": [
    "my_rotation_1 = my_color_image.rotate(90, expand=True)\n",
    "my_rotation_2 = my_color_image.rotate(180, expand=True)\n",
    "my_rotation_3 = my_color_image.rotate(270, expand=True)\n",
    "my_rotation_4 = my_color_image.rotate(360, expand=True)\n",
    "\n",
    "fig, axes = plt.subplots(nrows=2, ncols=2, figsize=(18, 12))\n",
    "\n",
    "axes[0, 0].imshow(my_rotation_1)\n",
    "axes[0, 1].imshow(my_rotation_2)\n",
    "axes[1, 0].imshow(my_rotation_3)\n",
    "axes[1, 1].imshow(my_rotation_4);"
   ]
  },
  {
   "cell_type": "markdown",
   "id": "d5b12488",
   "metadata": {
    "deletable": false,
    "editable": false,
    "run_control": {
     "frozen": true
    }
   },
   "source": [
    "<br>\n",
    "<p style=\"font-size:30px;color:#004475\">XI. Translation</p>\n",
    "<br> "
   ]
  },
  {
   "cell_type": "markdown",
   "id": "78fafb21",
   "metadata": {
    "deletable": false,
    "editable": false,
    "run_control": {
     "frozen": true
    }
   },
   "source": [
    "<p style=\"text-align: justify;text-indent: 30px\"><b>PIL</b> allow to apply an affine transformation matrix (given as 6-tuple (a,b,c,d,e,f) with <b>transform</b> method by applying the method <b>AFFINE</b> from the package Image. For each pixel (x, y), the output will be calculated as (ax+by+c, dx+ey+f).\n",
    "\n",
    "So if you want to apply a translation, you only have to look at the c and f values of your matrix.</p>"
   ]
  },
  {
   "cell_type": "code",
   "execution_count": null,
   "id": "755718b9",
   "metadata": {
    "deletable": false,
    "editable": false
   },
   "outputs": [],
   "source": [
    "my_tranlation_1 = my_color_image.transform(\n",
    "    my_color_image.size, Image.AFFINE, (1, 0, 300, 0, 1, 300))\n",
    "my_tranlation_2 = my_color_image.transform(\n",
    "    my_color_image.size, Image.AFFINE, (1, 0, -300, 0, 1, 300))\n",
    "my_tranlation_3 = my_color_image.transform(\n",
    "    my_color_image.size, Image.AFFINE, (1, 0, 300, 0, 1, -300))\n",
    "my_tranlation_4 = my_color_image.transform(\n",
    "    my_color_image.size, Image.AFFINE, (1, 0, -300, 0, 1, -300))\n",
    "\n",
    "fig, axes = plt.subplots(nrows=2, ncols=2, figsize=(18, 12))\n",
    "\n",
    "axes[0, 0].imshow(my_tranlation_1)\n",
    "axes[0, 1].imshow(my_tranlation_2)\n",
    "axes[1, 0].imshow(my_tranlation_3)\n",
    "axes[1, 1].imshow(my_tranlation_4)"
   ]
  },
  {
   "cell_type": "markdown",
   "id": "b7db1e18",
   "metadata": {
    "deletable": false,
    "editable": false,
    "run_control": {
     "frozen": true
    }
   },
   "source": [
    "<br>\n",
    "<p style=\"font-size:30px;color:#004475\">XII. Scaling - Standardization</p>\n",
    "<br>"
   ]
  },
  {
   "cell_type": "markdown",
   "id": "63687a3c",
   "metadata": {
    "deletable": false,
    "editable": false,
    "run_control": {
     "frozen": true
    }
   },
   "source": [
    "<p style=\"text-align: justify;text-indent: 30px\">These technical tools allow to reduce all your image pixel values in same interval. It is very useful in machine learning especially when you are using models using optimization algorithms such as Gradient Descent for example.</p>"
   ]
  },
  {
   "cell_type": "code",
   "execution_count": null,
   "id": "9796378b",
   "metadata": {
    "deletable": false,
    "editable": false
   },
   "outputs": [],
   "source": [
    "def standardize(ar):\n",
    "    mean = np.mean(ar, axis=(1, 2), keepdims=True)\n",
    "    std = np.std(ar, axis=(1, 2), keepdims=True)\n",
    "    out = (ar - mean) / std\n",
    "    return out\n",
    "\n",
    "\n",
    "def min_max_scale(ar):\n",
    "    Max = np.max(ar, axis=(1, 2), keepdims=True)\n",
    "    Min = np.min(ar, axis=(1, 2), keepdims=True)\n",
    "    out = (ar - Min) / (Max - Min)\n",
    "    return out\n",
    "\n",
    "\n",
    "my_standardized_image = standardize(my_color_image)\n",
    "my_scaled_image = min_max_scale(my_color_image)\n",
    "\n",
    "\n",
    "fig, axes = plt.subplots(nrows=1, ncols=2, figsize=(16, 12))\n",
    "\n",
    "axes[0].imshow(my_standardized_image)\n",
    "axes[1].imshow(my_scaled_image)\n",
    "\n",
    "axes[0].title.set_text(\"Standardization\")\n",
    "axes[1].title.set_text(\"min_max_scale\")"
   ]
  },
  {
   "cell_type": "markdown",
   "id": "4b99edb7",
   "metadata": {
    "deletable": false,
    "editable": false
   },
   "source": [
    "<br>\n",
    "<p style=\"font-size:30px;color:#004475\">XIII. Zooming & shrinking</p>\n",
    "<br>"
   ]
  },
  {
   "cell_type": "markdown",
   "id": "a21fa31d",
   "metadata": {
    "deletable": false,
    "editable": false,
    "run_control": {
     "frozen": true
    }
   },
   "source": [
    "<p style=\"text-align: justify;text-indent: 30px\">An image (or regions of an image) can be zoomed either through pixel replication or interpolation : \n",
    "    \n",
    "- Replication simply replaces each original image pixel by a group of pixels with the same value. \n",
    "- Alternatively, interpolation of the values of neighboring pixels in the original image can be performed in order to replace each pixel with an expanded group of pixels. \n",
    "\n",
    "Shrinking is a kind of sub-sampling :  \n",
    "- Method 1 : One pixel value within a local neighborhood is chosen (perhaps randomly) to be representative of its surroundings. This method is computationally simple, but can lead to poor results if the sampling neighborhoods are too large. \n",
    "- Method 2 : Interpolates between pixel values within a neighborhood by taking a statistical sample (such as the mean) of the local intensity values.\n",
    "</p>"
   ]
  },
  {
   "cell_type": "markdown",
   "id": "52713a61",
   "metadata": {
    "deletable": false,
    "editable": false,
    "run_control": {
     "frozen": true
    }
   },
   "source": [
    "<p align=\"center\">\n",
    "  <a>\n",
    "    <img src=\"../src/figures/zoom.png\" style=\"width=:75%\">\n",
    "  </a>\n",
    "</p>"
   ]
  },
  {
   "cell_type": "code",
   "execution_count": null,
   "id": "bcf0b3da",
   "metadata": {
    "deletable": false,
    "editable": false
   },
   "outputs": [],
   "source": [
    "Zoomed = ndimage.zoom(camera, 3.0)\n",
    "\n",
    "Shrinkage = ndimage.zoom(camera, 0.2)\n",
    "\n",
    "fig, axes = plt.subplots(nrows=1, ncols=3, figsize=(16, 12))\n",
    "\n",
    "axes[0].imshow(camera)\n",
    "axes[1].imshow(Shrinkage)\n",
    "axes[2].imshow(Zoomed[150:700, 400:800])\n",
    "\n",
    "axes[0].title.set_text(\"Image\")\n",
    "axes[1].title.set_text(\"Shrinked image\")\n",
    "axes[2].title.set_text(\"Zoomed image\")"
   ]
  },
  {
   "cell_type": "markdown",
   "id": "e7c1b45c",
   "metadata": {
    "deletable": false,
    "editable": false,
    "run_control": {
     "frozen": true
    }
   },
   "source": [
    "<span style=\"font-size:20px;color:#004475\"><b>Go further!</b></span>\n",
    "<br>\n",
    "<br>\n",
    "<span>Some powerful libraries are widely used in image processing and offer many tools to prepare your data for modeling :\n",
    "\n",
    "- [OpenCV](https://docs.opencv.org/4.5.5/) \n",
    "- [Keras image preprocessing](https://keras.io/api/preprocessing/image/#imagedatagenerator-class)\n",
    "\n",
    "In the next session, we will see how can we define a pipeline image processing for a Computer Vision algorithm.</span>"
   ]
  },
  {
   "cell_type": "markdown",
   "id": "104020fe",
   "metadata": {
    "deletable": false,
    "editable": false,
    "run_control": {
     "frozen": true
    }
   },
   "source": [
    "<span style=\"font-size:20px;color:#004475\"><b>Sources</b></span>\n",
    "<br>\n",
    "<br>\n",
    "<span>\n",
    "- http://images.math.cnrs.fr/Le-traitement-numerique-des-images.html\n",
    "- https://www.oreilly.com/library/view/programming-computer-vision/9781449341916/ch01.html\n",
    "- https://neptune.ai/blog/what-image-processing-techniques-are-actually-used-in-the-ml-industry\n",
    "- https://e2eml.school/convert_rgb_to_grayscale.html</span>"
   ]
  },
  {
   "cell_type": "markdown",
   "id": "aaa2ae28",
   "metadata": {
    "deletable": false,
    "editable": false,
    "run_control": {
     "frozen": true
    }
   },
   "source": [
    "<br>\n",
    "<body style=\"text-align:center\">\n",
    "    <p style=\"color:#004475;\"><span class=\"info\">&#x1F6C8;</span>\n",
    "        You will be able to participate in a Q&A session of this course/exercise, which will take place on February 3 at 6:00 pm. You can already register on Zoom by clicking on this <a href=\"https://telecom-paris.zoom.us/webinar/register/WN_QAQLAzC6RJWKVtovPGX3yg\">LINK</a>.</p>\n",
    "</body>\n",
    "<br>"
   ]
  },
  {
   "cell_type": "code",
   "execution_count": null,
   "id": "6036b8d6",
   "metadata": {
    "deletable": false,
    "editable": false,
    "hide_input": false,
    "scrolled": false
   },
   "outputs": [],
   "source": [
    "IFrame('https://forms.office.com/Pages/ResponsePage.aspx?id=Wq6idgCfa0-V7V0z13xNYRuZGuA1WotGr0y_467ZG3dURU5UVjZISVVBOVg2WDg0WTZDOVJWMkNCSy4u&embed=true', \"100%\", 480)"
   ]
  },
  {
   "cell_type": "markdown",
   "id": "cebf81ef",
   "metadata": {
    "deletable": false,
    "editable": false,
    "run_control": {
     "frozen": true
    }
   },
   "source": [
    "<p style=\"text-align:center;color:#004475;font-size:20px\"><b>*** End ***</b></p>"
   ]
  }
 ],
 "metadata": {
  "celltoolbar": "Aucun(e)",
  "kernelspec": {
   "display_name": "Python 3 (ipykernel)",
   "language": "python",
   "name": "python3"
  },
  "language_info": {
   "codemirror_mode": {
    "name": "ipython",
    "version": 3
   },
   "file_extension": ".py",
   "mimetype": "text/x-python",
   "name": "python",
   "nbconvert_exporter": "python",
   "pygments_lexer": "ipython3",
   "version": "3.8.12"
  },
  "toc": {
   "base_numbering": 1,
   "nav_menu": {},
   "number_sections": true,
   "sideBar": true,
   "skip_h1_title": false,
   "title_cell": "Table of Contents",
   "title_sidebar": "Contents",
   "toc_cell": false,
   "toc_position": {},
   "toc_section_display": true,
   "toc_window_display": false
  }
 },
 "nbformat": 4,
 "nbformat_minor": 5
}
